{
 "cells": [
  {
   "cell_type": "markdown",
   "metadata": {},
   "source": [
    "### Informasi Dataset\n",
    "Data yang disediakan terkait dengan kampanye pemasaran langsung dari lembaga perbankan Portugis. Kampanye pemasaran didasarkan pada panggilan telepon. Seringkali, lebih dari satu kontak ke klien yang sama diperlukan, untuk mengakses apakah produk (deposit berjangka bank) akan ('ya') atau ('tidak') tidak berlangganan. Deposit adalah istilah dalam keuangan yang dapat diartikan sebagai transfer dana ke pihak lain seperti bank untuk diamankan. Selain itu, deposit juga bisa mengacu pada saat sebagian dana digunakan sebagai jaminan sebelum bisa memperoleh sebuah barang.\n",
    "\n",
    "Ada empat dataset:\n",
    "\n",
    "- bank-additional-full.csv dengan semua contoh (41188) dan 20 input, diurutkan berdasarkan tanggal (dari Mei 2008 hingga November 2010), sangat dekat dengan data yang dianalisis dalam [Moro et al., 2014]\n",
    "- bank-additional.csv dengan 10% contoh (4119), dipilih secara acak dari 1), dan 20 masukan.\n",
    "- bank-full.csv dengan semua contoh dan 17 input, diurutkan berdasarkan tanggal (versi lama dari kumpulan data ini dengan input yang lebih sedikit).\n",
    "- bank.csv dengan 10% contoh dan 17 masukan, dipilih secara acak dari 3 (versi lama kumpulan data ini dengan masukan lebih sedikit).\n",
    "\n",
    "Kumpulan data terkecil disediakan untuk menguji algoritme pembelajaran mesin yang menuntut komputas (mis., SVM).\n",
    "\n",
    "Dataset ini berisi\n",
    "#### Input var\n",
    "\n",
    "- bank client data: </br>\n",
    "1 - age (numeric)\n",
    "2 - job : type of job (categorical: 'admin.','blue-collar','entrepreneur','housemaid','management','retired','self-employed','services','student','technician','unemployed','unknown')\n",
    "3 - marital : marital status (categorical: 'divorced','married','single','unknown'; note: 'divorced' means divorced or widowed)\n",
    "4 - education (categorical: 'basic.4y','basic.6y','basic.9y','high.school','illiterate','professional.course','university.degree','unknown')\n",
    "5 - default: has credit in default?(categorical: 'no', 'yes', 'unknown')\n",
    "6 - housing: has housing loan?(categorical: 'no', 'yes', 'unknown')\n",
    "7 - loan: has personal loan?(categorical: 'no', 'yes', 'unknown')\n",
    "- related with the last contact of the current campaign:</br>\n",
    "8 - contact: contact communication type (categorical: 'cellular', 'telephone')\n",
    "9 - month: last contact month of year (categorical: 'jan', 'feb', 'mar', ..., 'nov', 'dec')\n",
    "10 - day_of_week: last contact day of the week (categorical: 'mon', 'tue', 'wed', 'thu', 'fri')\n",
    "11 - duration: last contact duration, in seconds (numeric).Important note: this attribute highly affects the output target (e.g., if duration=0 then y='no').Yet, the duration is not known before a call is performed.Also, after the end of the call y is obviously known.Thus, this input should only be included for benchmark purposes and should be discarded if the intention is to have a realistic predictive model.\n",
    "\n",
    "- other attributes:</br>\n",
    "12 - campaign: number of contacts performed during this campaign and for this client (numeric, includes last contact)\n",
    "13 - pdays: number of days that passed by after the client was last contacted from a previous campaign (numeric; 999 means client was not previously contacted)\n",
    "14 - previous: number of contacts performed before this campaign and for this client (numeric)\n",
    "15 - poutcome: outcome of the previous marketing campaign (categorical: 'failure', 'nonexistent', 'success')\n",
    "- social and economic context attributes </br>\n",
    "16 - emp.var.rate: employment variation rate - quarterly indicator (numeric)\n",
    "17 - cons.price.idx: consumer price index - monthly indicator (numeric)\n",
    "18 - cons.conf.idx: consumer confidence index - monthly indicator (numeric)\n",
    "19 - euribor3m: euribor 3 month rate - daily indicator (numeric)\n",
    "20 - nr.employed: number of employees - quarterly indicator (numeric)"
   ]
  },
  {
   "cell_type": "markdown",
   "metadata": {},
   "source": [
    "### Permasalahan\n",
    "Menentukan strategi terbaik untuk ditingkatkan pada kampanye pemasaran berikutnya. Bagaimana lembaga keuangan memiliki efektivitas yang lebih besar untuk kampanye pemasaran di masa depan? Untuk menjawab ini, kita harus menganalisis kampanye pemasaran terakhir yang dilakukan bank dan mengidentifikasi pola yang akan membantu kita menemukan kesimpulan untuk mengembangkan strategi masa depan."
   ]
  },
  {
   "cell_type": "markdown",
   "metadata": {},
   "source": [
    "### Install Pustaka"
   ]
  },
  {
   "cell_type": "code",
   "execution_count": 1,
   "metadata": {},
   "outputs": [],
   "source": [
    "# Data processing\n",
    "import pandas as pd\n",
    "import numpy as np\n",
    "from collections import Counter\n",
    "\n",
    "# visualization tools\n",
    "import matplotlib.pyplot as plt\n",
    "import seaborn as sns\n",
    "from matplotlib.gridspec import GridSpec\n",
    "cols= ['#00876c','#85b96f','#f7e382','#f19452','#d43d51']\n",
    "\n",
    "# Machine learning process\n",
    "from sklearn.model_selection import train_test_split, cross_val_score, GridSearchCV, KFold\n",
    "from sklearn.preprocessing import LabelEncoder, MinMaxScaler, StandardScaler\n",
    "from sklearn.impute import SimpleImputer\n",
    "from sklearn.pipeline import Pipeline\n",
    "from sklearn.naive_bayes import GaussianNB\n",
    "from sklearn.tree import DecisionTreeClassifier\n",
    "from sklearn.neighbors import KNeighborsClassifier\n",
    "from sklearn.ensemble import RandomForestClassifier\n",
    "from sklearn.svm import SVC\n",
    "from sklearn.linear_model import LogisticRegression\n",
    "from sklearn import metrics\n",
    "\n",
    "\n",
    "# features analysis libraries\n",
    "from sklearn.feature_selection import SelectKBest\n",
    "from sklearn.feature_selection import f_classif\n",
    "from sklearn.feature_selection import chi2,mutual_info_classif\n",
    "from sklearn.decomposition import PCA\n",
    "\n",
    "%matplotlib inline"
   ]
  },
  {
   "cell_type": "markdown",
   "metadata": {},
   "source": [
    "### Loading Data"
   ]
  },
  {
   "cell_type": "code",
   "execution_count": 2,
   "metadata": {},
   "outputs": [],
   "source": [
    "# menggunakan dua dataset yang full.\n",
    "bank_df = pd.read_excel('dataset/bank-additional-full.xlsx')"
   ]
  },
  {
   "cell_type": "code",
   "execution_count": 3,
   "metadata": {},
   "outputs": [
    {
     "data": {
      "text/html": [
       "<div>\n",
       "<style scoped>\n",
       "    .dataframe tbody tr th:only-of-type {\n",
       "        vertical-align: middle;\n",
       "    }\n",
       "\n",
       "    .dataframe tbody tr th {\n",
       "        vertical-align: top;\n",
       "    }\n",
       "\n",
       "    .dataframe thead th {\n",
       "        text-align: right;\n",
       "    }\n",
       "</style>\n",
       "<table border=\"1\" class=\"dataframe\">\n",
       "  <thead>\n",
       "    <tr style=\"text-align: right;\">\n",
       "      <th></th>\n",
       "      <th>age</th>\n",
       "      <th>job</th>\n",
       "      <th>marital</th>\n",
       "      <th>education</th>\n",
       "      <th>default</th>\n",
       "      <th>housing</th>\n",
       "      <th>loan</th>\n",
       "      <th>contact</th>\n",
       "      <th>month</th>\n",
       "      <th>day_of_week</th>\n",
       "      <th>...</th>\n",
       "      <th>campaign</th>\n",
       "      <th>pdays</th>\n",
       "      <th>previous</th>\n",
       "      <th>poutcome</th>\n",
       "      <th>emp.var.rate</th>\n",
       "      <th>cons.price.idx</th>\n",
       "      <th>cons.conf.idx</th>\n",
       "      <th>euribor3m</th>\n",
       "      <th>nr.employed</th>\n",
       "      <th>y</th>\n",
       "    </tr>\n",
       "  </thead>\n",
       "  <tbody>\n",
       "    <tr>\n",
       "      <th>0</th>\n",
       "      <td>56</td>\n",
       "      <td>housemaid</td>\n",
       "      <td>married</td>\n",
       "      <td>basic.4y</td>\n",
       "      <td>no</td>\n",
       "      <td>no</td>\n",
       "      <td>no</td>\n",
       "      <td>telephone</td>\n",
       "      <td>may</td>\n",
       "      <td>mon</td>\n",
       "      <td>...</td>\n",
       "      <td>1</td>\n",
       "      <td>999</td>\n",
       "      <td>0</td>\n",
       "      <td>nonexistent</td>\n",
       "      <td>1.1</td>\n",
       "      <td>93994.0</td>\n",
       "      <td>-36.4</td>\n",
       "      <td>4857.0</td>\n",
       "      <td>5191.0</td>\n",
       "      <td>no</td>\n",
       "    </tr>\n",
       "    <tr>\n",
       "      <th>1</th>\n",
       "      <td>57</td>\n",
       "      <td>services</td>\n",
       "      <td>married</td>\n",
       "      <td>high.school</td>\n",
       "      <td>unknown</td>\n",
       "      <td>no</td>\n",
       "      <td>no</td>\n",
       "      <td>telephone</td>\n",
       "      <td>may</td>\n",
       "      <td>mon</td>\n",
       "      <td>...</td>\n",
       "      <td>1</td>\n",
       "      <td>999</td>\n",
       "      <td>0</td>\n",
       "      <td>nonexistent</td>\n",
       "      <td>1.1</td>\n",
       "      <td>93994.0</td>\n",
       "      <td>-36.4</td>\n",
       "      <td>4857.0</td>\n",
       "      <td>5191.0</td>\n",
       "      <td>no</td>\n",
       "    </tr>\n",
       "    <tr>\n",
       "      <th>2</th>\n",
       "      <td>37</td>\n",
       "      <td>services</td>\n",
       "      <td>married</td>\n",
       "      <td>high.school</td>\n",
       "      <td>no</td>\n",
       "      <td>yes</td>\n",
       "      <td>no</td>\n",
       "      <td>telephone</td>\n",
       "      <td>may</td>\n",
       "      <td>mon</td>\n",
       "      <td>...</td>\n",
       "      <td>1</td>\n",
       "      <td>999</td>\n",
       "      <td>0</td>\n",
       "      <td>nonexistent</td>\n",
       "      <td>1.1</td>\n",
       "      <td>93994.0</td>\n",
       "      <td>-36.4</td>\n",
       "      <td>4857.0</td>\n",
       "      <td>5191.0</td>\n",
       "      <td>no</td>\n",
       "    </tr>\n",
       "    <tr>\n",
       "      <th>3</th>\n",
       "      <td>40</td>\n",
       "      <td>admin.</td>\n",
       "      <td>married</td>\n",
       "      <td>basic.6y</td>\n",
       "      <td>no</td>\n",
       "      <td>no</td>\n",
       "      <td>no</td>\n",
       "      <td>telephone</td>\n",
       "      <td>may</td>\n",
       "      <td>mon</td>\n",
       "      <td>...</td>\n",
       "      <td>1</td>\n",
       "      <td>999</td>\n",
       "      <td>0</td>\n",
       "      <td>nonexistent</td>\n",
       "      <td>1.1</td>\n",
       "      <td>93994.0</td>\n",
       "      <td>-36.4</td>\n",
       "      <td>4857.0</td>\n",
       "      <td>5191.0</td>\n",
       "      <td>no</td>\n",
       "    </tr>\n",
       "    <tr>\n",
       "      <th>4</th>\n",
       "      <td>56</td>\n",
       "      <td>services</td>\n",
       "      <td>married</td>\n",
       "      <td>high.school</td>\n",
       "      <td>no</td>\n",
       "      <td>no</td>\n",
       "      <td>yes</td>\n",
       "      <td>telephone</td>\n",
       "      <td>may</td>\n",
       "      <td>mon</td>\n",
       "      <td>...</td>\n",
       "      <td>1</td>\n",
       "      <td>999</td>\n",
       "      <td>0</td>\n",
       "      <td>nonexistent</td>\n",
       "      <td>1.1</td>\n",
       "      <td>93994.0</td>\n",
       "      <td>-36.4</td>\n",
       "      <td>4857.0</td>\n",
       "      <td>5191.0</td>\n",
       "      <td>no</td>\n",
       "    </tr>\n",
       "  </tbody>\n",
       "</table>\n",
       "<p>5 rows × 21 columns</p>\n",
       "</div>"
      ],
      "text/plain": [
       "   age        job  marital    education  default housing loan    contact  \\\n",
       "0   56  housemaid  married     basic.4y       no      no   no  telephone   \n",
       "1   57   services  married  high.school  unknown      no   no  telephone   \n",
       "2   37   services  married  high.school       no     yes   no  telephone   \n",
       "3   40     admin.  married     basic.6y       no      no   no  telephone   \n",
       "4   56   services  married  high.school       no      no  yes  telephone   \n",
       "\n",
       "  month day_of_week  ...  campaign  pdays  previous     poutcome emp.var.rate  \\\n",
       "0   may         mon  ...         1    999         0  nonexistent          1.1   \n",
       "1   may         mon  ...         1    999         0  nonexistent          1.1   \n",
       "2   may         mon  ...         1    999         0  nonexistent          1.1   \n",
       "3   may         mon  ...         1    999         0  nonexistent          1.1   \n",
       "4   may         mon  ...         1    999         0  nonexistent          1.1   \n",
       "\n",
       "   cons.price.idx  cons.conf.idx  euribor3m  nr.employed   y  \n",
       "0         93994.0          -36.4     4857.0       5191.0  no  \n",
       "1         93994.0          -36.4     4857.0       5191.0  no  \n",
       "2         93994.0          -36.4     4857.0       5191.0  no  \n",
       "3         93994.0          -36.4     4857.0       5191.0  no  \n",
       "4         93994.0          -36.4     4857.0       5191.0  no  \n",
       "\n",
       "[5 rows x 21 columns]"
      ]
     },
     "execution_count": 3,
     "metadata": {},
     "output_type": "execute_result"
    }
   ],
   "source": [
    "# Menampilkan 5 data teratas\n",
    "bank_df.head()"
   ]
  },
  {
   "cell_type": "code",
   "execution_count": 4,
   "metadata": {},
   "outputs": [
    {
     "name": "stdout",
     "output_type": "stream",
     "text": [
      "<class 'pandas.core.frame.DataFrame'>\n",
      "RangeIndex: 41188 entries, 0 to 41187\n",
      "Data columns (total 21 columns):\n",
      " #   Column          Non-Null Count  Dtype  \n",
      "---  ------          --------------  -----  \n",
      " 0   age             41188 non-null  int64  \n",
      " 1   job             41188 non-null  object \n",
      " 2   marital         41188 non-null  object \n",
      " 3   education       41188 non-null  object \n",
      " 4   default         41188 non-null  object \n",
      " 5   housing         41188 non-null  object \n",
      " 6   loan            41188 non-null  object \n",
      " 7   contact         41188 non-null  object \n",
      " 8   month           41188 non-null  object \n",
      " 9   day_of_week     41188 non-null  object \n",
      " 10  duration        41188 non-null  int64  \n",
      " 11  campaign        41188 non-null  int64  \n",
      " 12  pdays           41188 non-null  int64  \n",
      " 13  previous        41188 non-null  int64  \n",
      " 14  poutcome        41188 non-null  object \n",
      " 15  emp.var.rate    41188 non-null  float64\n",
      " 16  cons.price.idx  41188 non-null  float64\n",
      " 17  cons.conf.idx   41188 non-null  float64\n",
      " 18  euribor3m       41188 non-null  float64\n",
      " 19  nr.employed     41188 non-null  float64\n",
      " 20  y               41188 non-null  object \n",
      "dtypes: float64(5), int64(5), object(11)\n",
      "memory usage: 6.6+ MB\n"
     ]
    }
   ],
   "source": [
    "# Menampilkan info dari dataset\n",
    "bank_df.info()"
   ]
  },
  {
   "cell_type": "markdown",
   "metadata": {},
   "source": [
    "Analisis: \n",
    "* Categorical Variables:job,marital, default, education,housing,loan,contact,poutcome,mounth,y (deposit),day\n",
    "* Numerical Variables: age, campaign,duration, pdays,balance,previous\n",
    "\n",
    "y disini adalah deposit sebagai dependent variaabel"
   ]
  },
  {
   "cell_type": "markdown",
   "metadata": {},
   "source": [
    "### Data Cleaning"
   ]
  },
  {
   "cell_type": "markdown",
   "metadata": {},
   "source": [
    "#### Categorical Value"
   ]
  },
  {
   "cell_type": "code",
   "execution_count": 5,
   "metadata": {},
   "outputs": [],
   "source": [
    "# Categorical Value\n",
    "def bar_plot(variable):\n",
    "    var =bank_df[variable]\n",
    "    varValue = var.value_counts()\n",
    "    plt.figure(figsize=(15,3))\n",
    "    plt.bar(varValue.index, varValue,color=cols)\n",
    "    plt.xticks(varValue.index, varValue.index.values)\n",
    "    plt.ylabel(\"Frequency\")\n",
    "    plt.title(variable)\n",
    "    \n",
    "    plt.show()\n",
    "    print(\"{}: \\n {}\".format(variable,varValue))"
   ]
  },
  {
   "cell_type": "code",
   "execution_count": 6,
   "metadata": {},
   "outputs": [
    {
     "data": {
      "image/png": "[encoded data removed]",
      "text/plain": [
       "<Figure size 1080x216 with 1 Axes>"
      ]
     },
     "metadata": {
      "needs_background": "light"
     },
     "output_type": "display_data"
    },
    {
     "name": "stdout",
     "output_type": "stream",
     "text": [
      "job: \n",
      " admin.           10422\n",
      "blue-collar       9254\n",
      "technician        6743\n",
      "services          3969\n",
      "management        2924\n",
      "retired           1720\n",
      "entrepreneur      1456\n",
      "self-employed     1421\n",
      "housemaid         1060\n",
      "unemployed        1014\n",
      "student            875\n",
      "unknown            330\n",
      "Name: job, dtype: int64\n"
     ]
    },
    {
     "data": {
      "image/png": "[encoded data removed]",
      "text/plain": [
       "<Figure size 1080x216 with 1 Axes>"
      ]
     },
     "metadata": {
      "needs_background": "light"
     },
     "output_type": "display_data"
    },
    {
     "name": "stdout",
     "output_type": "stream",
     "text": [
      "marital: \n",
      " married     24928\n",
      "single      11568\n",
      "divorced     4612\n",
      "unknown        80\n",
      "Name: marital, dtype: int64\n"
     ]
    },
    {
     "data": {
      "image/png": "[encoded data removed]",
      "text/plain": [
       "<Figure size 1080x216 with 1 Axes>"
      ]
     },
     "metadata": {
      "needs_background": "light"
     },
     "output_type": "display_data"
    },
    {
     "name": "stdout",
     "output_type": "stream",
     "text": [
      "education: \n",
      " university.degree      12168\n",
      "high.school             9515\n",
      "basic.9y                6045\n",
      "professional.course     5243\n",
      "basic.4y                4176\n",
      "basic.6y                2292\n",
      "unknown                 1731\n",
      "illiterate                18\n",
      "Name: education, dtype: int64\n"
     ]
    },
    {
     "data": {
      "image/png": "[encoded data removed]",
      "text/plain": [
       "<Figure size 1080x216 with 1 Axes>"
      ]
     },
     "metadata": {
      "needs_background": "light"
     },
     "output_type": "display_data"
    },
    {
     "name": "stdout",
     "output_type": "stream",
     "text": [
      "day_of_week: \n",
      " thu    8623\n",
      "mon    8514\n",
      "wed    8134\n",
      "tue    8090\n",
      "fri    7827\n",
      "Name: day_of_week, dtype: int64\n"
     ]
    },
    {
     "data": {
      "image/png": "[encoded data removed]",
      "text/plain": [
       "<Figure size 1080x216 with 1 Axes>"
      ]
     },
     "metadata": {
      "needs_background": "light"
     },
     "output_type": "display_data"
    },
    {
     "name": "stdout",
     "output_type": "stream",
     "text": [
      "housing: \n",
      " yes        21576\n",
      "no         18622\n",
      "unknown      990\n",
      "Name: housing, dtype: int64\n"
     ]
    },
    {
     "data": {
      "image/png": "[encoded data removed]",
      "text/plain": [
       "<Figure size 1080x216 with 1 Axes>"
      ]
     },
     "metadata": {
      "needs_background": "light"
     },
     "output_type": "display_data"
    },
    {
     "name": "stdout",
     "output_type": "stream",
     "text": [
      "loan: \n",
      " no         33950\n",
      "yes         6248\n",
      "unknown      990\n",
      "Name: loan, dtype: int64\n"
     ]
    },
    {
     "data": {
      "image/png": "[encoded data removed]",
      "text/plain": [
       "<Figure size 1080x216 with 1 Axes>"
      ]
     },
     "metadata": {
      "needs_background": "light"
     },
     "output_type": "display_data"
    },
    {
     "name": "stdout",
     "output_type": "stream",
     "text": [
      "contact: \n",
      " cellular     26144\n",
      "telephone    15044\n",
      "Name: contact, dtype: int64\n"
     ]
    },
    {
     "data": {
      "image/png": "[encoded data removed]",
      "text/plain": [
       "<Figure size 1080x216 with 1 Axes>"
      ]
     },
     "metadata": {
      "needs_background": "light"
     },
     "output_type": "display_data"
    },
    {
     "name": "stdout",
     "output_type": "stream",
     "text": [
      "poutcome: \n",
      " nonexistent    35563\n",
      "failure         4252\n",
      "success         1373\n",
      "Name: poutcome, dtype: int64\n"
     ]
    },
    {
     "data": {
      "image/png": "[encoded data removed]",
      "text/plain": [
       "<Figure size 1080x216 with 1 Axes>"
      ]
     },
     "metadata": {
      "needs_background": "light"
     },
     "output_type": "display_data"
    },
    {
     "name": "stdout",
     "output_type": "stream",
     "text": [
      "month: \n",
      " may    13769\n",
      "jul     7174\n",
      "aug     6178\n",
      "jun     5318\n",
      "nov     4101\n",
      "apr     2632\n",
      "oct      718\n",
      "sep      570\n",
      "mar      546\n",
      "dec      182\n",
      "Name: month, dtype: int64\n"
     ]
    },
    {
     "data": {
      "image/png": "[encoded data removed]",
      "text/plain": [
       "<Figure size 1080x216 with 1 Axes>"
      ]
     },
     "metadata": {
      "needs_background": "light"
     },
     "output_type": "display_data"
    },
    {
     "name": "stdout",
     "output_type": "stream",
     "text": [
      "y: \n",
      " no     36548\n",
      "yes     4640\n",
      "Name: y, dtype: int64\n"
     ]
    }
   ],
   "source": [
    "# menampilkan value beserta jumlah value dari setiap category \n",
    "categoryc = [\"job\",\"marital\",\"education\", \"day_of_week\",\"housing\", \"loan\",\"contact\",\"poutcome\",\"month\",\"y\"]\n",
    "for c in categoryc:\n",
    "    bar_plot(c)"
   ]
  },
  {
   "cell_type": "markdown",
   "metadata": {},
   "source": [
    "Analisis\n",
    "- Beberapa kategori masih terdapat missing value \"unknown\""
   ]
  },
  {
   "cell_type": "markdown",
   "metadata": {},
   "source": [
    "#### Numerical Value"
   ]
  },
  {
   "cell_type": "code",
   "execution_count": 7,
   "metadata": {},
   "outputs": [],
   "source": [
    "def plot_hist(variable):\n",
    "    plt.figure(figsize=(9,6))\n",
    "    plt.hist(bank_df[variable], bins=40,color='#cd1076')\n",
    "    plt.xlabel(variable)\n",
    "    plt.ylabel(\"frequency\")\n",
    "    plt.title(\"{} distrubition with hist\".format(variable))\n",
    "    plt.show()"
   ]
  },
  {
   "cell_type": "code",
   "execution_count": 8,
   "metadata": {},
   "outputs": [
    {
     "data": {
      "image/png": "[encoded data removed]",
      "text/plain": [
       "<Figure size 648x432 with 1 Axes>"
      ]
     },
     "metadata": {
      "needs_background": "light"
     },
     "output_type": "display_data"
    },
    {
     "data": {
      "image/png": "[encoded data removed]",
      "text/plain": [
       "<Figure size 648x432 with 1 Axes>"
      ]
     },
     "metadata": {
      "needs_background": "light"
     },
     "output_type": "display_data"
    },
    {
     "data": {
      "image/png": "[encoded data removed]",
      "text/plain": [
       "<Figure size 648x432 with 1 Axes>"
      ]
     },
     "metadata": {
      "needs_background": "light"
     },
     "output_type": "display_data"
    }
   ],
   "source": [
    "numericVar = [\"age\",\"campaign\",\"duration\"]\n",
    "for n in numericVar:\n",
    "    plot_hist(n)"
   ]
  },
  {
   "cell_type": "code",
   "execution_count": 9,
   "metadata": {},
   "outputs": [
    {
     "name": "stdout",
     "output_type": "stream",
     "text": [
      "Jumlah nan missing values atribut numerikal =  0\n"
     ]
    }
   ],
   "source": [
    "print(\"Jumlah nan missing values atribut numerikal = \",bank_df[numericVar].isnull().sum().sum())"
   ]
  },
  {
   "cell_type": "markdown",
   "metadata": {},
   "source": [
    "Analisis\n",
    "- Terlihat beberapa kategori data masih ada yang jauh dari kumpulan (outlier) \n",
    "- Setelah dicek dengan menghitung nan, tidak terdapat missing value"
   ]
  },
  {
   "cell_type": "markdown",
   "metadata": {},
   "source": [
    "#### Outliers Detection (Numerical Value)"
   ]
  },
  {
   "cell_type": "code",
   "execution_count": 10,
   "metadata": {},
   "outputs": [
    {
     "data": {
      "image/png": "[encoded data removed]",
      "text/plain": [
       "<Figure size 1080x504 with 1 Axes>"
      ]
     },
     "metadata": {
      "needs_background": "light"
     },
     "output_type": "display_data"
    }
   ],
   "source": [
    "# cek banyak deposit berdasarkan age\n",
    "pd.crosstab(bank_df.age,bank_df.y).plot(kind=\"area\",figsize=(15,7),color=['#0000ff','#000000' ])\n",
    "plt.title('Age Distribution')\n",
    "plt.xlabel('Age')\n",
    "plt.ylabel('Frequency')\n",
    "plt.show()"
   ]
  },
  {
   "cell_type": "markdown",
   "metadata": {},
   "source": [
    "Analisis\n",
    "- Jumlah orang yang berusia 25 hingga 40 tahun dengan rekening deposito berjangka, tinggi."
   ]
  },
  {
   "cell_type": "code",
   "execution_count": 11,
   "metadata": {},
   "outputs": [
    {
     "data": {
      "image/png": "[encoded data removed]",
      "text/plain": [
       "<Figure size 1080x504 with 1 Axes>"
      ]
     },
     "metadata": {
      "needs_background": "light"
     },
     "output_type": "display_data"
    }
   ],
   "source": [
    "pd.crosstab(bank_df.job,bank_df.y).plot(kind=\"barh\",figsize=(15,7),color=['#0000ff','#000000'])\n",
    "plt.title('Deposit Job Distribution')\n",
    "plt.xlabel('Frequency')\n",
    "plt.ylabel('Job')\n",
    "plt.show()"
   ]
  },
  {
   "cell_type": "markdown",
   "metadata": {},
   "source": [
    "Analisis\n",
    "- Student memiliki perbandingan (y/n) deposit yang lebih seimbang dibandingkan yang lainnya.\n",
    "- Admin paling banyak tidak berlangganan deposit. Paling banyak berlangganan deposit"
   ]
  },
  {
   "cell_type": "code",
   "execution_count": 12,
   "metadata": {},
   "outputs": [],
   "source": [
    "def detect_outliers(data,features):\n",
    "    outlier_indices = []\n",
    "    for c in features:\n",
    "        # 1st quartile\n",
    "        Q1 = np.percentile(data[c],25)\n",
    "        # 3rd quartile\n",
    "        Q3 = np.percentile(data[c],75)\n",
    "        # IQR\n",
    "        IQR = Q3 - Q1\n",
    "        # Outlier step\n",
    "        outlier_step = IQR * 1.5\n",
    "        # detect outlier and their indeces\n",
    "        outlier_list_col = data[(data[c] < Q1 - outlier_step) | (data[c] > Q3 + outlier_step)].index\n",
    "        # store indeces\n",
    "        outlier_indices.extend(outlier_list_col)\n",
    "    \n",
    "    outlier_indices = Counter(outlier_indices)\n",
    "    multiple_outliers = list(i for i, v in outlier_indices.items() if v > 2)\n",
    "    \n",
    "    return multiple_outliers"
   ]
  },
  {
   "cell_type": "code",
   "execution_count": 13,
   "metadata": {},
   "outputs": [
    {
     "data": {
      "text/html": [
       "<div>\n",
       "<style scoped>\n",
       "    .dataframe tbody tr th:only-of-type {\n",
       "        vertical-align: middle;\n",
       "    }\n",
       "\n",
       "    .dataframe tbody tr th {\n",
       "        vertical-align: top;\n",
       "    }\n",
       "\n",
       "    .dataframe thead th {\n",
       "        text-align: right;\n",
       "    }\n",
       "</style>\n",
       "<table border=\"1\" class=\"dataframe\">\n",
       "  <thead>\n",
       "    <tr style=\"text-align: right;\">\n",
       "      <th></th>\n",
       "      <th>age</th>\n",
       "      <th>job</th>\n",
       "      <th>marital</th>\n",
       "      <th>education</th>\n",
       "      <th>default</th>\n",
       "      <th>housing</th>\n",
       "      <th>loan</th>\n",
       "      <th>contact</th>\n",
       "      <th>month</th>\n",
       "      <th>day_of_week</th>\n",
       "      <th>...</th>\n",
       "      <th>campaign</th>\n",
       "      <th>pdays</th>\n",
       "      <th>previous</th>\n",
       "      <th>poutcome</th>\n",
       "      <th>emp.var.rate</th>\n",
       "      <th>cons.price.idx</th>\n",
       "      <th>cons.conf.idx</th>\n",
       "      <th>euribor3m</th>\n",
       "      <th>nr.employed</th>\n",
       "      <th>y</th>\n",
       "    </tr>\n",
       "  </thead>\n",
       "  <tbody>\n",
       "    <tr>\n",
       "      <th>35973</th>\n",
       "      <td>78</td>\n",
       "      <td>retired</td>\n",
       "      <td>married</td>\n",
       "      <td>high.school</td>\n",
       "      <td>no</td>\n",
       "      <td>yes</td>\n",
       "      <td>no</td>\n",
       "      <td>cellular</td>\n",
       "      <td>may</td>\n",
       "      <td>mon</td>\n",
       "      <td>...</td>\n",
       "      <td>2</td>\n",
       "      <td>3</td>\n",
       "      <td>2</td>\n",
       "      <td>failure</td>\n",
       "      <td>-1.8</td>\n",
       "      <td>92893.0</td>\n",
       "      <td>-46.2</td>\n",
       "      <td>1264.000</td>\n",
       "      <td>5099.1</td>\n",
       "      <td>no</td>\n",
       "    </tr>\n",
       "    <tr>\n",
       "      <th>37193</th>\n",
       "      <td>74</td>\n",
       "      <td>retired</td>\n",
       "      <td>married</td>\n",
       "      <td>high.school</td>\n",
       "      <td>no</td>\n",
       "      <td>yes</td>\n",
       "      <td>no</td>\n",
       "      <td>cellular</td>\n",
       "      <td>aug</td>\n",
       "      <td>thu</td>\n",
       "      <td>...</td>\n",
       "      <td>1</td>\n",
       "      <td>999</td>\n",
       "      <td>1</td>\n",
       "      <td>failure</td>\n",
       "      <td>-2.9</td>\n",
       "      <td>92201.0</td>\n",
       "      <td>-31.4</td>\n",
       "      <td>0.883</td>\n",
       "      <td>5076.2</td>\n",
       "      <td>yes</td>\n",
       "    </tr>\n",
       "    <tr>\n",
       "      <th>37861</th>\n",
       "      <td>72</td>\n",
       "      <td>unknown</td>\n",
       "      <td>married</td>\n",
       "      <td>unknown</td>\n",
       "      <td>no</td>\n",
       "      <td>yes</td>\n",
       "      <td>yes</td>\n",
       "      <td>cellular</td>\n",
       "      <td>aug</td>\n",
       "      <td>fri</td>\n",
       "      <td>...</td>\n",
       "      <td>8</td>\n",
       "      <td>999</td>\n",
       "      <td>1</td>\n",
       "      <td>failure</td>\n",
       "      <td>-2.9</td>\n",
       "      <td>92201.0</td>\n",
       "      <td>-31.4</td>\n",
       "      <td>0.825</td>\n",
       "      <td>5076.2</td>\n",
       "      <td>yes</td>\n",
       "    </tr>\n",
       "    <tr>\n",
       "      <th>38022</th>\n",
       "      <td>91</td>\n",
       "      <td>retired</td>\n",
       "      <td>married</td>\n",
       "      <td>university.degree</td>\n",
       "      <td>no</td>\n",
       "      <td>yes</td>\n",
       "      <td>yes</td>\n",
       "      <td>cellular</td>\n",
       "      <td>sep</td>\n",
       "      <td>wed</td>\n",
       "      <td>...</td>\n",
       "      <td>1</td>\n",
       "      <td>999</td>\n",
       "      <td>2</td>\n",
       "      <td>failure</td>\n",
       "      <td>-3.4</td>\n",
       "      <td>92379.0</td>\n",
       "      <td>-29.8</td>\n",
       "      <td>0.781</td>\n",
       "      <td>5017.5</td>\n",
       "      <td>no</td>\n",
       "    </tr>\n",
       "    <tr>\n",
       "      <th>38074</th>\n",
       "      <td>70</td>\n",
       "      <td>admin.</td>\n",
       "      <td>married</td>\n",
       "      <td>basic.4y</td>\n",
       "      <td>no</td>\n",
       "      <td>no</td>\n",
       "      <td>no</td>\n",
       "      <td>cellular</td>\n",
       "      <td>sep</td>\n",
       "      <td>tue</td>\n",
       "      <td>...</td>\n",
       "      <td>1</td>\n",
       "      <td>999</td>\n",
       "      <td>2</td>\n",
       "      <td>failure</td>\n",
       "      <td>-3.4</td>\n",
       "      <td>92379.0</td>\n",
       "      <td>-29.8</td>\n",
       "      <td>0.770</td>\n",
       "      <td>5017.5</td>\n",
       "      <td>yes</td>\n",
       "    </tr>\n",
       "    <tr>\n",
       "      <th>38179</th>\n",
       "      <td>83</td>\n",
       "      <td>retired</td>\n",
       "      <td>married</td>\n",
       "      <td>professional.course</td>\n",
       "      <td>no</td>\n",
       "      <td>yes</td>\n",
       "      <td>no</td>\n",
       "      <td>cellular</td>\n",
       "      <td>oct</td>\n",
       "      <td>fri</td>\n",
       "      <td>...</td>\n",
       "      <td>2</td>\n",
       "      <td>4</td>\n",
       "      <td>1</td>\n",
       "      <td>success</td>\n",
       "      <td>-3.4</td>\n",
       "      <td>92431.0</td>\n",
       "      <td>-26.9</td>\n",
       "      <td>0.752</td>\n",
       "      <td>5017.5</td>\n",
       "      <td>yes</td>\n",
       "    </tr>\n",
       "    <tr>\n",
       "      <th>38247</th>\n",
       "      <td>70</td>\n",
       "      <td>retired</td>\n",
       "      <td>married</td>\n",
       "      <td>university.degree</td>\n",
       "      <td>no</td>\n",
       "      <td>yes</td>\n",
       "      <td>no</td>\n",
       "      <td>cellular</td>\n",
       "      <td>oct</td>\n",
       "      <td>mon</td>\n",
       "      <td>...</td>\n",
       "      <td>2</td>\n",
       "      <td>999</td>\n",
       "      <td>1</td>\n",
       "      <td>failure</td>\n",
       "      <td>-3.4</td>\n",
       "      <td>92431.0</td>\n",
       "      <td>-26.9</td>\n",
       "      <td>0.743</td>\n",
       "      <td>5017.5</td>\n",
       "      <td>no</td>\n",
       "    </tr>\n",
       "    <tr>\n",
       "      <th>38676</th>\n",
       "      <td>73</td>\n",
       "      <td>retired</td>\n",
       "      <td>married</td>\n",
       "      <td>university.degree</td>\n",
       "      <td>no</td>\n",
       "      <td>no</td>\n",
       "      <td>yes</td>\n",
       "      <td>cellular</td>\n",
       "      <td>nov</td>\n",
       "      <td>thu</td>\n",
       "      <td>...</td>\n",
       "      <td>7</td>\n",
       "      <td>999</td>\n",
       "      <td>0</td>\n",
       "      <td>nonexistent</td>\n",
       "      <td>-3.4</td>\n",
       "      <td>92649.0</td>\n",
       "      <td>-30.1</td>\n",
       "      <td>0.716</td>\n",
       "      <td>5017.5</td>\n",
       "      <td>yes</td>\n",
       "    </tr>\n",
       "    <tr>\n",
       "      <th>38846</th>\n",
       "      <td>75</td>\n",
       "      <td>housemaid</td>\n",
       "      <td>divorced</td>\n",
       "      <td>basic.4y</td>\n",
       "      <td>no</td>\n",
       "      <td>no</td>\n",
       "      <td>no</td>\n",
       "      <td>telephone</td>\n",
       "      <td>nov</td>\n",
       "      <td>mon</td>\n",
       "      <td>...</td>\n",
       "      <td>8</td>\n",
       "      <td>3</td>\n",
       "      <td>1</td>\n",
       "      <td>success</td>\n",
       "      <td>-3.4</td>\n",
       "      <td>92649.0</td>\n",
       "      <td>-30.1</td>\n",
       "      <td>0.714</td>\n",
       "      <td>5017.5</td>\n",
       "      <td>no</td>\n",
       "    </tr>\n",
       "    <tr>\n",
       "      <th>38984</th>\n",
       "      <td>80</td>\n",
       "      <td>retired</td>\n",
       "      <td>divorced</td>\n",
       "      <td>basic.4y</td>\n",
       "      <td>no</td>\n",
       "      <td>no</td>\n",
       "      <td>yes</td>\n",
       "      <td>cellular</td>\n",
       "      <td>dec</td>\n",
       "      <td>fri</td>\n",
       "      <td>...</td>\n",
       "      <td>5</td>\n",
       "      <td>999</td>\n",
       "      <td>1</td>\n",
       "      <td>failure</td>\n",
       "      <td>-3.0</td>\n",
       "      <td>92713.0</td>\n",
       "      <td>-33.0</td>\n",
       "      <td>0.718</td>\n",
       "      <td>5023.5</td>\n",
       "      <td>no</td>\n",
       "    </tr>\n",
       "    <tr>\n",
       "      <th>39186</th>\n",
       "      <td>85</td>\n",
       "      <td>retired</td>\n",
       "      <td>single</td>\n",
       "      <td>professional.course</td>\n",
       "      <td>no</td>\n",
       "      <td>no</td>\n",
       "      <td>no</td>\n",
       "      <td>cellular</td>\n",
       "      <td>mar</td>\n",
       "      <td>fri</td>\n",
       "      <td>...</td>\n",
       "      <td>7</td>\n",
       "      <td>7</td>\n",
       "      <td>2</td>\n",
       "      <td>success</td>\n",
       "      <td>-1.8</td>\n",
       "      <td>93369.0</td>\n",
       "      <td>-34.8</td>\n",
       "      <td>0.653</td>\n",
       "      <td>5008.7</td>\n",
       "      <td>no</td>\n",
       "    </tr>\n",
       "    <tr>\n",
       "      <th>39676</th>\n",
       "      <td>76</td>\n",
       "      <td>retired</td>\n",
       "      <td>married</td>\n",
       "      <td>basic.4y</td>\n",
       "      <td>no</td>\n",
       "      <td>yes</td>\n",
       "      <td>no</td>\n",
       "      <td>cellular</td>\n",
       "      <td>may</td>\n",
       "      <td>fri</td>\n",
       "      <td>...</td>\n",
       "      <td>2</td>\n",
       "      <td>6</td>\n",
       "      <td>2</td>\n",
       "      <td>success</td>\n",
       "      <td>-1.8</td>\n",
       "      <td>93876.0</td>\n",
       "      <td>-40.0</td>\n",
       "      <td>0.684</td>\n",
       "      <td>5008.7</td>\n",
       "      <td>yes</td>\n",
       "    </tr>\n",
       "    <tr>\n",
       "      <th>40050</th>\n",
       "      <td>83</td>\n",
       "      <td>housemaid</td>\n",
       "      <td>divorced</td>\n",
       "      <td>basic.4y</td>\n",
       "      <td>no</td>\n",
       "      <td>yes</td>\n",
       "      <td>no</td>\n",
       "      <td>cellular</td>\n",
       "      <td>jul</td>\n",
       "      <td>tue</td>\n",
       "      <td>...</td>\n",
       "      <td>2</td>\n",
       "      <td>3</td>\n",
       "      <td>1</td>\n",
       "      <td>success</td>\n",
       "      <td>-1.7</td>\n",
       "      <td>94215.0</td>\n",
       "      <td>-40.3</td>\n",
       "      <td>0.797</td>\n",
       "      <td>4991.6</td>\n",
       "      <td>yes</td>\n",
       "    </tr>\n",
       "    <tr>\n",
       "      <th>40080</th>\n",
       "      <td>72</td>\n",
       "      <td>retired</td>\n",
       "      <td>married</td>\n",
       "      <td>basic.4y</td>\n",
       "      <td>no</td>\n",
       "      <td>yes</td>\n",
       "      <td>no</td>\n",
       "      <td>cellular</td>\n",
       "      <td>jul</td>\n",
       "      <td>fri</td>\n",
       "      <td>...</td>\n",
       "      <td>9</td>\n",
       "      <td>999</td>\n",
       "      <td>1</td>\n",
       "      <td>failure</td>\n",
       "      <td>-1.7</td>\n",
       "      <td>94215.0</td>\n",
       "      <td>-40.3</td>\n",
       "      <td>0.822</td>\n",
       "      <td>4991.6</td>\n",
       "      <td>no</td>\n",
       "    </tr>\n",
       "    <tr>\n",
       "      <th>40262</th>\n",
       "      <td>84</td>\n",
       "      <td>retired</td>\n",
       "      <td>divorced</td>\n",
       "      <td>basic.4y</td>\n",
       "      <td>no</td>\n",
       "      <td>yes</td>\n",
       "      <td>yes</td>\n",
       "      <td>cellular</td>\n",
       "      <td>jul</td>\n",
       "      <td>tue</td>\n",
       "      <td>...</td>\n",
       "      <td>1</td>\n",
       "      <td>3</td>\n",
       "      <td>2</td>\n",
       "      <td>success</td>\n",
       "      <td>-1.7</td>\n",
       "      <td>94215.0</td>\n",
       "      <td>-40.3</td>\n",
       "      <td>0.893</td>\n",
       "      <td>4991.6</td>\n",
       "      <td>yes</td>\n",
       "    </tr>\n",
       "    <tr>\n",
       "      <th>40356</th>\n",
       "      <td>75</td>\n",
       "      <td>retired</td>\n",
       "      <td>married</td>\n",
       "      <td>unknown</td>\n",
       "      <td>no</td>\n",
       "      <td>no</td>\n",
       "      <td>no</td>\n",
       "      <td>telephone</td>\n",
       "      <td>aug</td>\n",
       "      <td>tue</td>\n",
       "      <td>...</td>\n",
       "      <td>2</td>\n",
       "      <td>999</td>\n",
       "      <td>4</td>\n",
       "      <td>failure</td>\n",
       "      <td>-1.7</td>\n",
       "      <td>94027.0</td>\n",
       "      <td>-38.3</td>\n",
       "      <td>0.899</td>\n",
       "      <td>4991.6</td>\n",
       "      <td>yes</td>\n",
       "    </tr>\n",
       "    <tr>\n",
       "      <th>40450</th>\n",
       "      <td>92</td>\n",
       "      <td>retired</td>\n",
       "      <td>married</td>\n",
       "      <td>unknown</td>\n",
       "      <td>no</td>\n",
       "      <td>no</td>\n",
       "      <td>yes</td>\n",
       "      <td>cellular</td>\n",
       "      <td>aug</td>\n",
       "      <td>tue</td>\n",
       "      <td>...</td>\n",
       "      <td>1</td>\n",
       "      <td>3</td>\n",
       "      <td>1</td>\n",
       "      <td>success</td>\n",
       "      <td>-1.7</td>\n",
       "      <td>94027.0</td>\n",
       "      <td>-38.3</td>\n",
       "      <td>0.904</td>\n",
       "      <td>4991.6</td>\n",
       "      <td>yes</td>\n",
       "    </tr>\n",
       "    <tr>\n",
       "      <th>40468</th>\n",
       "      <td>77</td>\n",
       "      <td>retired</td>\n",
       "      <td>married</td>\n",
       "      <td>unknown</td>\n",
       "      <td>no</td>\n",
       "      <td>no</td>\n",
       "      <td>no</td>\n",
       "      <td>cellular</td>\n",
       "      <td>aug</td>\n",
       "      <td>wed</td>\n",
       "      <td>...</td>\n",
       "      <td>8</td>\n",
       "      <td>999</td>\n",
       "      <td>2</td>\n",
       "      <td>failure</td>\n",
       "      <td>-1.7</td>\n",
       "      <td>94027.0</td>\n",
       "      <td>-38.3</td>\n",
       "      <td>0.903</td>\n",
       "      <td>4991.6</td>\n",
       "      <td>no</td>\n",
       "    </tr>\n",
       "    <tr>\n",
       "      <th>40529</th>\n",
       "      <td>72</td>\n",
       "      <td>retired</td>\n",
       "      <td>divorced</td>\n",
       "      <td>university.degree</td>\n",
       "      <td>no</td>\n",
       "      <td>no</td>\n",
       "      <td>no</td>\n",
       "      <td>cellular</td>\n",
       "      <td>aug</td>\n",
       "      <td>mon</td>\n",
       "      <td>...</td>\n",
       "      <td>16</td>\n",
       "      <td>999</td>\n",
       "      <td>1</td>\n",
       "      <td>failure</td>\n",
       "      <td>-1.7</td>\n",
       "      <td>94027.0</td>\n",
       "      <td>-38.3</td>\n",
       "      <td>0.891</td>\n",
       "      <td>4991.6</td>\n",
       "      <td>no</td>\n",
       "    </tr>\n",
       "    <tr>\n",
       "      <th>40611</th>\n",
       "      <td>75</td>\n",
       "      <td>retired</td>\n",
       "      <td>married</td>\n",
       "      <td>basic.9y</td>\n",
       "      <td>no</td>\n",
       "      <td>no</td>\n",
       "      <td>no</td>\n",
       "      <td>telephone</td>\n",
       "      <td>sep</td>\n",
       "      <td>fri</td>\n",
       "      <td>...</td>\n",
       "      <td>9</td>\n",
       "      <td>999</td>\n",
       "      <td>1</td>\n",
       "      <td>failure</td>\n",
       "      <td>-1.1</td>\n",
       "      <td>94199.0</td>\n",
       "      <td>-37.5</td>\n",
       "      <td>0.883</td>\n",
       "      <td>4963.6</td>\n",
       "      <td>no</td>\n",
       "    </tr>\n",
       "    <tr>\n",
       "      <th>40638</th>\n",
       "      <td>85</td>\n",
       "      <td>retired</td>\n",
       "      <td>married</td>\n",
       "      <td>basic.4y</td>\n",
       "      <td>no</td>\n",
       "      <td>no</td>\n",
       "      <td>no</td>\n",
       "      <td>cellular</td>\n",
       "      <td>sep</td>\n",
       "      <td>tue</td>\n",
       "      <td>...</td>\n",
       "      <td>1</td>\n",
       "      <td>3</td>\n",
       "      <td>2</td>\n",
       "      <td>success</td>\n",
       "      <td>-1.1</td>\n",
       "      <td>94199.0</td>\n",
       "      <td>-37.5</td>\n",
       "      <td>0.881</td>\n",
       "      <td>4963.6</td>\n",
       "      <td>yes</td>\n",
       "    </tr>\n",
       "    <tr>\n",
       "      <th>40879</th>\n",
       "      <td>75</td>\n",
       "      <td>retired</td>\n",
       "      <td>married</td>\n",
       "      <td>basic.4y</td>\n",
       "      <td>no</td>\n",
       "      <td>yes</td>\n",
       "      <td>no</td>\n",
       "      <td>cellular</td>\n",
       "      <td>oct</td>\n",
       "      <td>wed</td>\n",
       "      <td>...</td>\n",
       "      <td>3</td>\n",
       "      <td>999</td>\n",
       "      <td>3</td>\n",
       "      <td>failure</td>\n",
       "      <td>-1.1</td>\n",
       "      <td>94601.0</td>\n",
       "      <td>-49.5</td>\n",
       "      <td>0.959</td>\n",
       "      <td>4963.6</td>\n",
       "      <td>no</td>\n",
       "    </tr>\n",
       "    <tr>\n",
       "      <th>27552</th>\n",
       "      <td>51</td>\n",
       "      <td>blue-collar</td>\n",
       "      <td>married</td>\n",
       "      <td>basic.9y</td>\n",
       "      <td>no</td>\n",
       "      <td>no</td>\n",
       "      <td>no</td>\n",
       "      <td>cellular</td>\n",
       "      <td>nov</td>\n",
       "      <td>fri</td>\n",
       "      <td>...</td>\n",
       "      <td>10</td>\n",
       "      <td>999</td>\n",
       "      <td>1</td>\n",
       "      <td>failure</td>\n",
       "      <td>-0.1</td>\n",
       "      <td>93.2</td>\n",
       "      <td>-42.0</td>\n",
       "      <td>4021.000</td>\n",
       "      <td>5195.8</td>\n",
       "      <td>no</td>\n",
       "    </tr>\n",
       "    <tr>\n",
       "      <th>33320</th>\n",
       "      <td>33</td>\n",
       "      <td>blue-collar</td>\n",
       "      <td>married</td>\n",
       "      <td>high.school</td>\n",
       "      <td>no</td>\n",
       "      <td>yes</td>\n",
       "      <td>no</td>\n",
       "      <td>cellular</td>\n",
       "      <td>may</td>\n",
       "      <td>tue</td>\n",
       "      <td>...</td>\n",
       "      <td>10</td>\n",
       "      <td>999</td>\n",
       "      <td>1</td>\n",
       "      <td>failure</td>\n",
       "      <td>-1.8</td>\n",
       "      <td>92893.0</td>\n",
       "      <td>-46.2</td>\n",
       "      <td>1291.000</td>\n",
       "      <td>5099.1</td>\n",
       "      <td>yes</td>\n",
       "    </tr>\n",
       "    <tr>\n",
       "      <th>33615</th>\n",
       "      <td>43</td>\n",
       "      <td>technician</td>\n",
       "      <td>married</td>\n",
       "      <td>basic.4y</td>\n",
       "      <td>no</td>\n",
       "      <td>yes</td>\n",
       "      <td>no</td>\n",
       "      <td>telephone</td>\n",
       "      <td>may</td>\n",
       "      <td>tue</td>\n",
       "      <td>...</td>\n",
       "      <td>7</td>\n",
       "      <td>999</td>\n",
       "      <td>1</td>\n",
       "      <td>failure</td>\n",
       "      <td>-1.8</td>\n",
       "      <td>92893.0</td>\n",
       "      <td>-46.2</td>\n",
       "      <td>1291.000</td>\n",
       "      <td>5099.1</td>\n",
       "      <td>no</td>\n",
       "    </tr>\n",
       "    <tr>\n",
       "      <th>35408</th>\n",
       "      <td>31</td>\n",
       "      <td>technician</td>\n",
       "      <td>single</td>\n",
       "      <td>university.degree</td>\n",
       "      <td>no</td>\n",
       "      <td>yes</td>\n",
       "      <td>no</td>\n",
       "      <td>cellular</td>\n",
       "      <td>may</td>\n",
       "      <td>fri</td>\n",
       "      <td>...</td>\n",
       "      <td>7</td>\n",
       "      <td>999</td>\n",
       "      <td>1</td>\n",
       "      <td>failure</td>\n",
       "      <td>-1.8</td>\n",
       "      <td>92893.0</td>\n",
       "      <td>-46.2</td>\n",
       "      <td>1.250</td>\n",
       "      <td>5099.1</td>\n",
       "      <td>yes</td>\n",
       "    </tr>\n",
       "    <tr>\n",
       "      <th>40993</th>\n",
       "      <td>50</td>\n",
       "      <td>entrepreneur</td>\n",
       "      <td>divorced</td>\n",
       "      <td>university.degree</td>\n",
       "      <td>no</td>\n",
       "      <td>yes</td>\n",
       "      <td>no</td>\n",
       "      <td>telephone</td>\n",
       "      <td>oct</td>\n",
       "      <td>tue</td>\n",
       "      <td>...</td>\n",
       "      <td>7</td>\n",
       "      <td>11</td>\n",
       "      <td>2</td>\n",
       "      <td>success</td>\n",
       "      <td>-1.1</td>\n",
       "      <td>94601.0</td>\n",
       "      <td>-49.5</td>\n",
       "      <td>1008.000</td>\n",
       "      <td>4963.6</td>\n",
       "      <td>yes</td>\n",
       "    </tr>\n",
       "  </tbody>\n",
       "</table>\n",
       "<p>27 rows × 21 columns</p>\n",
       "</div>"
      ],
      "text/plain": [
       "       age           job   marital            education default housing loan  \\\n",
       "35973   78       retired   married          high.school      no     yes   no   \n",
       "37193   74       retired   married          high.school      no     yes   no   \n",
       "37861   72       unknown   married              unknown      no     yes  yes   \n",
       "38022   91       retired   married    university.degree      no     yes  yes   \n",
       "38074   70        admin.   married             basic.4y      no      no   no   \n",
       "38179   83       retired   married  professional.course      no     yes   no   \n",
       "38247   70       retired   married    university.degree      no     yes   no   \n",
       "38676   73       retired   married    university.degree      no      no  yes   \n",
       "38846   75     housemaid  divorced             basic.4y      no      no   no   \n",
       "38984   80       retired  divorced             basic.4y      no      no  yes   \n",
       "39186   85       retired    single  professional.course      no      no   no   \n",
       "39676   76       retired   married             basic.4y      no     yes   no   \n",
       "40050   83     housemaid  divorced             basic.4y      no     yes   no   \n",
       "40080   72       retired   married             basic.4y      no     yes   no   \n",
       "40262   84       retired  divorced             basic.4y      no     yes  yes   \n",
       "40356   75       retired   married              unknown      no      no   no   \n",
       "40450   92       retired   married              unknown      no      no  yes   \n",
       "40468   77       retired   married              unknown      no      no   no   \n",
       "40529   72       retired  divorced    university.degree      no      no   no   \n",
       "40611   75       retired   married             basic.9y      no      no   no   \n",
       "40638   85       retired   married             basic.4y      no      no   no   \n",
       "40879   75       retired   married             basic.4y      no     yes   no   \n",
       "27552   51   blue-collar   married             basic.9y      no      no   no   \n",
       "33320   33   blue-collar   married          high.school      no     yes   no   \n",
       "33615   43    technician   married             basic.4y      no     yes   no   \n",
       "35408   31    technician    single    university.degree      no     yes   no   \n",
       "40993   50  entrepreneur  divorced    university.degree      no     yes   no   \n",
       "\n",
       "         contact month day_of_week  ...  campaign  pdays  previous  \\\n",
       "35973   cellular   may         mon  ...         2      3         2   \n",
       "37193   cellular   aug         thu  ...         1    999         1   \n",
       "37861   cellular   aug         fri  ...         8    999         1   \n",
       "38022   cellular   sep         wed  ...         1    999         2   \n",
       "38074   cellular   sep         tue  ...         1    999         2   \n",
       "38179   cellular   oct         fri  ...         2      4         1   \n",
       "38247   cellular   oct         mon  ...         2    999         1   \n",
       "38676   cellular   nov         thu  ...         7    999         0   \n",
       "38846  telephone   nov         mon  ...         8      3         1   \n",
       "38984   cellular   dec         fri  ...         5    999         1   \n",
       "39186   cellular   mar         fri  ...         7      7         2   \n",
       "39676   cellular   may         fri  ...         2      6         2   \n",
       "40050   cellular   jul         tue  ...         2      3         1   \n",
       "40080   cellular   jul         fri  ...         9    999         1   \n",
       "40262   cellular   jul         tue  ...         1      3         2   \n",
       "40356  telephone   aug         tue  ...         2    999         4   \n",
       "40450   cellular   aug         tue  ...         1      3         1   \n",
       "40468   cellular   aug         wed  ...         8    999         2   \n",
       "40529   cellular   aug         mon  ...        16    999         1   \n",
       "40611  telephone   sep         fri  ...         9    999         1   \n",
       "40638   cellular   sep         tue  ...         1      3         2   \n",
       "40879   cellular   oct         wed  ...         3    999         3   \n",
       "27552   cellular   nov         fri  ...        10    999         1   \n",
       "33320   cellular   may         tue  ...        10    999         1   \n",
       "33615  telephone   may         tue  ...         7    999         1   \n",
       "35408   cellular   may         fri  ...         7    999         1   \n",
       "40993  telephone   oct         tue  ...         7     11         2   \n",
       "\n",
       "          poutcome emp.var.rate  cons.price.idx  cons.conf.idx  euribor3m  \\\n",
       "35973      failure         -1.8         92893.0          -46.2   1264.000   \n",
       "37193      failure         -2.9         92201.0          -31.4      0.883   \n",
       "37861      failure         -2.9         92201.0          -31.4      0.825   \n",
       "38022      failure         -3.4         92379.0          -29.8      0.781   \n",
       "38074      failure         -3.4         92379.0          -29.8      0.770   \n",
       "38179      success         -3.4         92431.0          -26.9      0.752   \n",
       "38247      failure         -3.4         92431.0          -26.9      0.743   \n",
       "38676  nonexistent         -3.4         92649.0          -30.1      0.716   \n",
       "38846      success         -3.4         92649.0          -30.1      0.714   \n",
       "38984      failure         -3.0         92713.0          -33.0      0.718   \n",
       "39186      success         -1.8         93369.0          -34.8      0.653   \n",
       "39676      success         -1.8         93876.0          -40.0      0.684   \n",
       "40050      success         -1.7         94215.0          -40.3      0.797   \n",
       "40080      failure         -1.7         94215.0          -40.3      0.822   \n",
       "40262      success         -1.7         94215.0          -40.3      0.893   \n",
       "40356      failure         -1.7         94027.0          -38.3      0.899   \n",
       "40450      success         -1.7         94027.0          -38.3      0.904   \n",
       "40468      failure         -1.7         94027.0          -38.3      0.903   \n",
       "40529      failure         -1.7         94027.0          -38.3      0.891   \n",
       "40611      failure         -1.1         94199.0          -37.5      0.883   \n",
       "40638      success         -1.1         94199.0          -37.5      0.881   \n",
       "40879      failure         -1.1         94601.0          -49.5      0.959   \n",
       "27552      failure         -0.1            93.2          -42.0   4021.000   \n",
       "33320      failure         -1.8         92893.0          -46.2   1291.000   \n",
       "33615      failure         -1.8         92893.0          -46.2   1291.000   \n",
       "35408      failure         -1.8         92893.0          -46.2      1.250   \n",
       "40993      success         -1.1         94601.0          -49.5   1008.000   \n",
       "\n",
       "       nr.employed    y  \n",
       "35973       5099.1   no  \n",
       "37193       5076.2  yes  \n",
       "37861       5076.2  yes  \n",
       "38022       5017.5   no  \n",
       "38074       5017.5  yes  \n",
       "38179       5017.5  yes  \n",
       "38247       5017.5   no  \n",
       "38676       5017.5  yes  \n",
       "38846       5017.5   no  \n",
       "38984       5023.5   no  \n",
       "39186       5008.7   no  \n",
       "39676       5008.7  yes  \n",
       "40050       4991.6  yes  \n",
       "40080       4991.6   no  \n",
       "40262       4991.6  yes  \n",
       "40356       4991.6  yes  \n",
       "40450       4991.6  yes  \n",
       "40468       4991.6   no  \n",
       "40529       4991.6   no  \n",
       "40611       4963.6   no  \n",
       "40638       4963.6  yes  \n",
       "40879       4963.6   no  \n",
       "27552       5195.8   no  \n",
       "33320       5099.1  yes  \n",
       "33615       5099.1   no  \n",
       "35408       5099.1  yes  \n",
       "40993       4963.6  yes  \n",
       "\n",
       "[27 rows x 21 columns]"
      ]
     },
     "execution_count": 13,
     "metadata": {},
     "output_type": "execute_result"
    }
   ],
   "source": [
    "outlier_df=bank_df.loc[detect_outliers(bank_df,['age','duration','campaign','previous'])]\n",
    "outlier_df\n"
   ]
  },
  {
   "cell_type": "code",
   "execution_count": 14,
   "metadata": {},
   "outputs": [],
   "source": [
    "bank_df = bank_df.drop(outlier_df.index, axis=0)"
   ]
  },
  {
   "cell_type": "markdown",
   "metadata": {},
   "source": [
    "Outlier sudah diremove"
   ]
  },
  {
   "cell_type": "markdown",
   "metadata": {},
   "source": [
    "#### Menangani Missing Value"
   ]
  },
  {
   "cell_type": "markdown",
   "metadata": {},
   "source": [
    "Dari diagram sebelumnya, ditemukan value \"unknown\" pada beberapa kolom dengan tipa kategorikal dan tidak terdeteksi oleh funggsi isnull, untuk itu diganti dengan nan supaya terdeteksi"
   ]
  },
  {
   "cell_type": "code",
   "execution_count": 15,
   "metadata": {},
   "outputs": [],
   "source": [
    "bank_df[bank_df[categoryc] == \"unknown\" ] = np.nan"
   ]
  },
  {
   "cell_type": "code",
   "execution_count": 16,
   "metadata": {},
   "outputs": [
    {
     "data": {
      "text/plain": [
       "age                  0\n",
       "job                329\n",
       "marital             80\n",
       "education         1727\n",
       "default              0\n",
       "housing            990\n",
       "loan               990\n",
       "contact              0\n",
       "month                0\n",
       "day_of_week          0\n",
       "duration             0\n",
       "campaign             0\n",
       "pdays                0\n",
       "previous             0\n",
       "poutcome             0\n",
       "emp.var.rate         0\n",
       "cons.price.idx       0\n",
       "cons.conf.idx        0\n",
       "euribor3m            0\n",
       "nr.employed          0\n",
       "y                    0\n",
       "dtype: int64"
      ]
     },
     "execution_count": 16,
     "metadata": {},
     "output_type": "execute_result"
    }
   ],
   "source": [
    "bank_df.isnull().sum()"
   ]
  },
  {
   "cell_type": "markdown",
   "metadata": {},
   "source": [
    "Missing value sudah terdeteksi dengn fungsi isnull. Penanganan akan dilakukan dengan mengganti nilai missing value dengan modus karena kolom bertipe kategorical.\n"
   ]
  },
  {
   "cell_type": "code",
   "execution_count": 17,
   "metadata": {},
   "outputs": [],
   "source": [
    "imputer_categorical = SimpleImputer(missing_values=np.nan, strategy='most_frequent')"
   ]
  },
  {
   "cell_type": "code",
   "execution_count": 18,
   "metadata": {},
   "outputs": [],
   "source": [
    "imputer_categorical.fit(bank_df[categoryc])\n",
    "bank_df[categoryc] = imputer_categorical.transform(bank_df[categoryc])"
   ]
  },
  {
   "cell_type": "code",
   "execution_count": 19,
   "metadata": {},
   "outputs": [
    {
     "name": "stdout",
     "output_type": "stream",
     "text": [
      "Jumlah nan missing values atribut kategori =  0\n"
     ]
    }
   ],
   "source": [
    "print(\"Jumlah nan missing values atribut kategori = \",bank_df[categoryc].isnull().sum().sum())"
   ]
  },
  {
   "cell_type": "markdown",
   "metadata": {},
   "source": [
    "Sudah berhasil mengganti nan ke modus untuk kategorical value"
   ]
  },
  {
   "cell_type": "markdown",
   "metadata": {},
   "source": [
    "### Exploratory Data Analysis "
   ]
  },
  {
   "cell_type": "code",
   "execution_count": 20,
   "metadata": {},
   "outputs": [],
   "source": [
    "# Ganti penaamaan y ke deposit supaya lebih mudah dimengerti\n",
    "bank_df.rename(columns={'y' : 'deposit' },inplace=True)"
   ]
  },
  {
   "cell_type": "code",
   "execution_count": 21,
   "metadata": {},
   "outputs": [
    {
     "name": "stderr",
     "output_type": "stream",
     "text": [
      "No handles with labels found to put in legend.\n"
     ]
    },
    {
     "data": {
      "text/plain": [
       "<matplotlib.legend.Legend at 0x1702256aca0>"
      ]
     },
     "execution_count": 21,
     "metadata": {},
     "output_type": "execute_result"
    },
    {
     "data": {
      "image/png": "[encoded data removed]",
      "text/plain": [
       "<Figure size 1152x432 with 2 Axes>"
      ]
     },
     "metadata": {
      "needs_background": "light"
     },
     "output_type": "display_data"
    }
   ],
   "source": [
    "fig, ax = plt.subplots(1,2,figsize=(16,6))\n",
    "\n",
    "# persentase \"berlangganan deposito\"\n",
    "bank_df['deposit'].value_counts().plot(\n",
    "    kind='pie',\n",
    "    autopct='%.1f%%',\n",
    "    explode=[0,0.05], \n",
    "    cmap='cool',\n",
    "    shadow=True,\n",
    "    ax=ax[0]\n",
    ")\n",
    "\n",
    "ax[0].set_title('Persentase Berlangganan Deposito')\n",
    "ax[0].set_ylabel('')\n",
    "\n",
    "# Barchart besaran setiap nilai pada kelas target\n",
    "sns.barplot(x=bank_df.deposit.value_counts().index, y=bank_df.deposit.value_counts(), palette=['#00876c','#d43d51'])\n",
    "ax[1].set_title('Jumlah masing-masing kelas pada label')\n",
    "ax[1].set_ylabel('Jumlah')\n",
    "ax[1].set_xlabel('Berlangganan Deposito')\n",
    "ax[1].legend(title='Deposit')"
   ]
  },
  {
   "cell_type": "markdown",
   "metadata": {},
   "source": [
    "Analisis:\n",
    "\n",
    "Ada ketidakseimbangan value yes dan no.  Hal ini mungkin akan berpengaruh kepada hasil recall klasifikasi yang rendah. Metode samling undersampling bisa jadi opsi ketika performa model klasifikasi tidak cukup bagus untuk mengenali kelas 'yes'."
   ]
  },
  {
   "cell_type": "code",
   "execution_count": 22,
   "metadata": {},
   "outputs": [
    {
     "data": {
      "image/png": "[encoded data removed]",
      "text/plain": [
       "<Figure size 1080x576 with 3 Axes>"
      ]
     },
     "metadata": {
      "needs_background": "light"
     },
     "output_type": "display_data"
    }
   ],
   "source": [
    "# deposit/deposito dimulai dari kolom \"y\"\n",
    "\n",
    "fig=plt.figure(figsize=(15,8), facecolor=(0.2,0.0,0.0,0.0), edgecolor='black')\n",
    "plt.suptitle(\"Compare the deposit by Age\", family='Serif', size=15,weight='bold')\n",
    "\n",
    "plt.figtext(0.5,0.93,\"Histogram and boxplot to identify the mid value of Age by deposits\", family='Serif', size=12, ha='center')\n",
    "gs = GridSpec(nrows=2, ncols=4, figure=fig)\n",
    "ax1=plt.subplot(gs[0,:3])\n",
    "\n",
    "sns.histplot(data=bank_df, x='age', bins=10, ax=ax1, kde=True, hue='deposit', multiple='layer', element='bars', palette=['#00876c','#d43d51']);\n",
    "ax2=plt.subplot(gs[0,3:4], sharey=ax1)\n",
    "sns.histplot(data=bank_df[bank_df['deposit']=='yes'], x='age', bins=10, ax=ax2, kde=True, color=['#00876c']);\n",
    "ax2.yaxis.set_visible(False)\n",
    "\n",
    "ax4=plt.subplot(gs[1,:4])\n",
    "sns.boxplot(data=bank_df[bank_df['deposit']=='yes'], x='age', ax=ax4, palette=['#00876c']);\n",
    "ax4.yaxis.set_visible(False)\n",
    "ax4.text(60,0.15,\"Mean value: {:.2f}\".format(bank_df[bank_df['deposit']=='yes']['age'].mean()))\n",
    "ax4.text(60,0.20,\"Median value: {:.2f}\".format(bank_df[bank_df['deposit']=='yes']['age'].median()))\n",
    "ax4.text(60,0.25,\"Frequent age : {:.2f}\".format(bank_df[bank_df['deposit']=='yes']['age'].mode().max()))\n",
    "for i in ['left','right','bottom','top']:\n",
    "    ax1.spines[i].set_visible(False)\n",
    "    ax2.spines[i].set_visible(False)\n",
    "    ax4.spines[i].set_visible(False)"
   ]
  },
  {
   "cell_type": "markdown",
   "metadata": {},
   "source": [
    "Analisis:\n",
    "Hasil menarik dari grafik di atas. deposito dimulai pada usia 20+ dan puncak antara 30, 50. sering usia deposito adalah 32. Selain itu usia non deposito adalah antara 30-50 tahun dengan rata-rata sekitar 35-40 tahun"
   ]
  },
  {
   "cell_type": "code",
   "execution_count": 23,
   "metadata": {},
   "outputs": [
    {
     "data": {
      "text/plain": [
       "Text(0.05, -0.05, \"Observation:\\n Obivous that the single's y is less compared to married & divorced.\\n Married average age starts from 35+ to 60.\\n divorced ages is between 40 to 60 & singel ages is between 28 to 35.\\n Reason could be that the single might get married after 35 years approximately\")"
      ]
     },
     "execution_count": 23,
     "metadata": {},
     "output_type": "execute_result"
    },
    {
     "name": "stderr",
     "output_type": "stream",
     "text": [
      "findfont: Font family ['San'] not found. Falling back to DejaVu Sans.\n"
     ]
    },
    {
     "data": {
      "image/png": "[encoded data removed]",
      "text/plain": [
       "<Figure size 864x576 with 4 Axes>"
      ]
     },
     "metadata": {
      "needs_background": "light"
     },
     "output_type": "display_data"
    }
   ],
   "source": [
    "fig = plt.figure(figsize=(12,8))\n",
    "gs = GridSpec(ncols=3, nrows=2, figure=fig)\n",
    "plt.suptitle(\"Box plot to compare the age by marital status and deposits\", family='Serif', weight='bold', size=15)\n",
    "for i,c in enumerate(bank_df['marital'].unique()):\n",
    "    ax=plt.subplot(gs[0,i])\n",
    "    ax=sns.boxplot(y=bank_df[bank_df['marital']==c]['age'], x=bank_df['deposit'],palette=['#00876c','#d43d51']);\n",
    "    ax.spines['left'].set_visible(False)\n",
    "    ax.spines['right'].set_visible(False)\n",
    "    ax.spines['top'].set_visible(False)\n",
    "    ax.spines['bottom'].set_visible(False)\n",
    "\n",
    "ax=plt.subplot(gs[1,:])\n",
    "ax=sns.boxplot(data=bank_df[bank_df['deposit']=='yes'],y='marital',x='age', palette=['#00876c','#d43d51','#f7e382'])\n",
    "ax.spines['left'].set_visible(False)\n",
    "ax.spines['right'].set_visible(False)\n",
    "ax.spines['top'].set_visible(False)\n",
    "ax.spines['bottom'].set_visible(False)\n",
    "\n"
   ]
  },
  {
   "cell_type": "markdown",
   "metadata": {},
   "source": [
    "Analisis\n",
    "- Single lebih sedikit untuk berlangganan deposit dibandingkan married dan divorce\n",
    "- Rata-rata umur married dimulai dari 35+ to 60. \n",
    "- Umur divorced diantara 40 to 60 & umur singel diantara 28 to 35.\n",
    "- Penyebabnya mungkin single akan menikah setelah 35 (rata-ratanya) "
   ]
  },
  {
   "cell_type": "code",
   "execution_count": 24,
   "metadata": {},
   "outputs": [
    {
     "data": {
      "text/plain": [
       "Text(0.05, -0.05, 'Observation: People who has loan, have not deposited')"
      ]
     },
     "execution_count": 24,
     "metadata": {},
     "output_type": "execute_result"
    },
    {
     "data": {
      "image/png": "[encoded data removed]",
      "text/plain": [
       "<Figure size 864x576 with 1 Axes>"
      ]
     },
     "metadata": {
      "needs_background": "light"
     },
     "output_type": "display_data"
    }
   ],
   "source": [
    "fig = plt.figure(figsize=(12,8))\n",
    "ax=sns.countplot(data=bank_df, x='loan', hue='deposit', palette=['#00876c','#d43d51'])\n",
    "ax.set_title('Comparison of Loan and deposit', font='Serif', weight='bold', size=15)\n",
    "ax.spines['left'].set_visible(False)\n",
    "ax.spines['right'].set_visible(False)\n",
    "ax.spines['top'].set_visible(False)\n",
    "ax.spines['bottom'].set_visible(False)\n"
   ]
  },
  {
   "cell_type": "markdown",
   "metadata": {},
   "source": [
    "Analisis\n",
    "- Orang yang memiliki loan (utang), jarang/sedikit yang memiliki deposit"
   ]
  },
  {
   "cell_type": "code",
   "execution_count": 25,
   "metadata": {},
   "outputs": [
    {
     "data": {
      "text/plain": [
       "Text(0.05, -0.05, 'Observation:\\n Loan has bigger impact on the deposits, people who has loans has less deposits.\\n people deposited with loan is between the age of 30 to 50. people deposited without loan is from 30 to 60 year. so people getting olde preferes deposits than the loan')"
      ]
     },
     "execution_count": 25,
     "metadata": {},
     "output_type": "execute_result"
    },
    {
     "data": {
      "image/png": "[encoded data removed]",
      "text/plain": [
       "<Figure size 864x576 with 3 Axes>"
      ]
     },
     "metadata": {
      "needs_background": "light"
     },
     "output_type": "display_data"
    }
   ],
   "source": [
    "fig = plt.figure(figsize=(12,8))\n",
    "gs = GridSpec(ncols=3, nrows=2, figure=fig)\n",
    "plt.suptitle(\"Box plot to compare the age by marital status and deposits\", family='Serif', weight='bold', size=15)\n",
    "for i,c in enumerate(bank_df['loan'].unique()):\n",
    "    ax=plt.subplot(gs[0,i])\n",
    "    ax=sns.boxplot(y=bank_df[bank_df['loan']==c]['age'], x=bank_df['deposit'],palette=['#00876c','#d43d51']);\n",
    "    ax.spines['left'].set_visible(False)\n",
    "    ax.spines['right'].set_visible(False)\n",
    "    ax.spines['top'].set_visible(False)\n",
    "    ax.spines['bottom'].set_visible(False)\n",
    "    ax.set_title(\"Loan : {}\".format(c))\n",
    "\n",
    "ax=plt.subplot(gs[1,:])\n",
    "ax=sns.boxplot(data=bank_df[bank_df['deposit']=='yes'],y='loan',x='age', palette=['#00876c','#d43d51','#f7e382'])\n",
    "ax.spines['left'].set_visible(False)\n",
    "ax.spines['right'].set_visible(False)\n",
    "ax.spines['top'].set_visible(False)\n",
    "ax.spines['bottom'].set_visible(False)\n"
   ]
  },
  {
   "cell_type": "markdown",
   "metadata": {},
   "source": [
    "Analisis\n",
    "- Loan (hutang) menjadi faktor utama untuk deposit, orang yang punya loan hanya memiliki sedikit deposits\n",
    "- Orang yang memiliki hutang umurnya dari 30 hingga 50 tahun. Orang yang berlangganan deposit tanpa loan dari umur 30 - 60 tahun. Jadi orang yang lebih tua akan lebih menyukai deposit dibandingkan loan."
   ]
  },
  {
   "cell_type": "code",
   "execution_count": 26,
   "metadata": {},
   "outputs": [
    {
     "data": {
      "text/html": [
       "<div>\n",
       "<style scoped>\n",
       "    .dataframe tbody tr th:only-of-type {\n",
       "        vertical-align: middle;\n",
       "    }\n",
       "\n",
       "    .dataframe tbody tr th {\n",
       "        vertical-align: top;\n",
       "    }\n",
       "\n",
       "    .dataframe thead th {\n",
       "        text-align: right;\n",
       "    }\n",
       "</style>\n",
       "<table border=\"1\" class=\"dataframe\">\n",
       "  <thead>\n",
       "    <tr style=\"text-align: right;\">\n",
       "      <th></th>\n",
       "      <th>count</th>\n",
       "      <th>mean</th>\n",
       "      <th>std</th>\n",
       "      <th>min</th>\n",
       "      <th>25%</th>\n",
       "      <th>50%</th>\n",
       "      <th>75%</th>\n",
       "      <th>max</th>\n",
       "    </tr>\n",
       "    <tr>\n",
       "      <th>loan</th>\n",
       "      <th></th>\n",
       "      <th></th>\n",
       "      <th></th>\n",
       "      <th></th>\n",
       "      <th></th>\n",
       "      <th></th>\n",
       "      <th></th>\n",
       "      <th></th>\n",
       "    </tr>\n",
       "  </thead>\n",
       "  <tbody>\n",
       "    <tr>\n",
       "      <th>no</th>\n",
       "      <td>34919.0</td>\n",
       "      <td>40.038833</td>\n",
       "      <td>10.404117</td>\n",
       "      <td>17.0</td>\n",
       "      <td>32.0</td>\n",
       "      <td>38.0</td>\n",
       "      <td>47.0</td>\n",
       "      <td>98.0</td>\n",
       "    </tr>\n",
       "    <tr>\n",
       "      <th>yes</th>\n",
       "      <td>6242.0</td>\n",
       "      <td>39.806152</td>\n",
       "      <td>10.283199</td>\n",
       "      <td>17.0</td>\n",
       "      <td>32.0</td>\n",
       "      <td>38.0</td>\n",
       "      <td>47.0</td>\n",
       "      <td>92.0</td>\n",
       "    </tr>\n",
       "  </tbody>\n",
       "</table>\n",
       "</div>"
      ],
      "text/plain": [
       "        count       mean        std   min   25%   50%   75%   max\n",
       "loan                                                             \n",
       "no    34919.0  40.038833  10.404117  17.0  32.0  38.0  47.0  98.0\n",
       "yes    6242.0  39.806152  10.283199  17.0  32.0  38.0  47.0  92.0"
      ]
     },
     "execution_count": 26,
     "metadata": {},
     "output_type": "execute_result"
    }
   ],
   "source": [
    "bank_df.groupby(['loan']).describe()['age']"
   ]
  },
  {
   "cell_type": "code",
   "execution_count": 27,
   "metadata": {},
   "outputs": [
    {
     "data": {
      "text/plain": [
       "<AxesSubplot:xlabel='campaign', ylabel='count'>"
      ]
     },
     "execution_count": 27,
     "metadata": {},
     "output_type": "execute_result"
    },
    {
     "data": {
      "image/png": "[encoded data removed]",
      "text/plain": [
       "<Figure size 864x576 with 1 Axes>"
      ]
     },
     "metadata": {
      "needs_background": "light"
     },
     "output_type": "display_data"
    }
   ],
   "source": [
    "# mari kita periksa apakah kampanye memiliki perubahan deposit yang signifikan\n",
    "fig=plt.figure(figsize=(12,8))\n",
    "sns.countplot(data=bank_df,x='campaign',hue='deposit', palette=['#00876c','#d43d51'])"
   ]
  },
  {
   "cell_type": "markdown",
   "metadata": {},
   "source": [
    "Analisis\n",
    "- Jumlah dihubungi selama campagin semakin besar, terlihat adanya tidak."
   ]
  },
  {
   "cell_type": "code",
   "execution_count": 28,
   "metadata": {},
   "outputs": [
    {
     "data": {
      "image/png": "[encoded data removed]",
      "text/plain": [
       "<Figure size 864x576 with 2 Axes>"
      ]
     },
     "metadata": {},
     "output_type": "display_data"
    }
   ],
   "source": [
    "fig = plt.figure(figsize=(12,8))\n",
    "plt.suptitle(\"Comparision of Education with deposit\", family='Serif', size=15, ha='center', weight='bold')\n",
    "plt.figtext(0.5,0.93,\"comparing the ecucation impact on deposit\", family='Serif', size=12, ha='center')\n",
    "gs = GridSpec(nrows=1, ncols=2, width_ratios=[5,2])\n",
    "ax1=plt.subplot(gs[0,0])\n",
    "ax1=plt.pie(bank_df[bank_df['deposit']=='yes']['education'].value_counts(), labels=bank_df[bank_df['deposit']=='yes']['education'].unique(), autopct='%2d', colors=cols)\n",
    "ax2=plt.subplot(gs[0,1])\n",
    "ax2=plt.pie(bank_df[bank_df['deposit']=='no']['education'].value_counts(), labels=bank_df[bank_df['deposit']=='no']['education'].unique(), autopct='%2d', colors=cols)"
   ]
  },
  {
   "cell_type": "markdown",
   "metadata": {},
   "source": [
    "Analisis\n",
    "- Perbandingan berdasarkan pendidikan hampir seimbang. Bisa dilihat pada diagram, berapa % yang memiliki dibanding tidak."
   ]
  },
  {
   "cell_type": "markdown",
   "metadata": {},
   "source": [
    "### Data Manipulation\n",
    " Langkah selanjutnya adalah menentukan variabel mana saja yang berpengaruh secara signifikan dengan heatmap dan hasil analisis sebelumnya. Sebelum itu, lakukan dulu encoding untuk mengubah categorical value ke numerical value."
   ]
  },
  {
   "cell_type": "markdown",
   "metadata": {},
   "source": [
    "#### Manipulasi Kolom pdays\n",
    "Kolom pdays mengindikasikan seberapa lama customer dikontak dari hari ini.\n",
    "- Jika pdays = 999, mengindikasikan tidak pernah dikontak sebelumnya\n",
    "- Jika pdays = 1, mengindikasikan baru-baru ini dikontak\n",
    "\n",
    "Lebih bagus untuk mengubah dari 999 ke 0 dan pernah dikontak menjadi 1 agar lebih simpel."
   ]
  },
  {
   "cell_type": "code",
   "execution_count": 29,
   "metadata": {},
   "outputs": [],
   "source": [
    "def pdayswork(pdays):\n",
    "    if(pdays == 999):\n",
    "        return(0)\n",
    "    elif(pdays >= 0):\n",
    "        return(1)\n",
    "bank_df['pdays2'] = bank_df['pdays'].apply(pdayswork)"
   ]
  },
  {
   "cell_type": "code",
   "execution_count": 30,
   "metadata": {},
   "outputs": [
    {
     "data": {
      "text/plain": [
       "<AxesSubplot:>"
      ]
     },
     "execution_count": 30,
     "metadata": {},
     "output_type": "execute_result"
    },
    {
     "data": {
      "image/png": "[encoded data removed]",
      "text/plain": [
       "<Figure size 864x576 with 2 Axes>"
      ]
     },
     "metadata": {
      "needs_background": "light"
     },
     "output_type": "display_data"
    }
   ],
   "source": [
    "fig = plt.figure(figsize=(12,8))\n",
    "sns.heatmap(bank_df.corr(), cmap=cols, annot=True, linewidths=0.5)"
   ]
  },
  {
   "cell_type": "markdown",
   "metadata": {},
   "source": [
    "#### Encoding Kategorical Value\n",
    "Atribut kategorikal dapat dipisah menjadi tipe ordinal (ada tingkatan) dan nominal (setara)\n",
    "\n",
    "- Nominal Atribut : job, education, contact, month, day of week, poutcome.\n",
    "- Ordinal Atribut : marital, default, housing, loan, y (deposit"
   ]
  },
  {
   "cell_type": "code",
   "execution_count": 31,
   "metadata": {},
   "outputs": [
    {
     "name": "stdout",
     "output_type": "stream",
     "text": [
      "<class 'pandas.core.frame.DataFrame'>\n",
      "Int64Index: 41161 entries, 0 to 41187\n",
      "Data columns (total 22 columns):\n",
      " #   Column          Non-Null Count  Dtype  \n",
      "---  ------          --------------  -----  \n",
      " 0   age             41161 non-null  int64  \n",
      " 1   job             41161 non-null  object \n",
      " 2   marital         41161 non-null  object \n",
      " 3   education       41161 non-null  object \n",
      " 4   default         41161 non-null  object \n",
      " 5   housing         41161 non-null  object \n",
      " 6   loan            41161 non-null  object \n",
      " 7   contact         41161 non-null  object \n",
      " 8   month           41161 non-null  object \n",
      " 9   day_of_week     41161 non-null  object \n",
      " 10  duration        41161 non-null  int64  \n",
      " 11  campaign        41161 non-null  int64  \n",
      " 12  pdays           41161 non-null  int64  \n",
      " 13  previous        41161 non-null  int64  \n",
      " 14  poutcome        41161 non-null  object \n",
      " 15  emp.var.rate    41161 non-null  float64\n",
      " 16  cons.price.idx  41161 non-null  float64\n",
      " 17  cons.conf.idx   41161 non-null  float64\n",
      " 18  euribor3m       41161 non-null  float64\n",
      " 19  nr.employed     41161 non-null  float64\n",
      " 20  deposit         41161 non-null  object \n",
      " 21  pdays2          41161 non-null  int64  \n",
      "dtypes: float64(5), int64(6), object(11)\n",
      "memory usage: 8.2+ MB\n"
     ]
    }
   ],
   "source": [
    "bank_df.info()"
   ]
  },
  {
   "cell_type": "code",
   "execution_count": 32,
   "metadata": {},
   "outputs": [],
   "source": [
    "# mengelompokkan kolomnya\n",
    "numerical_columns = list(bank_df.select_dtypes(include=['int64']).columns.values) + list(bank_df.select_dtypes(include=['float64']).columns.values)\n",
    "categorical_columns = list(bank_df.select_dtypes(include=['object']))"
   ]
  },
  {
   "cell_type": "code",
   "execution_count": 33,
   "metadata": {},
   "outputs": [],
   "source": [
    "# memilih atribut nominal dari tipe kolom kategorical\n",
    "nominal_columns = ['job', 'education', 'contact', 'month', 'day_of_week', 'poutcome']\n",
    "ordinal_columns = [col for col in categorical_columns if col not in nominal_columns]"
   ]
  },
  {
   "cell_type": "code",
   "execution_count": 34,
   "metadata": {},
   "outputs": [],
   "source": [
    "# One hot encoding untuk nominal atribut\n",
    "ohe_bank_df = pd.get_dummies(bank_df[nominal_columns], columns=nominal_columns, prefix=nominal_columns)\n",
    "\n",
    "# label encoding untuk ordinal atribut\n",
    "le_bank_df = bank_df.loc[:, ordinal_columns]\n",
    "encoder = LabelEncoder()\n",
    "\n",
    "for ord_col in ordinal_columns:\n",
    "  le_bank_df[ord_col] = encoder.fit_transform(le_bank_df[ord_col])\n",
    "\n",
    "# gabungkaan keduanya\n",
    "bank_df_categorical_encoded = pd.concat([ohe_bank_df,le_bank_df], axis=1)"
   ]
  },
  {
   "cell_type": "code",
   "execution_count": 35,
   "metadata": {},
   "outputs": [
    {
     "data": {
      "text/html": [
       "<div>\n",
       "<style scoped>\n",
       "    .dataframe tbody tr th:only-of-type {\n",
       "        vertical-align: middle;\n",
       "    }\n",
       "\n",
       "    .dataframe tbody tr th {\n",
       "        vertical-align: top;\n",
       "    }\n",
       "\n",
       "    .dataframe thead th {\n",
       "        text-align: right;\n",
       "    }\n",
       "</style>\n",
       "<table border=\"1\" class=\"dataframe\">\n",
       "  <thead>\n",
       "    <tr style=\"text-align: right;\">\n",
       "      <th></th>\n",
       "      <th>job_admin.</th>\n",
       "      <th>job_blue-collar</th>\n",
       "      <th>job_entrepreneur</th>\n",
       "      <th>job_housemaid</th>\n",
       "      <th>job_management</th>\n",
       "      <th>job_retired</th>\n",
       "      <th>job_self-employed</th>\n",
       "      <th>job_services</th>\n",
       "      <th>job_student</th>\n",
       "      <th>job_technician</th>\n",
       "      <th>...</th>\n",
       "      <th>day_of_week_tue</th>\n",
       "      <th>day_of_week_wed</th>\n",
       "      <th>poutcome_failure</th>\n",
       "      <th>poutcome_nonexistent</th>\n",
       "      <th>poutcome_success</th>\n",
       "      <th>marital</th>\n",
       "      <th>default</th>\n",
       "      <th>housing</th>\n",
       "      <th>loan</th>\n",
       "      <th>deposit</th>\n",
       "    </tr>\n",
       "  </thead>\n",
       "  <tbody>\n",
       "    <tr>\n",
       "      <th>0</th>\n",
       "      <td>0</td>\n",
       "      <td>0</td>\n",
       "      <td>0</td>\n",
       "      <td>1</td>\n",
       "      <td>0</td>\n",
       "      <td>0</td>\n",
       "      <td>0</td>\n",
       "      <td>0</td>\n",
       "      <td>0</td>\n",
       "      <td>0</td>\n",
       "      <td>...</td>\n",
       "      <td>0</td>\n",
       "      <td>0</td>\n",
       "      <td>0</td>\n",
       "      <td>1</td>\n",
       "      <td>0</td>\n",
       "      <td>1</td>\n",
       "      <td>0</td>\n",
       "      <td>0</td>\n",
       "      <td>0</td>\n",
       "      <td>0</td>\n",
       "    </tr>\n",
       "    <tr>\n",
       "      <th>1</th>\n",
       "      <td>0</td>\n",
       "      <td>0</td>\n",
       "      <td>0</td>\n",
       "      <td>0</td>\n",
       "      <td>0</td>\n",
       "      <td>0</td>\n",
       "      <td>0</td>\n",
       "      <td>1</td>\n",
       "      <td>0</td>\n",
       "      <td>0</td>\n",
       "      <td>...</td>\n",
       "      <td>0</td>\n",
       "      <td>0</td>\n",
       "      <td>0</td>\n",
       "      <td>1</td>\n",
       "      <td>0</td>\n",
       "      <td>1</td>\n",
       "      <td>1</td>\n",
       "      <td>0</td>\n",
       "      <td>0</td>\n",
       "      <td>0</td>\n",
       "    </tr>\n",
       "    <tr>\n",
       "      <th>2</th>\n",
       "      <td>0</td>\n",
       "      <td>0</td>\n",
       "      <td>0</td>\n",
       "      <td>0</td>\n",
       "      <td>0</td>\n",
       "      <td>0</td>\n",
       "      <td>0</td>\n",
       "      <td>1</td>\n",
       "      <td>0</td>\n",
       "      <td>0</td>\n",
       "      <td>...</td>\n",
       "      <td>0</td>\n",
       "      <td>0</td>\n",
       "      <td>0</td>\n",
       "      <td>1</td>\n",
       "      <td>0</td>\n",
       "      <td>1</td>\n",
       "      <td>0</td>\n",
       "      <td>1</td>\n",
       "      <td>0</td>\n",
       "      <td>0</td>\n",
       "    </tr>\n",
       "    <tr>\n",
       "      <th>3</th>\n",
       "      <td>1</td>\n",
       "      <td>0</td>\n",
       "      <td>0</td>\n",
       "      <td>0</td>\n",
       "      <td>0</td>\n",
       "      <td>0</td>\n",
       "      <td>0</td>\n",
       "      <td>0</td>\n",
       "      <td>0</td>\n",
       "      <td>0</td>\n",
       "      <td>...</td>\n",
       "      <td>0</td>\n",
       "      <td>0</td>\n",
       "      <td>0</td>\n",
       "      <td>1</td>\n",
       "      <td>0</td>\n",
       "      <td>1</td>\n",
       "      <td>0</td>\n",
       "      <td>0</td>\n",
       "      <td>0</td>\n",
       "      <td>0</td>\n",
       "    </tr>\n",
       "    <tr>\n",
       "      <th>4</th>\n",
       "      <td>0</td>\n",
       "      <td>0</td>\n",
       "      <td>0</td>\n",
       "      <td>0</td>\n",
       "      <td>0</td>\n",
       "      <td>0</td>\n",
       "      <td>0</td>\n",
       "      <td>1</td>\n",
       "      <td>0</td>\n",
       "      <td>0</td>\n",
       "      <td>...</td>\n",
       "      <td>0</td>\n",
       "      <td>0</td>\n",
       "      <td>0</td>\n",
       "      <td>1</td>\n",
       "      <td>0</td>\n",
       "      <td>1</td>\n",
       "      <td>0</td>\n",
       "      <td>0</td>\n",
       "      <td>1</td>\n",
       "      <td>0</td>\n",
       "    </tr>\n",
       "  </tbody>\n",
       "</table>\n",
       "<p>5 rows × 43 columns</p>\n",
       "</div>"
      ],
      "text/plain": [
       "   job_admin.  job_blue-collar  job_entrepreneur  job_housemaid  \\\n",
       "0           0                0                 0              1   \n",
       "1           0                0                 0              0   \n",
       "2           0                0                 0              0   \n",
       "3           1                0                 0              0   \n",
       "4           0                0                 0              0   \n",
       "\n",
       "   job_management  job_retired  job_self-employed  job_services  job_student  \\\n",
       "0               0            0                  0             0            0   \n",
       "1               0            0                  0             1            0   \n",
       "2               0            0                  0             1            0   \n",
       "3               0            0                  0             0            0   \n",
       "4               0            0                  0             1            0   \n",
       "\n",
       "   job_technician  ...  day_of_week_tue  day_of_week_wed  poutcome_failure  \\\n",
       "0               0  ...                0                0                 0   \n",
       "1               0  ...                0                0                 0   \n",
       "2               0  ...                0                0                 0   \n",
       "3               0  ...                0                0                 0   \n",
       "4               0  ...                0                0                 0   \n",
       "\n",
       "   poutcome_nonexistent  poutcome_success  marital  default  housing  loan  \\\n",
       "0                     1                 0        1        0        0     0   \n",
       "1                     1                 0        1        1        0     0   \n",
       "2                     1                 0        1        0        1     0   \n",
       "3                     1                 0        1        0        0     0   \n",
       "4                     1                 0        1        0        0     1   \n",
       "\n",
       "   deposit  \n",
       "0        0  \n",
       "1        0  \n",
       "2        0  \n",
       "3        0  \n",
       "4        0  \n",
       "\n",
       "[5 rows x 43 columns]"
      ]
     },
     "execution_count": 35,
     "metadata": {},
     "output_type": "execute_result"
    }
   ],
   "source": [
    "# Hasil encodingnya\n",
    "bank_df_categorical_encoded.head()"
   ]
  },
  {
   "cell_type": "markdown",
   "metadata": {},
   "source": [
    "#### Pengaruh tipe kategorikal pada dependent variabel (kolom deposit)\n",
    "tipe kategorical dapat diukur dengan Chi-Squared"
   ]
  },
  {
   "cell_type": "code",
   "execution_count": 36,
   "metadata": {},
   "outputs": [],
   "source": [
    "# mendapatkan daftar kolom baru hasil encoding\n",
    "e_categorical_columns = list(bank_df_categorical_encoded)\n",
    "e_categorical_columns.remove('deposit')\n",
    "\n",
    "# menyiapkan kolom independent variabel dan dependent variabel\n",
    "X_categorical = bank_df_categorical_encoded.drop('deposit', axis=1)\n",
    "y_categorical = bank_df_categorical_encoded['deposit']"
   ]
  },
  {
   "cell_type": "code",
   "execution_count": 37,
   "metadata": {},
   "outputs": [],
   "source": [
    "chi_square_fs = SelectKBest(score_func=chi2, k='all')\n",
    "\n",
    "# fit chi-square into data\n",
    "X_categorical_selected = chi_square_fs.fit_transform(X_categorical,y_categorical)"
   ]
  },
  {
   "cell_type": "code",
   "execution_count": 38,
   "metadata": {},
   "outputs": [
    {
     "data": {
      "image/png": "[encoded data removed]",
      "text/plain": [
       "<Figure size 864x720 with 1 Axes>"
      ]
     },
     "metadata": {
      "needs_background": "light"
     },
     "output_type": "display_data"
    }
   ],
   "source": [
    "# Plotting score setiap kolom kategorikal\n",
    "plt.figure(figsize=(12,10))\n",
    "plt.barh([cat_col for cat_col in e_categorical_columns], chi_square_fs.scores_)\n",
    "plt.ylabel('Daftar Kolom Kategorikal', fontsize=12)\n",
    "plt.xlabel('Nilai Chi-Squared Feature Importance', fontsize=12)\n",
    "plt.title('Grafik batang  (x) vs The Chi-Squared Feature Importance (y)',fontsize=12)\n",
    "plt.show()"
   ]
  },
  {
   "cell_type": "markdown",
   "metadata": {},
   "source": [
    "Atribut **poutcome_success** menjadi atribut kategorikal yang memberikan kepentingan atribut tertinggi dibandingkan dengan yang lainnya."
   ]
  },
  {
   "cell_type": "markdown",
   "metadata": {},
   "source": [
    "#### Pengaruh kolom numerical pada dependent variabel (kolom deposit)\n",
    "tipe kategorical dapat diukur dengan ANOVA F-score"
   ]
  },
  {
   "cell_type": "code",
   "execution_count": 1,
   "metadata": {},
   "outputs": [
    {
     "ename": "NameError",
     "evalue": "name 'bank_df' is not defined",
     "output_type": "error",
     "traceback": [
      "\u001b[1;31m---------------------------------------------------------------------------\u001b[0m",
      "\u001b[1;31mNameError\u001b[0m                                 Traceback (most recent call last)",
      "\u001b[1;32mC:\\Users\\ADMINI~1\\AppData\\Local\\Temp/ipykernel_4588/1369238673.py\u001b[0m in \u001b[0;36m<module>\u001b[1;34m\u001b[0m\n\u001b[0;32m      1\u001b[0m \u001b[1;31m# menyiapkan atribut dan target\u001b[0m\u001b[1;33m\u001b[0m\u001b[1;33m\u001b[0m\u001b[0m\n\u001b[1;32m----> 2\u001b[1;33m \u001b[0mX_numerical\u001b[0m \u001b[1;33m=\u001b[0m \u001b[0mbank_df\u001b[0m\u001b[1;33m[\u001b[0m\u001b[0mnumerical_columns\u001b[0m\u001b[1;33m]\u001b[0m\u001b[1;33m.\u001b[0m\u001b[0mcopy\u001b[0m\u001b[1;33m(\u001b[0m\u001b[0mdeep\u001b[0m\u001b[1;33m=\u001b[0m\u001b[1;32mTrue\u001b[0m\u001b[1;33m)\u001b[0m\u001b[1;33m\u001b[0m\u001b[1;33m\u001b[0m\u001b[0m\n\u001b[0m\u001b[0;32m      3\u001b[0m \u001b[0my_numerical\u001b[0m \u001b[1;33m=\u001b[0m \u001b[0my_categorical\u001b[0m\u001b[1;33m.\u001b[0m\u001b[0mcopy\u001b[0m\u001b[1;33m(\u001b[0m\u001b[0mdeep\u001b[0m\u001b[1;33m=\u001b[0m\u001b[1;32mTrue\u001b[0m\u001b[1;33m)\u001b[0m\u001b[1;33m\u001b[0m\u001b[1;33m\u001b[0m\u001b[0m\n",
      "\u001b[1;31mNameError\u001b[0m: name 'bank_df' is not defined"
     ]
    }
   ],
   "source": [
    "# menyiapkan independent variabel dan dependent variabel\n",
    "X_numerical = bank_df[numerical_columns].copy(deep=True)\n",
    "y_numerical = y_categorical.copy(deep=True)"
   ]
  },
  {
   "cell_type": "code",
   "execution_count": 40,
   "metadata": {},
   "outputs": [],
   "source": [
    "anova_fs = SelectKBest(score_func=f_classif,k='all')\n",
    "\n",
    "# fit into data\n",
    "X_numerical_selected = anova_fs.fit_transform(X_numerical,y_numerical)"
   ]
  },
  {
   "cell_type": "code",
   "execution_count": 41,
   "metadata": {},
   "outputs": [
    {
     "data": {
      "image/png": "[encoded data removed]",
      "text/plain": [
       "<Figure size 864x720 with 1 Axes>"
      ]
     },
     "metadata": {
      "needs_background": "light"
     },
     "output_type": "display_data"
    }
   ],
   "source": [
    "# Plotting score setiap tipe kelas kategorikal\n",
    "plt.figure(figsize=(12,10))\n",
    "plt.barh([num_col for num_col in list(X_numerical.columns)], anova_fs.scores_)\n",
    "plt.ylabel('Daftar Atribut Numerikal', fontsize=12)\n",
    "plt.xlabel('Nilai ANOVA F-measure Feature Importance', fontsize=12)\n",
    "plt.title('Grafik batang atribut (x) vs The ANOVA F-measure Feature Importance (y)',fontsize=12)\n",
    "plt.show()"
   ]
  },
  {
   "cell_type": "markdown",
   "metadata": {},
   "source": [
    "Kolom duration memiliki kepentingan yang paling tinggi dibandingkan kolom numerikal lainnya. Dapat disimpulkan berlangganan deposito memiliki korelasi dengan durasi pemasaran/kampanye yang dilakukan pihak bank melalui telepon"
   ]
  },
  {
   "cell_type": "code",
   "execution_count": 42,
   "metadata": {},
   "outputs": [],
   "source": [
    "# menyatukan kembali data\n",
    "bank_df_ready = pd.concat([bank_df[numerical_columns],bank_df_categorical_encoded],axis=1)"
   ]
  },
  {
   "cell_type": "markdown",
   "metadata": {},
   "source": [
    "#### Pembagian Dataset ke Data Latih & Data Uji\n",
    "- Pembagian 80% data latih dan 20% data uji.\n",
    "- Data latih akan digunakan untuk tuning parameter dan hyperparmaeter serta melakukan feature selection.\n",
    "- Data uji untuk menguji performa model klasifikasi yang sudah dulatih sebelumnya."
   ]
  },
  {
   "cell_type": "code",
   "execution_count": 43,
   "metadata": {},
   "outputs": [],
   "source": [
    "# pembagian data\n",
    "X = bank_df_ready.drop('deposit', axis=1)\n",
    "y = bank_df_ready['deposit']\n",
    "X_train, X_test, y_train, y_test = train_test_split(X, y, test_size=0.2, random_state=42)\n"
   ]
  },
  {
   "cell_type": "code",
   "execution_count": 45,
   "metadata": {},
   "outputs": [
    {
     "name": "stdout",
     "output_type": "stream",
     "text": [
      "Dimensi data latih=  (32928, 53)\n",
      "Dimensi data uji (8233, 53)\n",
      "Dimensi target data latih (32928,)\n",
      "Dimensi target data uji (8233,)\n"
     ]
    }
   ],
   "source": [
    "# dimensi data setelah dibagi\n",
    "print('Dimensi data latih ', X_train.shape)\n",
    "print('Dimensi data uji', X_test.shape)\n",
    "print('Dimensi target data latih', y_train.shape)\n",
    "print('Dimensi target data uji', y_test.shape)\n"
   ]
  },
  {
   "cell_type": "markdown",
   "metadata": {},
   "source": [
    "#### Normalisasi Data\n",
    "Metode Normalisasi z-score digunakan untuk menyamakan skala dari setiap atribut pada data ke standard normal distribution (mean = 0, std=1)"
   ]
  },
  {
   "cell_type": "code",
   "execution_count": 46,
   "metadata": {},
   "outputs": [],
   "source": [
    "# melakukan sclaer dengan kelas standard_scaler\n",
    "standard_scaler = StandardScaler()\n",
    "standard_scaler.fit(X_train)\n",
    "\n",
    "# transformasi data\n",
    "X_train = standard_scaler.transform(X_train)\n",
    "X_test = standard_scaler.transform(X_test)"
   ]
  },
  {
   "cell_type": "markdown",
   "metadata": {},
   "source": [
    "#### Dimensionality Reduction\n",
    "Jumlah dimensi akan dikurangi dengan PCA"
   ]
  },
  {
   "cell_type": "code",
   "execution_count": 47,
   "metadata": {},
   "outputs": [
    {
     "name": "stdout",
     "output_type": "stream",
     "text": [
      "Nilai Eigen setiap Principal Component\n",
      "[5.61884707e+00 2.87595072e+00 2.60985835e+00 2.16997297e+00\n",
      " 2.00832668e+00 1.93195625e+00 1.78221519e+00 1.66188917e+00\n",
      " 1.54625526e+00 1.49403625e+00 1.27164144e+00 1.26066489e+00\n",
      " 1.24906448e+00 1.23681498e+00 1.22280608e+00 1.15560325e+00\n",
      " 1.14146406e+00 1.11413290e+00 1.07889257e+00 1.05450170e+00\n",
      " 1.04380906e+00 1.03724885e+00 1.03077782e+00 1.02033961e+00\n",
      " 1.01075236e+00 9.99776493e-01 9.89173238e-01 9.86722612e-01\n",
      " 9.60005730e-01 9.48217001e-01 8.89275261e-01 8.64619426e-01\n",
      " 8.33982921e-01 7.95250263e-01 7.33547240e-01 7.13035750e-01\n",
      " 6.10626503e-01 4.42977871e-01 4.38487210e-01 4.24308794e-01\n",
      " 2.44013001e-01 1.82684479e-01 1.41824486e-01 6.79493569e-02\n",
      " 6.54298525e-02 4.18735192e-02 6.63874550e-06 1.10812220e-30\n",
      " 4.00171325e-31 1.66416206e-31 8.66991562e-32 3.37681262e-32\n",
      " 3.34160743e-32]\n",
      "==============================\n",
      "Rasio Nilai Eigen setiap Principal Component\n",
      "[1.06012763e-01 5.42615732e-02 4.92411149e-02 4.09416428e-02\n",
      " 3.78918055e-02 3.64508978e-02 3.36256804e-02 3.13554472e-02\n",
      " 2.91737416e-02 2.81885071e-02 2.39925061e-02 2.37854077e-02\n",
      " 2.35665386e-02 2.33354229e-02 2.30711122e-02 2.18031728e-02\n",
      " 2.15364037e-02 2.10207370e-02 2.03558455e-02 1.98956542e-02\n",
      " 1.96939125e-02 1.95701386e-02 1.94480474e-02 1.92511062e-02\n",
      " 1.90702201e-02 1.88631345e-02 1.86630792e-02 1.86168424e-02\n",
      " 1.81127656e-02 1.78903435e-02 1.67782689e-02 1.63130786e-02\n",
      " 1.57350489e-02 1.50042663e-02 1.38400936e-02 1.34530961e-02\n",
      " 1.15209049e-02 8.35781921e-03 8.27309233e-03 8.00558317e-03\n",
      " 4.60387906e-03 3.44677228e-03 2.67585244e-03 1.28202440e-03\n",
      " 1.23448803e-03 7.90042407e-04 1.25255545e-07 2.09073310e-32\n",
      " 7.55017307e-33 3.13983306e-33 1.63578346e-33 6.37115107e-34\n",
      " 6.30472819e-34]\n",
      "==============================\n"
     ]
    }
   ],
   "source": [
    "# mereduksi dimensi dengan kelas PCA\n",
    "pca_ = PCA()\n",
    "pca_.fit(X_train)\n",
    "\n",
    "# mencetak nilai eigen setiap principal component\n",
    "print('Nilai Eigen setiap Principal Component')\n",
    "print(pca_.explained_variance_)\n",
    "print(\"=\"*30)\n",
    "\n",
    "# mencetak ratio masing-masing nilai eigen terhadap keseluruhan\n",
    "print('Rasio Nilai Eigen setiap Principal Component')\n",
    "print(pca_.explained_variance_ratio_)\n",
    "print(\"=\"*30)"
   ]
  },
  {
   "cell_type": "code",
   "execution_count": 48,
   "metadata": {},
   "outputs": [],
   "source": [
    "# membuat dataframe untuk memplotting variance ratio yang dihasilkan PCA\n",
    "pca_variance = pd.DataFrame(data=pca_.explained_variance_ratio_,columns=['PC Variance'])\n",
    "pca_variance['pc_name'] = pd.Series(data=['PC-'+str(i+1) for i in range(0,X_train.shape[1])])\n",
    "pca_variance = pca_variance.sort_values(by='PC Variance')"
   ]
  },
  {
   "cell_type": "code",
   "execution_count": 49,
   "metadata": {},
   "outputs": [
    {
     "data": {
      "image/png": "[encoded data removed]",
      "text/plain": [
       "<Figure size 864x1008 with 1 Axes>"
      ]
     },
     "metadata": {
      "needs_background": "light"
     },
     "output_type": "display_data"
    }
   ],
   "source": [
    "# Plotting variance ratio yang dijelaskan setiap component\n",
    "plt.figure(figsize=(12,14))\n",
    "pca_variance['PC Variance'].plot(kind='barh')\n",
    "plt.yticks(ticks=range(0,X_train.shape[1]), labels=pca_variance['pc_name'])\n",
    "plt.title('Rasio Variance yang dihasilkan setiap Principal Component')\n",
    "plt.xlabel('Rasio Variance')\n",
    "plt.ylabel('Principal Component')\n",
    "plt.show()"
   ]
  },
  {
   "cell_type": "markdown",
   "metadata": {},
   "source": [
    "Mencari jumlah principal component terbaik.\n",
    "\n",
    "Ada beberapa metode untuk menentukan jumlah principal component terbaik yang harus digunakan. Salah satu sumber menyebutkan: <br>\n",
    "1. Jumlah PC terbaik yang terpilih adalah PC yang menghasilkan nilai eigen lebih besar atau sama dengan 1\n"
   ]
  },
  {
   "cell_type": "code",
   "execution_count": 50,
   "metadata": {},
   "outputs": [],
   "source": [
    "# Mencari komponen yang menghasilkan nilai eigen value >= 1\n",
    "def find_best_n_components(pca): \n",
    "    n_best_component = 0\n",
    "    for i in range(0,len(pca.explained_variance_)):\n",
    "        if pca.explained_variance_[i]>=1:\n",
    "            n_best_component+=1\n",
    "    \n",
    "    return n_best_component"
   ]
  },
  {
   "cell_type": "code",
   "execution_count": 51,
   "metadata": {},
   "outputs": [
    {
     "name": "stdout",
     "output_type": "stream",
     "text": [
      "Jumlah n Principal Component terbaik = 25 komponen\n",
      "Informasi yang dijelaskan oleh 25 komponen = 76.65393988131348 %\n",
      "Kehilangan Informasi = 23.346060118686523 %\n"
     ]
    }
   ],
   "source": [
    "# mencari jumlah principal component terbaik\n",
    "n_components = find_best_n_components(pca_)\n",
    "print('Jumlah n Principal Component terbaik = {} komponen'.format(n_components))\n",
    "print('Informasi yang dijelaskan oleh {} komponen = {} %'.format(n_components,(np.sum(pca_.explained_variance_ratio_[:n_components]))*100))\n",
    "print('Kehilangan Informasi = {} %'.format(100-(np.sum(pca_.explained_variance_ratio_[:n_components]))*100))"
   ]
  },
  {
   "cell_type": "markdown",
   "metadata": {},
   "source": [
    "Instansiasi PCA dengan n component terbaik\n",
    "1. Buat PCA dengan n component terbaik\n",
    "2. Fitting ke data latih \n",
    "3. Transform ke atribut data latih dan data uji"
   ]
  },
  {
   "cell_type": "code",
   "execution_count": 52,
   "metadata": {},
   "outputs": [],
   "source": [
    "pca_ = PCA(n_components=n_components)\n",
    "pca_.fit(X_train)\n",
    "\n",
    "# transform into train and test data\n",
    "X_train_pca = pca_.transform(X_train)\n",
    "X_test_pca = pca_.transform(X_test)"
   ]
  },
  {
   "cell_type": "code",
   "execution_count": null,
   "metadata": {},
   "outputs": [],
   "source": [
    "# buat dataframe untuk mempermudah melihat data hasil PCA\n",
    "train_pca_df = pd.DataFrame(data=X_train_pca,columns=['PC-'+str(i) for i in range(0,n_components)])\n",
    "train_pca_df['target'] = y_train.to_numpy()\n",
    "\n",
    "test_pca_df = pd.DataFrame(data=X_test_pca,columns=['PC-'+str(i) for i in range(0,n_components)])\n",
    "test_pca_df['target'] = y_test.to_numpy()"
   ]
  },
  {
   "cell_type": "code",
   "execution_count": null,
   "metadata": {},
   "outputs": [
    {
     "data": {
      "text/html": [
       "<div>\n",
       "<style scoped>\n",
       "    .dataframe tbody tr th:only-of-type {\n",
       "        vertical-align: middle;\n",
       "    }\n",
       "\n",
       "    .dataframe tbody tr th {\n",
       "        vertical-align: top;\n",
       "    }\n",
       "\n",
       "    .dataframe thead th {\n",
       "        text-align: right;\n",
       "    }\n",
       "</style>\n",
       "<table border=\"1\" class=\"dataframe\">\n",
       "  <thead>\n",
       "    <tr style=\"text-align: right;\">\n",
       "      <th></th>\n",
       "      <th>PC-0</th>\n",
       "      <th>PC-1</th>\n",
       "      <th>PC-2</th>\n",
       "      <th>PC-3</th>\n",
       "      <th>PC-4</th>\n",
       "      <th>PC-5</th>\n",
       "      <th>PC-6</th>\n",
       "      <th>PC-7</th>\n",
       "      <th>PC-8</th>\n",
       "      <th>PC-9</th>\n",
       "      <th>...</th>\n",
       "      <th>PC-16</th>\n",
       "      <th>PC-17</th>\n",
       "      <th>PC-18</th>\n",
       "      <th>PC-19</th>\n",
       "      <th>PC-20</th>\n",
       "      <th>PC-21</th>\n",
       "      <th>PC-22</th>\n",
       "      <th>PC-23</th>\n",
       "      <th>PC-24</th>\n",
       "      <th>target</th>\n",
       "    </tr>\n",
       "  </thead>\n",
       "  <tbody>\n",
       "    <tr>\n",
       "      <th>0</th>\n",
       "      <td>-2.267525</td>\n",
       "      <td>2.004332</td>\n",
       "      <td>-0.984522</td>\n",
       "      <td>0.835119</td>\n",
       "      <td>0.678190</td>\n",
       "      <td>-0.818218</td>\n",
       "      <td>0.027733</td>\n",
       "      <td>-0.929256</td>\n",
       "      <td>0.248643</td>\n",
       "      <td>0.423537</td>\n",
       "      <td>...</td>\n",
       "      <td>-1.001808</td>\n",
       "      <td>3.810484</td>\n",
       "      <td>-1.091281</td>\n",
       "      <td>0.134824</td>\n",
       "      <td>0.283155</td>\n",
       "      <td>1.345225</td>\n",
       "      <td>0.537710</td>\n",
       "      <td>1.016461</td>\n",
       "      <td>0.043448</td>\n",
       "      <td>0</td>\n",
       "    </tr>\n",
       "    <tr>\n",
       "      <th>1</th>\n",
       "      <td>-1.428960</td>\n",
       "      <td>1.199297</td>\n",
       "      <td>0.437944</td>\n",
       "      <td>-2.022498</td>\n",
       "      <td>1.149570</td>\n",
       "      <td>1.528953</td>\n",
       "      <td>-0.907447</td>\n",
       "      <td>-0.630370</td>\n",
       "      <td>0.713399</td>\n",
       "      <td>-0.074059</td>\n",
       "      <td>...</td>\n",
       "      <td>-1.056721</td>\n",
       "      <td>-1.352318</td>\n",
       "      <td>-0.787665</td>\n",
       "      <td>0.221671</td>\n",
       "      <td>-0.204489</td>\n",
       "      <td>0.795890</td>\n",
       "      <td>-0.537523</td>\n",
       "      <td>-0.124221</td>\n",
       "      <td>-0.488198</td>\n",
       "      <td>0</td>\n",
       "    </tr>\n",
       "    <tr>\n",
       "      <th>2</th>\n",
       "      <td>-2.378351</td>\n",
       "      <td>1.966926</td>\n",
       "      <td>-0.331879</td>\n",
       "      <td>1.087885</td>\n",
       "      <td>0.472025</td>\n",
       "      <td>0.445303</td>\n",
       "      <td>-0.688875</td>\n",
       "      <td>-0.320953</td>\n",
       "      <td>-0.792022</td>\n",
       "      <td>2.499792</td>\n",
       "      <td>...</td>\n",
       "      <td>0.756261</td>\n",
       "      <td>-0.882115</td>\n",
       "      <td>2.292902</td>\n",
       "      <td>-0.935946</td>\n",
       "      <td>2.737590</td>\n",
       "      <td>1.758380</td>\n",
       "      <td>-0.002475</td>\n",
       "      <td>2.150931</td>\n",
       "      <td>-1.021133</td>\n",
       "      <td>0</td>\n",
       "    </tr>\n",
       "    <tr>\n",
       "      <th>3</th>\n",
       "      <td>-2.485488</td>\n",
       "      <td>2.213012</td>\n",
       "      <td>-0.964848</td>\n",
       "      <td>0.814535</td>\n",
       "      <td>0.745057</td>\n",
       "      <td>-0.962606</td>\n",
       "      <td>-0.151289</td>\n",
       "      <td>-1.012110</td>\n",
       "      <td>0.248452</td>\n",
       "      <td>0.779240</td>\n",
       "      <td>...</td>\n",
       "      <td>-0.734269</td>\n",
       "      <td>3.372655</td>\n",
       "      <td>-1.763105</td>\n",
       "      <td>-0.449679</td>\n",
       "      <td>1.106370</td>\n",
       "      <td>0.466346</td>\n",
       "      <td>0.783372</td>\n",
       "      <td>0.555691</td>\n",
       "      <td>0.731386</td>\n",
       "      <td>0</td>\n",
       "    </tr>\n",
       "    <tr>\n",
       "      <th>4</th>\n",
       "      <td>8.961431</td>\n",
       "      <td>4.437443</td>\n",
       "      <td>3.425035</td>\n",
       "      <td>-1.096102</td>\n",
       "      <td>0.444711</td>\n",
       "      <td>-2.888103</td>\n",
       "      <td>-0.842640</td>\n",
       "      <td>0.531613</td>\n",
       "      <td>-0.827614</td>\n",
       "      <td>-0.826710</td>\n",
       "      <td>...</td>\n",
       "      <td>-1.630255</td>\n",
       "      <td>-0.566139</td>\n",
       "      <td>0.187960</td>\n",
       "      <td>-4.539572</td>\n",
       "      <td>2.657515</td>\n",
       "      <td>-1.707247</td>\n",
       "      <td>0.176679</td>\n",
       "      <td>-2.091735</td>\n",
       "      <td>0.401290</td>\n",
       "      <td>1</td>\n",
       "    </tr>\n",
       "  </tbody>\n",
       "</table>\n",
       "<p>5 rows × 26 columns</p>\n",
       "</div>"
      ],
      "text/plain": [
       "       PC-0      PC-1      PC-2      PC-3      PC-4      PC-5      PC-6  \\\n",
       "0 -2.267525  2.004332 -0.984522  0.835119  0.678190 -0.818218  0.027733   \n",
       "1 -1.428960  1.199297  0.437944 -2.022498  1.149570  1.528953 -0.907447   \n",
       "2 -2.378351  1.966926 -0.331879  1.087885  0.472025  0.445303 -0.688875   \n",
       "3 -2.485488  2.213012 -0.964848  0.814535  0.745057 -0.962606 -0.151289   \n",
       "4  8.961431  4.437443  3.425035 -1.096102  0.444711 -2.888103 -0.842640   \n",
       "\n",
       "       PC-7      PC-8      PC-9  ...     PC-16     PC-17     PC-18     PC-19  \\\n",
       "0 -0.929256  0.248643  0.423537  ... -1.001808  3.810484 -1.091281  0.134824   \n",
       "1 -0.630370  0.713399 -0.074059  ... -1.056721 -1.352318 -0.787665  0.221671   \n",
       "2 -0.320953 -0.792022  2.499792  ...  0.756261 -0.882115  2.292902 -0.935946   \n",
       "3 -1.012110  0.248452  0.779240  ... -0.734269  3.372655 -1.763105 -0.449679   \n",
       "4  0.531613 -0.827614 -0.826710  ... -1.630255 -0.566139  0.187960 -4.539572   \n",
       "\n",
       "      PC-20     PC-21     PC-22     PC-23     PC-24  target  \n",
       "0  0.283155  1.345225  0.537710  1.016461  0.043448       0  \n",
       "1 -0.204489  0.795890 -0.537523 -0.124221 -0.488198       0  \n",
       "2  2.737590  1.758380 -0.002475  2.150931 -1.021133       0  \n",
       "3  1.106370  0.466346  0.783372  0.555691  0.731386       0  \n",
       "4  2.657515 -1.707247  0.176679 -2.091735  0.401290       1  \n",
       "\n",
       "[5 rows x 26 columns]"
      ]
     },
     "execution_count": 150,
     "metadata": {},
     "output_type": "execute_result"
    }
   ],
   "source": [
    "# informasih hasil PCA\n",
    "train_pca_df.head()"
   ]
  },
  {
   "cell_type": "code",
   "execution_count": null,
   "metadata": {},
   "outputs": [
    {
     "data": {
      "text/plain": [
       "8191     0\n",
       "3725     0\n",
       "9736     0\n",
       "10008    0\n",
       "39159    1\n",
       "Name: deposit, dtype: int32"
      ]
     },
     "execution_count": 151,
     "metadata": {},
     "output_type": "execute_result"
    }
   ],
   "source": [
    "y_train.head()"
   ]
  },
  {
   "cell_type": "code",
   "execution_count": null,
   "metadata": {},
   "outputs": [
    {
     "data": {
      "text/html": [
       "<div>\n",
       "<style scoped>\n",
       "    .dataframe tbody tr th:only-of-type {\n",
       "        vertical-align: middle;\n",
       "    }\n",
       "\n",
       "    .dataframe tbody tr th {\n",
       "        vertical-align: top;\n",
       "    }\n",
       "\n",
       "    .dataframe thead th {\n",
       "        text-align: right;\n",
       "    }\n",
       "</style>\n",
       "<table border=\"1\" class=\"dataframe\">\n",
       "  <thead>\n",
       "    <tr style=\"text-align: right;\">\n",
       "      <th></th>\n",
       "      <th>PC-0</th>\n",
       "      <th>PC-1</th>\n",
       "      <th>PC-2</th>\n",
       "      <th>PC-3</th>\n",
       "      <th>PC-4</th>\n",
       "      <th>PC-5</th>\n",
       "      <th>PC-6</th>\n",
       "      <th>PC-7</th>\n",
       "      <th>PC-8</th>\n",
       "      <th>PC-9</th>\n",
       "      <th>...</th>\n",
       "      <th>PC-16</th>\n",
       "      <th>PC-17</th>\n",
       "      <th>PC-18</th>\n",
       "      <th>PC-19</th>\n",
       "      <th>PC-20</th>\n",
       "      <th>PC-21</th>\n",
       "      <th>PC-22</th>\n",
       "      <th>PC-23</th>\n",
       "      <th>PC-24</th>\n",
       "      <th>target</th>\n",
       "    </tr>\n",
       "  </thead>\n",
       "  <tbody>\n",
       "    <tr>\n",
       "      <th>0</th>\n",
       "      <td>-1.520051</td>\n",
       "      <td>0.691437</td>\n",
       "      <td>-0.887092</td>\n",
       "      <td>-0.577084</td>\n",
       "      <td>-0.236107</td>\n",
       "      <td>-1.794960</td>\n",
       "      <td>-0.545906</td>\n",
       "      <td>3.053560</td>\n",
       "      <td>-0.937731</td>\n",
       "      <td>0.802593</td>\n",
       "      <td>...</td>\n",
       "      <td>0.971291</td>\n",
       "      <td>-0.227638</td>\n",
       "      <td>-0.625818</td>\n",
       "      <td>0.040796</td>\n",
       "      <td>0.217055</td>\n",
       "      <td>0.451012</td>\n",
       "      <td>0.218431</td>\n",
       "      <td>0.174438</td>\n",
       "      <td>-0.210092</td>\n",
       "      <td>0</td>\n",
       "    </tr>\n",
       "    <tr>\n",
       "      <th>1</th>\n",
       "      <td>-1.326377</td>\n",
       "      <td>-0.584973</td>\n",
       "      <td>-0.266017</td>\n",
       "      <td>1.754497</td>\n",
       "      <td>-1.294005</td>\n",
       "      <td>-2.444012</td>\n",
       "      <td>-0.464130</td>\n",
       "      <td>-1.084978</td>\n",
       "      <td>0.865945</td>\n",
       "      <td>-0.675966</td>\n",
       "      <td>...</td>\n",
       "      <td>1.215427</td>\n",
       "      <td>-0.144737</td>\n",
       "      <td>0.367149</td>\n",
       "      <td>0.399107</td>\n",
       "      <td>-0.660083</td>\n",
       "      <td>0.013970</td>\n",
       "      <td>-0.271011</td>\n",
       "      <td>-0.054443</td>\n",
       "      <td>-0.119135</td>\n",
       "      <td>0</td>\n",
       "    </tr>\n",
       "    <tr>\n",
       "      <th>2</th>\n",
       "      <td>-1.805976</td>\n",
       "      <td>1.643707</td>\n",
       "      <td>-0.448166</td>\n",
       "      <td>-0.864204</td>\n",
       "      <td>0.675141</td>\n",
       "      <td>0.686691</td>\n",
       "      <td>-0.671690</td>\n",
       "      <td>1.791088</td>\n",
       "      <td>0.234468</td>\n",
       "      <td>-0.180969</td>\n",
       "      <td>...</td>\n",
       "      <td>-1.242779</td>\n",
       "      <td>-0.538921</td>\n",
       "      <td>-0.161547</td>\n",
       "      <td>0.263230</td>\n",
       "      <td>-0.032023</td>\n",
       "      <td>0.058710</td>\n",
       "      <td>0.126046</td>\n",
       "      <td>0.291251</td>\n",
       "      <td>0.032498</td>\n",
       "      <td>0</td>\n",
       "    </tr>\n",
       "    <tr>\n",
       "      <th>3</th>\n",
       "      <td>-1.557157</td>\n",
       "      <td>1.079699</td>\n",
       "      <td>0.582320</td>\n",
       "      <td>-1.932156</td>\n",
       "      <td>0.750310</td>\n",
       "      <td>0.863883</td>\n",
       "      <td>1.490492</td>\n",
       "      <td>-1.237146</td>\n",
       "      <td>0.441404</td>\n",
       "      <td>-0.687554</td>\n",
       "      <td>...</td>\n",
       "      <td>-0.606033</td>\n",
       "      <td>-0.749071</td>\n",
       "      <td>-0.051821</td>\n",
       "      <td>-0.278103</td>\n",
       "      <td>-0.289611</td>\n",
       "      <td>0.650819</td>\n",
       "      <td>-0.380401</td>\n",
       "      <td>-0.518637</td>\n",
       "      <td>-0.562944</td>\n",
       "      <td>0</td>\n",
       "    </tr>\n",
       "    <tr>\n",
       "      <th>4</th>\n",
       "      <td>1.386100</td>\n",
       "      <td>0.714277</td>\n",
       "      <td>-0.800433</td>\n",
       "      <td>2.757392</td>\n",
       "      <td>-1.788513</td>\n",
       "      <td>3.033014</td>\n",
       "      <td>-1.479821</td>\n",
       "      <td>1.552077</td>\n",
       "      <td>-1.980949</td>\n",
       "      <td>0.252390</td>\n",
       "      <td>...</td>\n",
       "      <td>0.023477</td>\n",
       "      <td>0.208624</td>\n",
       "      <td>0.045144</td>\n",
       "      <td>-0.751259</td>\n",
       "      <td>-0.025615</td>\n",
       "      <td>1.099963</td>\n",
       "      <td>-0.667911</td>\n",
       "      <td>-1.032315</td>\n",
       "      <td>-0.798369</td>\n",
       "      <td>1</td>\n",
       "    </tr>\n",
       "  </tbody>\n",
       "</table>\n",
       "<p>5 rows × 26 columns</p>\n",
       "</div>"
      ],
      "text/plain": [
       "       PC-0      PC-1      PC-2      PC-3      PC-4      PC-5      PC-6  \\\n",
       "0 -1.520051  0.691437 -0.887092 -0.577084 -0.236107 -1.794960 -0.545906   \n",
       "1 -1.326377 -0.584973 -0.266017  1.754497 -1.294005 -2.444012 -0.464130   \n",
       "2 -1.805976  1.643707 -0.448166 -0.864204  0.675141  0.686691 -0.671690   \n",
       "3 -1.557157  1.079699  0.582320 -1.932156  0.750310  0.863883  1.490492   \n",
       "4  1.386100  0.714277 -0.800433  2.757392 -1.788513  3.033014 -1.479821   \n",
       "\n",
       "       PC-7      PC-8      PC-9  ...     PC-16     PC-17     PC-18     PC-19  \\\n",
       "0  3.053560 -0.937731  0.802593  ...  0.971291 -0.227638 -0.625818  0.040796   \n",
       "1 -1.084978  0.865945 -0.675966  ...  1.215427 -0.144737  0.367149  0.399107   \n",
       "2  1.791088  0.234468 -0.180969  ... -1.242779 -0.538921 -0.161547  0.263230   \n",
       "3 -1.237146  0.441404 -0.687554  ... -0.606033 -0.749071 -0.051821 -0.278103   \n",
       "4  1.552077 -1.980949  0.252390  ...  0.023477  0.208624  0.045144 -0.751259   \n",
       "\n",
       "      PC-20     PC-21     PC-22     PC-23     PC-24  target  \n",
       "0  0.217055  0.451012  0.218431  0.174438 -0.210092       0  \n",
       "1 -0.660083  0.013970 -0.271011 -0.054443 -0.119135       0  \n",
       "2 -0.032023  0.058710  0.126046  0.291251  0.032498       0  \n",
       "3 -0.289611  0.650819 -0.380401 -0.518637 -0.562944       0  \n",
       "4 -0.025615  1.099963 -0.667911 -1.032315 -0.798369       1  \n",
       "\n",
       "[5 rows x 26 columns]"
      ]
     },
     "execution_count": 152,
     "metadata": {},
     "output_type": "execute_result"
    }
   ],
   "source": [
    "test_pca_df.head()"
   ]
  },
  {
   "cell_type": "code",
   "execution_count": null,
   "metadata": {},
   "outputs": [
    {
     "data": {
      "text/plain": [
       "12469    0\n",
       "16106    0\n",
       "144      0\n",
       "6442     0\n",
       "40005    1\n",
       "Name: deposit, dtype: int32"
      ]
     },
     "execution_count": 153,
     "metadata": {},
     "output_type": "execute_result"
    }
   ],
   "source": [
    "y_test.head()"
   ]
  },
  {
   "cell_type": "markdown",
   "metadata": {},
   "source": [
    "### Pembuatan Model\n",
    "Model klasifikasi *machine learning* yang digunakan pada tugas ini yaitu: <br>\n",
    "1. Logistic Regression\n",
    "2. KNN\n",
    "3. SVM\n",
    "4. Decision Tree\n",
    "5. Random Forest\n",
    "6. Naive Bayes\n"
   ]
  },
  {
   "cell_type": "code",
   "execution_count": null,
   "metadata": {},
   "outputs": [],
   "source": [
    "# Inisialisasi fold dan scoring yang digunakan\n",
    "num_fold = 10\n",
    "scoring_accuracy ='accuracy'\n",
    "scoring_recall = 'recall'"
   ]
  },
  {
   "cell_type": "code",
   "execution_count": null,
   "metadata": {},
   "outputs": [],
   "source": [
    "# buat list dari seluruh model yang digunakan\n",
    "models = []\n",
    "\n",
    "# append model\n",
    "models.append(('Logistic Regression', LogisticRegression()))\n",
    "models.append(('K-Nearest Neighbor', KNeighborsClassifier()))\n",
    "models.append(('Support Vector Machine', SVC()))\n",
    "models.append(('Decision Tree', DecisionTreeClassifier()))\n",
    "models.append(('Random Forest', RandomForestClassifier()))\n",
    "models.append(('Naive Bayes', GaussianNB()))\n",
    "\n",
    "#k-fold cross validation initialization object\n",
    "kfold = KFold(n_splits=num_fold, random_state=42, shuffle=True)"
   ]
  },
  {
   "cell_type": "code",
   "execution_count": null,
   "metadata": {},
   "outputs": [],
   "source": [
    "#Fungsi ini digunakan untuk melakukan model cross-validation dengan data latih yang ada. Setiap model akan divalidasi dengan ukuran skor (scoring) yang telah ditetapkan, semisal (akurasi, recall, etc).\n",
    "        \n",
    "def perform_model(models,X_train,y_train,kfold, scoring='accuracy'):\n",
    "    cv_results = [] #menampung hasil crossvalidation setiap model\n",
    "    model_names = [] #menampung nama model\n",
    "    print_msg = [] #menampung pesan yang akan ditampilkan\n",
    "    \n",
    "    \n",
    "    for model_name, model in models:\n",
    "        # cross validation result\n",
    "        cv_result = cross_val_score(model,X_train,y_train, cv=kfold,scoring=scoring)\n",
    "\n",
    "        # tambah ke list\n",
    "        cv_results.append(cv_result)\n",
    "        model_names.append(model_name)\n",
    "\n",
    "        # tampilkan\n",
    "        msg_result = \"{}: mean {} = {}  std {} = {}\".format(model_name,scoring,cv_result.mean(),scoring,cv_result.std())\n",
    "        print_msg.append(msg_result)\n",
    "    \n",
    "    return cv_results,model_names,print_msg"
   ]
  },
  {
   "cell_type": "code",
   "execution_count": null,
   "metadata": {},
   "outputs": [],
   "source": [
    "# Hitung mean dari validasi yang digunakan\n",
    "cv_results_accuracy, model_names, print_msg_accuracy = perform_model(\n",
    "    models=models,\n",
    "    X_train=X_train_pca,\n",
    "    y_train=y_train,\n",
    "    kfold=kfold,\n",
    "    scoring=scoring_accuracy\n",
    ")"
   ]
  },
  {
   "cell_type": "code",
   "execution_count": null,
   "metadata": {},
   "outputs": [
    {
     "name": "stdout",
     "output_type": "stream",
     "text": [
      "Logistic Regression: mean accuracy = 0.9008743093988907  std accuracy = 0.005869512427443833\n",
      "K-Nearest Neighbor: mean accuracy = 0.8944664923090659  std accuracy = 0.006602945445362256\n",
      "Support Vector Machine: mean accuracy = 0.9045795437060609  std accuracy = 0.007354168822743062\n",
      "Decision Tree: mean accuracy = 0.8737848870482289  std accuracy = 0.007837042209428458\n",
      "Random Forest: mean accuracy = 0.902878874478394  std accuracy = 0.006911968233019625\n",
      "Naive Bayes: mean accuracy = 0.8702623463224579  std accuracy = 0.007557193250674\n"
     ]
    }
   ],
   "source": [
    "# cetak hasil rata-rata akurasi setiap model\n",
    "for msg in print_msg_accuracy:\n",
    "    print(msg)"
   ]
  },
  {
   "cell_type": "markdown",
   "metadata": {},
   "source": [
    "#### Hasil Akurasi Tiap Model"
   ]
  },
  {
   "cell_type": "code",
   "execution_count": null,
   "metadata": {},
   "outputs": [
    {
     "data": {
      "image/png": "[encoded data removed]",
      "text/plain": [
       "<Figure size 576x288 with 1 Axes>"
      ]
     },
     "metadata": {
      "needs_background": "light"
     },
     "output_type": "display_data"
    }
   ],
   "source": [
    "fig = plt.figure(figsize=(10,8))\n",
    "fig.suptitle('Hasil perbandingan akurasi setiap model klasifikasi')\n",
    "ax = fig.add_subplot(111)\n",
    "\n",
    "plt.boxplot(cv_results_accuracy)\n",
    "ax.set_xticklabels(model_names, rotation=90)\n",
    "fig.set_size_inches(8,4)\n",
    "plt.show()"
   ]
  },
  {
   "cell_type": "markdown",
   "metadata": {},
   "source": [
    "Analisis\n",
    "1. Dari segi akurasi Logistic Regression, SVM, dan Random Forest tampil menjadi model terbaik dengan rata-rata akurasi ketiga model ini yang hampir sama. \n",
    "2. Decision Tree dan Naive Bayes memberikan performa akurasi paling rendah"
   ]
  },
  {
   "cell_type": "markdown",
   "metadata": {},
   "source": [
    "#### Analisis Recall\n",
    "Ukuran performa yang digunakan pada permasalahan ini adalah memaksimalkan recall. SVM dibandingkan karena akurasi sebelumnya tinggi."
   ]
  },
  {
   "cell_type": "code",
   "execution_count": null,
   "metadata": {},
   "outputs": [],
   "source": [
    "# inisialisasi model SVM dengan default parameter\n",
    "svm = SVC()\n",
    "\n",
    "# fit model into training data\n",
    "svm.fit(X_train_pca,y_train)\n",
    "\n",
    "# get y prediction\n",
    "y_pred = svm.predict(X_test_pca)"
   ]
  },
  {
   "cell_type": "code",
   "execution_count": null,
   "metadata": {},
   "outputs": [
    {
     "name": "stdout",
     "output_type": "stream",
     "text": [
      "SVM Recall score =  0.34063526834611174\n",
      "              precision    recall  f1-score   support\n",
      "\n",
      "           0       0.92      0.98      0.95      7320\n",
      "           1       0.65      0.34      0.45       913\n",
      "\n",
      "    accuracy                           0.91      8233\n",
      "   macro avg       0.78      0.66      0.70      8233\n",
      "weighted avg       0.89      0.91      0.89      8233\n",
      "\n",
      "[[7149  171]\n",
      " [ 602  311]]\n"
     ]
    }
   ],
   "source": [
    "# print results\n",
    "print(\"SVM Recall score = \", metrics.recall_score(y_test,y_pred))\n",
    "print(metrics.classification_report(y_test,y_pred))\n",
    "\n",
    "# confusion matrix\n",
    "print(metrics.confusion_matrix(y_test,y_pred))"
   ]
  },
  {
   "cell_type": "markdown",
   "metadata": {},
   "source": [
    "Analisis <br>\n",
    "Model SVM walaupun memberikan nilai rata-rata akurasi tertinggi, namun nyatanya masih belum maksimal dalam memberikan recall terbaik. Hal ini dibuktikan dengan nilai FN yang besar\n"
   ]
  },
  {
   "cell_type": "markdown",
   "metadata": {},
   "source": [
    "#####\n",
    " Tuning Model\n",
    "Recall akan digunakan untuk mentuning model yang digunakan"
   ]
  },
  {
   "cell_type": "code",
   "execution_count": null,
   "metadata": {},
   "outputs": [],
   "source": [
    "cv_results_recall, model_names, print_msg_recall = perform_model(\n",
    "    models=models,\n",
    "    X_train=X_train_pca,\n",
    "    y_train=y_train,\n",
    "    kfold=kfold,\n",
    "    scoring=scoring_recall\n",
    ")"
   ]
  },
  {
   "cell_type": "code",
   "execution_count": null,
   "metadata": {},
   "outputs": [
    {
     "name": "stdout",
     "output_type": "stream",
     "text": [
      "Logistic Regression: mean recall = 0.29664650730467795  std recall = 0.019529563900754904\n",
      "K-Nearest Neighbor: mean recall = 0.29547631051208906  std recall = 0.02618358311455535\n",
      "Support Vector Machine: mean recall = 0.32378440553788335  std recall = 0.024037298302824438\n",
      "Decision Tree: mean recall = 0.44830739487278004  std recall = 0.029668945286385764\n",
      "Random Forest: mean recall = 0.390494395222211  std recall = 0.030057463077494986\n",
      "Naive Bayes: mean recall = 0.41887625951134383  std recall = 0.02471761383185259\n"
     ]
    }
   ],
   "source": [
    "# cetak hasil rata-rata recall setiap model\n",
    "for msg in print_msg_recall:\n",
    "    print(msg)"
   ]
  },
  {
   "cell_type": "code",
   "execution_count": null,
   "metadata": {},
   "outputs": [
    {
     "data": {
      "image/png": "[encoded data removed]",
      "text/plain": [
       "<Figure size 576x288 with 1 Axes>"
      ]
     },
     "metadata": {
      "needs_background": "light"
     },
     "output_type": "display_data"
    }
   ],
   "source": [
    "fig = plt.figure(figsize=(10,8))\n",
    "fig.suptitle('Hasil perbandingan recall setiap model klasifikasi')\n",
    "ax = fig.add_subplot(111)\n",
    "\n",
    "plt.boxplot(cv_results_recall)\n",
    "ax.set_xticklabels(model_names, rotation=90)\n",
    "fig.set_size_inches(8,4)\n",
    "plt.show()"
   ]
  },
  {
   "cell_type": "markdown",
   "metadata": {},
   "source": [
    "Analisis\n",
    "1. Decision Tree dan Naive Bayes tampil dengan rata-rata recall terbaik dibandingkan model-model lainnya.\n",
    "2. Akurasi pada dataset yang imbalanced tidak bisa menjadi penentu untuk memilih model. Bisa dilihat bahwa SVM tidak mampu memberikan performa recall yang terbaik, padahal sebelumnya model ini memberikan akurasi tertinggi."
   ]
  },
  {
   "cell_type": "code",
   "execution_count": null,
   "metadata": {},
   "outputs": [],
   "source": [
    "# inisialisasi model Decision Tree\n",
    "dt = DecisionTreeClassifier()\n",
    "\n",
    "# fit model into training data\n",
    "dt.fit(X_train_pca,y_train)\n",
    "\n",
    "# get y prediction\n",
    "y_pred_dt = dt.predict(X_test_pca)"
   ]
  },
  {
   "cell_type": "code",
   "execution_count": null,
   "metadata": {},
   "outputs": [
    {
     "name": "stdout",
     "output_type": "stream",
     "text": [
      "Accuracy score Decision Tree =  0.8756224948378477\n",
      "              precision    recall  f1-score   support\n",
      "\n",
      "           0       0.93      0.93      0.93      7320\n",
      "           1       0.44      0.46      0.45       913\n",
      "\n",
      "    accuracy                           0.88      8233\n",
      "   macro avg       0.69      0.70      0.69      8233\n",
      "weighted avg       0.88      0.88      0.88      8233\n",
      "\n",
      "[[6785  535]\n",
      " [ 489  424]]\n"
     ]
    }
   ],
   "source": [
    "# print score\n",
    "print(\"Accuracy score Decision Tree = \", metrics.accuracy_score(y_test,y_pred_dt))\n",
    "print(metrics.classification_report(y_test,y_pred_dt))\n",
    "\n",
    "# confusion matrix\n",
    "print(metrics.confusion_matrix(y_test,y_pred_dt))"
   ]
  },
  {
   "cell_type": "markdown",
   "metadata": {},
   "source": [
    "Decision Tree masih memberikan FN dan FP yang terbilang masih tinggi."
   ]
  },
  {
   "cell_type": "markdown",
   "metadata": {},
   "source": [
    "### Evaluasi model"
   ]
  },
  {
   "cell_type": "markdown",
   "metadata": {},
   "source": [
    "#### Tuning Model dengan Undersampling\n",
    "\n",
    "Ketidakseimbangan terjadi pada variabel dependent. Model yang ingin dikembangkan adalah sebisa mungkin meminimumkan adanya FN, sehingga perlu dilakukan penyeimbangan pada label kelas. Salah satu caranya dengan undersampling"
   ]
  },
  {
   "cell_type": "code",
   "execution_count": null,
   "metadata": {},
   "outputs": [],
   "source": [
    "# menyatukan atribut dan target pada data latih\n",
    "df_balance = pd.concat([pd.DataFrame(data=X_train_pca),y_train.reset_index()['deposit']],axis=1)"
   ]
  },
  {
   "cell_type": "code",
   "execution_count": null,
   "metadata": {},
   "outputs": [
    {
     "data": {
      "text/html": [
       "<div>\n",
       "<style scoped>\n",
       "    .dataframe tbody tr th:only-of-type {\n",
       "        vertical-align: middle;\n",
       "    }\n",
       "\n",
       "    .dataframe tbody tr th {\n",
       "        vertical-align: top;\n",
       "    }\n",
       "\n",
       "    .dataframe thead th {\n",
       "        text-align: right;\n",
       "    }\n",
       "</style>\n",
       "<table border=\"1\" class=\"dataframe\">\n",
       "  <thead>\n",
       "    <tr style=\"text-align: right;\">\n",
       "      <th></th>\n",
       "      <th>0</th>\n",
       "      <th>1</th>\n",
       "      <th>2</th>\n",
       "      <th>3</th>\n",
       "      <th>4</th>\n",
       "      <th>5</th>\n",
       "      <th>6</th>\n",
       "      <th>7</th>\n",
       "      <th>8</th>\n",
       "      <th>9</th>\n",
       "      <th>...</th>\n",
       "      <th>16</th>\n",
       "      <th>17</th>\n",
       "      <th>18</th>\n",
       "      <th>19</th>\n",
       "      <th>20</th>\n",
       "      <th>21</th>\n",
       "      <th>22</th>\n",
       "      <th>23</th>\n",
       "      <th>24</th>\n",
       "      <th>deposit</th>\n",
       "    </tr>\n",
       "  </thead>\n",
       "  <tbody>\n",
       "    <tr>\n",
       "      <th>0</th>\n",
       "      <td>-2.267525</td>\n",
       "      <td>2.004332</td>\n",
       "      <td>-0.984522</td>\n",
       "      <td>0.835119</td>\n",
       "      <td>0.678190</td>\n",
       "      <td>-0.818218</td>\n",
       "      <td>0.027733</td>\n",
       "      <td>-0.929256</td>\n",
       "      <td>0.248643</td>\n",
       "      <td>0.423537</td>\n",
       "      <td>...</td>\n",
       "      <td>-1.001808</td>\n",
       "      <td>3.810484</td>\n",
       "      <td>-1.091281</td>\n",
       "      <td>0.134824</td>\n",
       "      <td>0.283155</td>\n",
       "      <td>1.345225</td>\n",
       "      <td>0.537710</td>\n",
       "      <td>1.016461</td>\n",
       "      <td>0.043448</td>\n",
       "      <td>0</td>\n",
       "    </tr>\n",
       "    <tr>\n",
       "      <th>1</th>\n",
       "      <td>-1.428960</td>\n",
       "      <td>1.199297</td>\n",
       "      <td>0.437944</td>\n",
       "      <td>-2.022498</td>\n",
       "      <td>1.149570</td>\n",
       "      <td>1.528953</td>\n",
       "      <td>-0.907447</td>\n",
       "      <td>-0.630370</td>\n",
       "      <td>0.713399</td>\n",
       "      <td>-0.074059</td>\n",
       "      <td>...</td>\n",
       "      <td>-1.056721</td>\n",
       "      <td>-1.352318</td>\n",
       "      <td>-0.787665</td>\n",
       "      <td>0.221671</td>\n",
       "      <td>-0.204489</td>\n",
       "      <td>0.795890</td>\n",
       "      <td>-0.537523</td>\n",
       "      <td>-0.124221</td>\n",
       "      <td>-0.488198</td>\n",
       "      <td>0</td>\n",
       "    </tr>\n",
       "    <tr>\n",
       "      <th>2</th>\n",
       "      <td>-2.378351</td>\n",
       "      <td>1.966926</td>\n",
       "      <td>-0.331879</td>\n",
       "      <td>1.087885</td>\n",
       "      <td>0.472025</td>\n",
       "      <td>0.445303</td>\n",
       "      <td>-0.688875</td>\n",
       "      <td>-0.320953</td>\n",
       "      <td>-0.792022</td>\n",
       "      <td>2.499792</td>\n",
       "      <td>...</td>\n",
       "      <td>0.756261</td>\n",
       "      <td>-0.882115</td>\n",
       "      <td>2.292902</td>\n",
       "      <td>-0.935946</td>\n",
       "      <td>2.737590</td>\n",
       "      <td>1.758380</td>\n",
       "      <td>-0.002475</td>\n",
       "      <td>2.150931</td>\n",
       "      <td>-1.021133</td>\n",
       "      <td>0</td>\n",
       "    </tr>\n",
       "    <tr>\n",
       "      <th>3</th>\n",
       "      <td>-2.485488</td>\n",
       "      <td>2.213012</td>\n",
       "      <td>-0.964848</td>\n",
       "      <td>0.814535</td>\n",
       "      <td>0.745057</td>\n",
       "      <td>-0.962606</td>\n",
       "      <td>-0.151289</td>\n",
       "      <td>-1.012110</td>\n",
       "      <td>0.248452</td>\n",
       "      <td>0.779240</td>\n",
       "      <td>...</td>\n",
       "      <td>-0.734269</td>\n",
       "      <td>3.372655</td>\n",
       "      <td>-1.763105</td>\n",
       "      <td>-0.449679</td>\n",
       "      <td>1.106370</td>\n",
       "      <td>0.466346</td>\n",
       "      <td>0.783372</td>\n",
       "      <td>0.555691</td>\n",
       "      <td>0.731386</td>\n",
       "      <td>0</td>\n",
       "    </tr>\n",
       "    <tr>\n",
       "      <th>4</th>\n",
       "      <td>8.961431</td>\n",
       "      <td>4.437443</td>\n",
       "      <td>3.425035</td>\n",
       "      <td>-1.096102</td>\n",
       "      <td>0.444711</td>\n",
       "      <td>-2.888103</td>\n",
       "      <td>-0.842640</td>\n",
       "      <td>0.531613</td>\n",
       "      <td>-0.827614</td>\n",
       "      <td>-0.826710</td>\n",
       "      <td>...</td>\n",
       "      <td>-1.630255</td>\n",
       "      <td>-0.566139</td>\n",
       "      <td>0.187960</td>\n",
       "      <td>-4.539572</td>\n",
       "      <td>2.657515</td>\n",
       "      <td>-1.707247</td>\n",
       "      <td>0.176679</td>\n",
       "      <td>-2.091735</td>\n",
       "      <td>0.401290</td>\n",
       "      <td>1</td>\n",
       "    </tr>\n",
       "    <tr>\n",
       "      <th>...</th>\n",
       "      <td>...</td>\n",
       "      <td>...</td>\n",
       "      <td>...</td>\n",
       "      <td>...</td>\n",
       "      <td>...</td>\n",
       "      <td>...</td>\n",
       "      <td>...</td>\n",
       "      <td>...</td>\n",
       "      <td>...</td>\n",
       "      <td>...</td>\n",
       "      <td>...</td>\n",
       "      <td>...</td>\n",
       "      <td>...</td>\n",
       "      <td>...</td>\n",
       "      <td>...</td>\n",
       "      <td>...</td>\n",
       "      <td>...</td>\n",
       "      <td>...</td>\n",
       "      <td>...</td>\n",
       "      <td>...</td>\n",
       "      <td>...</td>\n",
       "    </tr>\n",
       "    <tr>\n",
       "      <th>32923</th>\n",
       "      <td>-1.663485</td>\n",
       "      <td>2.364010</td>\n",
       "      <td>0.180310</td>\n",
       "      <td>1.958416</td>\n",
       "      <td>-0.626095</td>\n",
       "      <td>2.722058</td>\n",
       "      <td>1.378499</td>\n",
       "      <td>1.584065</td>\n",
       "      <td>-0.373068</td>\n",
       "      <td>-0.132620</td>\n",
       "      <td>...</td>\n",
       "      <td>0.244078</td>\n",
       "      <td>-0.314967</td>\n",
       "      <td>-0.519509</td>\n",
       "      <td>0.383339</td>\n",
       "      <td>0.842671</td>\n",
       "      <td>0.312397</td>\n",
       "      <td>-0.615004</td>\n",
       "      <td>-0.504880</td>\n",
       "      <td>0.769483</td>\n",
       "      <td>0</td>\n",
       "    </tr>\n",
       "    <tr>\n",
       "      <th>32924</th>\n",
       "      <td>-1.880566</td>\n",
       "      <td>0.969016</td>\n",
       "      <td>0.707028</td>\n",
       "      <td>-0.950901</td>\n",
       "      <td>1.721098</td>\n",
       "      <td>0.860041</td>\n",
       "      <td>-1.011120</td>\n",
       "      <td>-1.280653</td>\n",
       "      <td>-0.868254</td>\n",
       "      <td>2.313780</td>\n",
       "      <td>...</td>\n",
       "      <td>1.549208</td>\n",
       "      <td>1.767102</td>\n",
       "      <td>0.020889</td>\n",
       "      <td>-0.284222</td>\n",
       "      <td>-0.558388</td>\n",
       "      <td>-1.191852</td>\n",
       "      <td>-1.231194</td>\n",
       "      <td>-0.692036</td>\n",
       "      <td>0.159879</td>\n",
       "      <td>0</td>\n",
       "    </tr>\n",
       "    <tr>\n",
       "      <th>32925</th>\n",
       "      <td>2.577562</td>\n",
       "      <td>-0.581309</td>\n",
       "      <td>0.816781</td>\n",
       "      <td>-1.921172</td>\n",
       "      <td>-1.105550</td>\n",
       "      <td>3.092975</td>\n",
       "      <td>-1.265637</td>\n",
       "      <td>-0.621720</td>\n",
       "      <td>-1.330642</td>\n",
       "      <td>-2.442471</td>\n",
       "      <td>...</td>\n",
       "      <td>0.546588</td>\n",
       "      <td>-0.061959</td>\n",
       "      <td>-2.403791</td>\n",
       "      <td>2.459003</td>\n",
       "      <td>1.256849</td>\n",
       "      <td>-0.515458</td>\n",
       "      <td>-0.648150</td>\n",
       "      <td>0.379318</td>\n",
       "      <td>-3.283328</td>\n",
       "      <td>0</td>\n",
       "    </tr>\n",
       "    <tr>\n",
       "      <th>32926</th>\n",
       "      <td>-1.477790</td>\n",
       "      <td>1.113892</td>\n",
       "      <td>0.376104</td>\n",
       "      <td>-1.022952</td>\n",
       "      <td>1.464175</td>\n",
       "      <td>1.780810</td>\n",
       "      <td>-0.683312</td>\n",
       "      <td>-1.118472</td>\n",
       "      <td>0.376573</td>\n",
       "      <td>-0.409430</td>\n",
       "      <td>...</td>\n",
       "      <td>1.092960</td>\n",
       "      <td>0.609297</td>\n",
       "      <td>0.287921</td>\n",
       "      <td>-0.657104</td>\n",
       "      <td>-0.859550</td>\n",
       "      <td>-0.224095</td>\n",
       "      <td>-0.615523</td>\n",
       "      <td>-0.589154</td>\n",
       "      <td>-0.247059</td>\n",
       "      <td>0</td>\n",
       "    </tr>\n",
       "    <tr>\n",
       "      <th>32927</th>\n",
       "      <td>-0.128307</td>\n",
       "      <td>-1.843805</td>\n",
       "      <td>1.039331</td>\n",
       "      <td>-1.681991</td>\n",
       "      <td>-0.938140</td>\n",
       "      <td>-1.175241</td>\n",
       "      <td>-1.745536</td>\n",
       "      <td>-0.836624</td>\n",
       "      <td>-0.122365</td>\n",
       "      <td>0.822046</td>\n",
       "      <td>...</td>\n",
       "      <td>-0.489213</td>\n",
       "      <td>-1.059289</td>\n",
       "      <td>-0.964811</td>\n",
       "      <td>0.883312</td>\n",
       "      <td>0.258599</td>\n",
       "      <td>0.077613</td>\n",
       "      <td>-0.298541</td>\n",
       "      <td>0.525287</td>\n",
       "      <td>0.030002</td>\n",
       "      <td>0</td>\n",
       "    </tr>\n",
       "  </tbody>\n",
       "</table>\n",
       "<p>32928 rows × 26 columns</p>\n",
       "</div>"
      ],
      "text/plain": [
       "              0         1         2         3         4         5         6  \\\n",
       "0     -2.267525  2.004332 -0.984522  0.835119  0.678190 -0.818218  0.027733   \n",
       "1     -1.428960  1.199297  0.437944 -2.022498  1.149570  1.528953 -0.907447   \n",
       "2     -2.378351  1.966926 -0.331879  1.087885  0.472025  0.445303 -0.688875   \n",
       "3     -2.485488  2.213012 -0.964848  0.814535  0.745057 -0.962606 -0.151289   \n",
       "4      8.961431  4.437443  3.425035 -1.096102  0.444711 -2.888103 -0.842640   \n",
       "...         ...       ...       ...       ...       ...       ...       ...   \n",
       "32923 -1.663485  2.364010  0.180310  1.958416 -0.626095  2.722058  1.378499   \n",
       "32924 -1.880566  0.969016  0.707028 -0.950901  1.721098  0.860041 -1.011120   \n",
       "32925  2.577562 -0.581309  0.816781 -1.921172 -1.105550  3.092975 -1.265637   \n",
       "32926 -1.477790  1.113892  0.376104 -1.022952  1.464175  1.780810 -0.683312   \n",
       "32927 -0.128307 -1.843805  1.039331 -1.681991 -0.938140 -1.175241 -1.745536   \n",
       "\n",
       "              7         8         9  ...        16        17        18  \\\n",
       "0     -0.929256  0.248643  0.423537  ... -1.001808  3.810484 -1.091281   \n",
       "1     -0.630370  0.713399 -0.074059  ... -1.056721 -1.352318 -0.787665   \n",
       "2     -0.320953 -0.792022  2.499792  ...  0.756261 -0.882115  2.292902   \n",
       "3     -1.012110  0.248452  0.779240  ... -0.734269  3.372655 -1.763105   \n",
       "4      0.531613 -0.827614 -0.826710  ... -1.630255 -0.566139  0.187960   \n",
       "...         ...       ...       ...  ...       ...       ...       ...   \n",
       "32923  1.584065 -0.373068 -0.132620  ...  0.244078 -0.314967 -0.519509   \n",
       "32924 -1.280653 -0.868254  2.313780  ...  1.549208  1.767102  0.020889   \n",
       "32925 -0.621720 -1.330642 -2.442471  ...  0.546588 -0.061959 -2.403791   \n",
       "32926 -1.118472  0.376573 -0.409430  ...  1.092960  0.609297  0.287921   \n",
       "32927 -0.836624 -0.122365  0.822046  ... -0.489213 -1.059289 -0.964811   \n",
       "\n",
       "             19        20        21        22        23        24  deposit  \n",
       "0      0.134824  0.283155  1.345225  0.537710  1.016461  0.043448        0  \n",
       "1      0.221671 -0.204489  0.795890 -0.537523 -0.124221 -0.488198        0  \n",
       "2     -0.935946  2.737590  1.758380 -0.002475  2.150931 -1.021133        0  \n",
       "3     -0.449679  1.106370  0.466346  0.783372  0.555691  0.731386        0  \n",
       "4     -4.539572  2.657515 -1.707247  0.176679 -2.091735  0.401290        1  \n",
       "...         ...       ...       ...       ...       ...       ...      ...  \n",
       "32923  0.383339  0.842671  0.312397 -0.615004 -0.504880  0.769483        0  \n",
       "32924 -0.284222 -0.558388 -1.191852 -1.231194 -0.692036  0.159879        0  \n",
       "32925  2.459003  1.256849 -0.515458 -0.648150  0.379318 -3.283328        0  \n",
       "32926 -0.657104 -0.859550 -0.224095 -0.615523 -0.589154 -0.247059        0  \n",
       "32927  0.883312  0.258599  0.077613 -0.298541  0.525287  0.030002        0  \n",
       "\n",
       "[32928 rows x 26 columns]"
      ]
     },
     "execution_count": 168,
     "metadata": {},
     "output_type": "execute_result"
    }
   ],
   "source": [
    "df_balance"
   ]
  },
  {
   "cell_type": "code",
   "execution_count": null,
   "metadata": {},
   "outputs": [
    {
     "data": {
      "text/plain": [
       "0    29215\n",
       "1     3713\n",
       "Name: deposit, dtype: int64"
      ]
     },
     "execution_count": 169,
     "metadata": {},
     "output_type": "execute_result"
    }
   ],
   "source": [
    "# melihat banyak setiap nilai pada label kelas\n",
    "df_balance['deposit'].value_counts()"
   ]
  },
  {
   "cell_type": "code",
   "execution_count": null,
   "metadata": {},
   "outputs": [],
   "source": [
    "# under-sampling kelas deposit\n",
    "no_df = df_balance[df_balance['deposit']==0][:df_balance['deposit'].value_counts()[1]]\n",
    "yes_df = df_balance[df_balance['deposit']==1]"
   ]
  },
  {
   "cell_type": "code",
   "execution_count": null,
   "metadata": {},
   "outputs": [],
   "source": [
    "# menggabungkan dataset yang setiap kelasnya sudah balanced menjadi 1\n",
    "normal_distributed_df = pd.concat([yes_df,no_df])\n",
    "\n",
    "# shuffle row pada data yang sudah digabung agar acak\n",
    "bank_df_normal_distributed = normal_distributed_df.sample(frac=1, random_state=42)"
   ]
  },
  {
   "cell_type": "code",
   "execution_count": null,
   "metadata": {},
   "outputs": [
    {
     "data": {
      "text/html": [
       "<div>\n",
       "<style scoped>\n",
       "    .dataframe tbody tr th:only-of-type {\n",
       "        vertical-align: middle;\n",
       "    }\n",
       "\n",
       "    .dataframe tbody tr th {\n",
       "        vertical-align: top;\n",
       "    }\n",
       "\n",
       "    .dataframe thead th {\n",
       "        text-align: right;\n",
       "    }\n",
       "</style>\n",
       "<table border=\"1\" class=\"dataframe\">\n",
       "  <thead>\n",
       "    <tr style=\"text-align: right;\">\n",
       "      <th></th>\n",
       "      <th>0</th>\n",
       "      <th>1</th>\n",
       "      <th>2</th>\n",
       "      <th>3</th>\n",
       "      <th>4</th>\n",
       "      <th>5</th>\n",
       "      <th>6</th>\n",
       "      <th>7</th>\n",
       "      <th>8</th>\n",
       "      <th>9</th>\n",
       "      <th>...</th>\n",
       "      <th>16</th>\n",
       "      <th>17</th>\n",
       "      <th>18</th>\n",
       "      <th>19</th>\n",
       "      <th>20</th>\n",
       "      <th>21</th>\n",
       "      <th>22</th>\n",
       "      <th>23</th>\n",
       "      <th>24</th>\n",
       "      <th>deposit</th>\n",
       "    </tr>\n",
       "  </thead>\n",
       "  <tbody>\n",
       "    <tr>\n",
       "      <th>10003</th>\n",
       "      <td>-0.956334</td>\n",
       "      <td>-1.066456</td>\n",
       "      <td>2.598179</td>\n",
       "      <td>-1.286009</td>\n",
       "      <td>-0.370722</td>\n",
       "      <td>0.614898</td>\n",
       "      <td>-1.002779</td>\n",
       "      <td>-0.496702</td>\n",
       "      <td>1.529965</td>\n",
       "      <td>-0.356464</td>\n",
       "      <td>...</td>\n",
       "      <td>-0.152403</td>\n",
       "      <td>0.369552</td>\n",
       "      <td>0.292230</td>\n",
       "      <td>0.847571</td>\n",
       "      <td>0.408568</td>\n",
       "      <td>-0.770313</td>\n",
       "      <td>-0.685493</td>\n",
       "      <td>0.172168</td>\n",
       "      <td>0.476583</td>\n",
       "      <td>1</td>\n",
       "    </tr>\n",
       "    <tr>\n",
       "      <th>24663</th>\n",
       "      <td>2.853162</td>\n",
       "      <td>-0.109000</td>\n",
       "      <td>-0.921331</td>\n",
       "      <td>-2.280518</td>\n",
       "      <td>-1.700762</td>\n",
       "      <td>0.313132</td>\n",
       "      <td>-0.107961</td>\n",
       "      <td>-2.011735</td>\n",
       "      <td>-2.291132</td>\n",
       "      <td>-3.686019</td>\n",
       "      <td>...</td>\n",
       "      <td>3.824340</td>\n",
       "      <td>-2.450536</td>\n",
       "      <td>-1.616688</td>\n",
       "      <td>1.476287</td>\n",
       "      <td>-4.324873</td>\n",
       "      <td>4.575623</td>\n",
       "      <td>-3.644296</td>\n",
       "      <td>-2.876954</td>\n",
       "      <td>9.476027</td>\n",
       "      <td>1</td>\n",
       "    </tr>\n",
       "    <tr>\n",
       "      <th>757</th>\n",
       "      <td>1.718905</td>\n",
       "      <td>0.986280</td>\n",
       "      <td>0.077825</td>\n",
       "      <td>-2.400312</td>\n",
       "      <td>0.067816</td>\n",
       "      <td>2.791077</td>\n",
       "      <td>-1.338776</td>\n",
       "      <td>-0.804614</td>\n",
       "      <td>-0.857387</td>\n",
       "      <td>-1.734412</td>\n",
       "      <td>...</td>\n",
       "      <td>0.611328</td>\n",
       "      <td>0.029901</td>\n",
       "      <td>-1.789743</td>\n",
       "      <td>-0.373829</td>\n",
       "      <td>-2.215152</td>\n",
       "      <td>1.497785</td>\n",
       "      <td>2.320661</td>\n",
       "      <td>2.942935</td>\n",
       "      <td>-0.326836</td>\n",
       "      <td>1</td>\n",
       "    </tr>\n",
       "    <tr>\n",
       "      <th>2108</th>\n",
       "      <td>0.968209</td>\n",
       "      <td>-0.974009</td>\n",
       "      <td>-2.017810</td>\n",
       "      <td>-2.093013</td>\n",
       "      <td>-0.596734</td>\n",
       "      <td>-1.270267</td>\n",
       "      <td>0.176347</td>\n",
       "      <td>2.107426</td>\n",
       "      <td>-1.251847</td>\n",
       "      <td>-1.434573</td>\n",
       "      <td>...</td>\n",
       "      <td>0.267868</td>\n",
       "      <td>-0.021145</td>\n",
       "      <td>0.145739</td>\n",
       "      <td>-1.219721</td>\n",
       "      <td>0.121092</td>\n",
       "      <td>-0.050716</td>\n",
       "      <td>0.539338</td>\n",
       "      <td>-0.524317</td>\n",
       "      <td>-0.336017</td>\n",
       "      <td>0</td>\n",
       "    </tr>\n",
       "    <tr>\n",
       "      <th>3149</th>\n",
       "      <td>-1.434309</td>\n",
       "      <td>0.892389</td>\n",
       "      <td>0.453347</td>\n",
       "      <td>-2.075559</td>\n",
       "      <td>0.479858</td>\n",
       "      <td>0.922208</td>\n",
       "      <td>1.483400</td>\n",
       "      <td>-1.259538</td>\n",
       "      <td>-0.223857</td>\n",
       "      <td>0.134287</td>\n",
       "      <td>...</td>\n",
       "      <td>-0.384865</td>\n",
       "      <td>-0.810712</td>\n",
       "      <td>-0.259789</td>\n",
       "      <td>0.379476</td>\n",
       "      <td>0.097847</td>\n",
       "      <td>0.032430</td>\n",
       "      <td>-0.135611</td>\n",
       "      <td>-0.138027</td>\n",
       "      <td>-0.159785</td>\n",
       "      <td>0</td>\n",
       "    </tr>\n",
       "  </tbody>\n",
       "</table>\n",
       "<p>5 rows × 26 columns</p>\n",
       "</div>"
      ],
      "text/plain": [
       "              0         1         2         3         4         5         6  \\\n",
       "10003 -0.956334 -1.066456  2.598179 -1.286009 -0.370722  0.614898 -1.002779   \n",
       "24663  2.853162 -0.109000 -0.921331 -2.280518 -1.700762  0.313132 -0.107961   \n",
       "757    1.718905  0.986280  0.077825 -2.400312  0.067816  2.791077 -1.338776   \n",
       "2108   0.968209 -0.974009 -2.017810 -2.093013 -0.596734 -1.270267  0.176347   \n",
       "3149  -1.434309  0.892389  0.453347 -2.075559  0.479858  0.922208  1.483400   \n",
       "\n",
       "              7         8         9  ...        16        17        18  \\\n",
       "10003 -0.496702  1.529965 -0.356464  ... -0.152403  0.369552  0.292230   \n",
       "24663 -2.011735 -2.291132 -3.686019  ...  3.824340 -2.450536 -1.616688   \n",
       "757   -0.804614 -0.857387 -1.734412  ...  0.611328  0.029901 -1.789743   \n",
       "2108   2.107426 -1.251847 -1.434573  ...  0.267868 -0.021145  0.145739   \n",
       "3149  -1.259538 -0.223857  0.134287  ... -0.384865 -0.810712 -0.259789   \n",
       "\n",
       "             19        20        21        22        23        24  deposit  \n",
       "10003  0.847571  0.408568 -0.770313 -0.685493  0.172168  0.476583        1  \n",
       "24663  1.476287 -4.324873  4.575623 -3.644296 -2.876954  9.476027        1  \n",
       "757   -0.373829 -2.215152  1.497785  2.320661  2.942935 -0.326836        1  \n",
       "2108  -1.219721  0.121092 -0.050716  0.539338 -0.524317 -0.336017        0  \n",
       "3149   0.379476  0.097847  0.032430 -0.135611 -0.138027 -0.159785        0  \n",
       "\n",
       "[5 rows x 26 columns]"
      ]
     },
     "execution_count": 172,
     "metadata": {},
     "output_type": "execute_result"
    }
   ],
   "source": [
    "bank_df_normal_distributed.head()"
   ]
  },
  {
   "cell_type": "code",
   "execution_count": null,
   "metadata": {},
   "outputs": [],
   "source": [
    "X_train_balanced = bank_df_normal_distributed.drop('deposit',axis=1)\n",
    "y_train_balanced = bank_df_normal_distributed['deposit']"
   ]
  },
  {
   "cell_type": "code",
   "execution_count": null,
   "metadata": {},
   "outputs": [
    {
     "name": "stdout",
     "output_type": "stream",
     "text": [
      "Distribusi setiap kelas dari subsampel dataset\n",
      "1    0.5\n",
      "0    0.5\n",
      "Name: deposit, dtype: float64\n"
     ]
    }
   ],
   "source": [
    "print('Distribusi setiap kelas dari subsampel dataset')\n",
    "print(bank_df_normal_distributed['deposit'].value_counts()/len(bank_df_normal_distributed))"
   ]
  },
  {
   "cell_type": "code",
   "execution_count": null,
   "metadata": {},
   "outputs": [
    {
     "data": {
      "image/png": "[encoded data removed]",
      "text/plain": [
       "<Figure size 1008x504 with 1 Axes>"
      ]
     },
     "metadata": {
      "needs_background": "light"
     },
     "output_type": "display_data"
    }
   ],
   "source": [
    "plt.figure(figsize=(14,7))\n",
    "sns.countplot(x='deposit', data=bank_df_normal_distributed)\n",
    "plt.title('Distribusi kelas yang seimbang', fontsize=12)\n",
    "plt.xlabel('Berlangganan Deposito (Kelas)', fontsize=12)\n",
    "plt.ylabel('Jumlah', fontsize=12)\n",
    "plt.show()"
   ]
  },
  {
   "cell_type": "markdown",
   "metadata": {},
   "source": [
    "Analisis </br>\n",
    "Data latih kita sudah memiliki proporsi kelas yang seimbang. Kini akan dilakukan training ulang pada model dan melihat evaluasinya dengan scoring accuracy karena subsample sudah disampling dengan seimbang"
   ]
  },
  {
   "cell_type": "markdown",
   "metadata": {},
   "source": [
    "#### Training model dengan kelas data latih yang sudah seimbang"
   ]
  },
  {
   "cell_type": "code",
   "execution_count": null,
   "metadata": {},
   "outputs": [],
   "source": [
    "cv_results_accuracy, model_names, print_msg_accuracy = perform_model(\n",
    "    models=models,\n",
    "    X_train=X_train_balanced,\n",
    "    y_train=y_train_balanced,\n",
    "    kfold=kfold,\n",
    "    scoring=scoring_accuracy\n",
    ")"
   ]
  },
  {
   "cell_type": "code",
   "execution_count": null,
   "metadata": {},
   "outputs": [
    {
     "name": "stdout",
     "output_type": "stream",
     "text": [
      "Logistic Regression: mean accuracy = 0.8241332399792494  std accuracy = 0.015350657266185282\n",
      "K-Nearest Neighbor: mean accuracy = 0.7767341548976431  std accuracy = 0.02019313826498894\n",
      "Support Vector Machine: mean accuracy = 0.8653395754807673  std accuracy = 0.012098183129340568\n",
      "Decision Tree: mean accuracy = 0.790061780571951  std accuracy = 0.014710719702437081\n",
      "Random Forest: mean accuracy = 0.8606274918103557  std accuracy = 0.012603439645845756\n",
      "Naive Bayes: mean accuracy = 0.6925656531944148  std accuracy = 0.02016780198506147\n"
     ]
    }
   ],
   "source": [
    "# cetak hasil rata-rata akurasi setiap model\n",
    "for msg in print_msg_accuracy:\n",
    "    print(msg)"
   ]
  },
  {
   "cell_type": "code",
   "execution_count": null,
   "metadata": {},
   "outputs": [
    {
     "data": {
      "image/png": "[encoded data removed]",
      "text/plain": [
       "<Figure size 576x288 with 1 Axes>"
      ]
     },
     "metadata": {
      "needs_background": "light"
     },
     "output_type": "display_data"
    }
   ],
   "source": [
    "fig = plt.figure(figsize=(10,8))\n",
    "fig.suptitle('Hasil perbandingan akurasi setiap model klasifikasi dengan subsampel seimbang')\n",
    "ax = fig.add_subplot(111)\n",
    "\n",
    "plt.boxplot(cv_results_accuracy)\n",
    "ax.set_xticklabels(model_names, rotation=90)\n",
    "fig.set_size_inches(8,4)\n",
    "plt.show()"
   ]
  },
  {
   "cell_type": "markdown",
   "metadata": {},
   "source": [
    "Analisis <br>\n",
    "Model SVM tampil memberikan rata-rata akurasi tertinggi ketika model dilatih dengan data latih yang seimbang sehingga kita mengetest SVM"
   ]
  },
  {
   "cell_type": "code",
   "execution_count": null,
   "metadata": {},
   "outputs": [],
   "source": [
    "# inisialisasi model\n",
    "svm_balanced = SVC()\n",
    "\n",
    "# fit model into training data\n",
    "svm_balanced.fit(X_train_balanced,y_train_balanced)\n",
    "\n",
    "# get y prediction\n",
    "y_pred_balanced = svm_balanced.predict(X_test_pca)\n"
   ]
  },
  {
   "cell_type": "code",
   "execution_count": null,
   "metadata": {},
   "outputs": [
    {
     "name": "stdout",
     "output_type": "stream",
     "text": [
      "Accuracy score SVM with balanced subsample =  0.8393052350297583  %\n",
      "[[6091 1229]\n",
      " [  94  819]]\n",
      "              precision    recall  f1-score   support\n",
      "\n",
      "           0       0.98      0.83      0.90      7320\n",
      "           1       0.40      0.90      0.55       913\n",
      "\n",
      "    accuracy                           0.84      8233\n",
      "   macro avg       0.69      0.86      0.73      8233\n",
      "weighted avg       0.92      0.84      0.86      8233\n",
      "\n"
     ]
    }
   ],
   "source": [
    "# print score\n",
    "print(\"Accuracy score SVM with balanced subsample = \", metrics.accuracy_score(y_test,y_pred_balanced),\" %\")\n",
    "\n",
    "# confusion matrix\n",
    "print(metrics.confusion_matrix(y_test,y_pred_balanced))\n",
    "\n",
    "# hasil klasifikasi\n",
    "print(metrics.classification_report(y_test,y_pred_balanced))"
   ]
  },
  {
   "cell_type": "markdown",
   "metadata": {},
   "source": [
    "Analisis <br>\n",
    "Hasil confusion matrix pada model SVM yang dilatih dengan sample yang balanced menunjukkan adanya peningkatan nilai recall kelas '1'. <br>\n",
    "1. Sebelum dilakukan under-sampling nilai recall untuk kelas '1' yaitu 0.44, sedangkan setelah di-undersampling menjadi 0.90 <br>\n",
    "2. Terjadi penurunan recall untuk kelas '0' setelah undersampling dari 0.93 menjadi 0.83. Penurunannya tidak sebesar pada kenaikan recall untuk kelas '1'\n",
    "Jadi dipilih SVM karena memberikan accuracy yang lebih tiggi (83,9%) serta recall yang sudah naik dibanding sebelumnya.\n"
   ]
  },
  {
   "cell_type": "markdown",
   "metadata": {},
   "source": [
    "#### Tuning Hyperparameter dari Model Terbaik"
   ]
  },
  {
   "cell_type": "code",
   "execution_count": null,
   "metadata": {},
   "outputs": [],
   "source": [
    "# inisialisasi SVM model\n",
    "svm_params_tuned = SVC()\n",
    "\n",
    "# inisialisasi objek KFold dengan k=10\n",
    "kfold = kfold\n",
    "\n",
    "# inisialisasi daftar hyperparameter yang akan dituning\n",
    "params_grid={\n",
    "    'kernel' : ['linear', 'poly', 'rbf'],\n",
    "    'gamma':['scale','auto'],\n",
    "}\n",
    "\n",
    "# instansiasi grid seach objek\n",
    "grid_svm = GridSearchCV(\n",
    "    estimator= svm_params_tuned,\n",
    "    param_grid=params_grid,\n",
    "    scoring=scoring_accuracy,\n",
    "    cv = kfold\n",
    ")\n",
    "\n",
    "# fit grid objek ke data train\n",
    "grid_results_ = grid_svm.fit(X_train_balanced,y_train_balanced)"
   ]
  },
  {
   "cell_type": "code",
   "execution_count": null,
   "metadata": {},
   "outputs": [
    {
     "name": "stdout",
     "output_type": "stream",
     "text": [
      "Best SVM Hyperparameter: {'gamma': 'scale', 'kernel': 'rbf'}\n",
      "Best SVM Accuracy Score: 0.8653395754807673\n"
     ]
    }
   ],
   "source": [
    "# Cetak hyperparameter yang memberikan hasil terbaik\n",
    "print('Best SVM Hyperparameter: {}'.format(grid_results_.best_params_))\n",
    "print('Best SVM Accuracy Score: {}'.format(grid_results_.best_score_))"
   ]
  },
  {
   "cell_type": "markdown",
   "metadata": {},
   "source": [
    "### Finalisasi Model"
   ]
  },
  {
   "cell_type": "code",
   "execution_count": null,
   "metadata": {},
   "outputs": [],
   "source": [
    "# instansiasi objek SVM dengan hyperparameter optimal\n",
    "svm_final = SVC(gamma=grid_results_.best_params_['gamma'],kernel=grid_results_.best_params_['kernel'])\n",
    "\n",
    "\n",
    "# training\n",
    "svm_final.fit(X_train_balanced,y_train_balanced)\n",
    "\n",
    "# model evaluation using data testing\n",
    "y_pred_final = svm_final.predict(X_test_pca)"
   ]
  },
  {
   "cell_type": "code",
   "execution_count": null,
   "metadata": {},
   "outputs": [
    {
     "name": "stdout",
     "output_type": "stream",
     "text": [
      "Accuracy score Final Model SVM =  0.8393052350297583  %\n",
      "[[6091 1229]\n",
      " [  94  819]]\n",
      "              precision    recall  f1-score   support\n",
      "\n",
      "           0       0.98      0.83      0.90      7320\n",
      "           1       0.40      0.90      0.55       913\n",
      "\n",
      "    accuracy                           0.84      8233\n",
      "   macro avg       0.69      0.86      0.73      8233\n",
      "weighted avg       0.92      0.84      0.86      8233\n",
      "\n"
     ]
    }
   ],
   "source": [
    "# print score\n",
    "print(\"Accuracy score Final Model SVM = \", metrics.accuracy_score(y_test,y_pred_final),\" %\")\n",
    "\n",
    "# confusion matrix\n",
    "print(metrics.confusion_matrix(y_test,y_pred_final))\n",
    "\n",
    "# hasil klasifikasi\n",
    "print(metrics.classification_report(y_test,y_pred_final))"
   ]
  }
 ],
 "metadata": {
  "kernelspec": {
   "display_name": "Python 3.9.7 ('base')",
   "language": "python",
   "name": "python3"
  },
  "language_info": {
   "codemirror_mode": {
    "name": "ipython",
    "version": 3
   },
   "file_extension": ".py",
   "mimetype": "text/x-python",
   "name": "python",
   "nbconvert_exporter": "python",
   "pygments_lexer": "ipython3",
   "version": "3.9.7"
  },
  "orig_nbformat": 4,
  "vscode": {
   "interpreter": {
    "hash": "ad2bdc8ecc057115af97d19610ffacc2b4e99fae6737bb82f5d7fb13d2f2c186"
   }
  }
 },
 "nbformat": 4,
 "nbformat_minor": 2
}
