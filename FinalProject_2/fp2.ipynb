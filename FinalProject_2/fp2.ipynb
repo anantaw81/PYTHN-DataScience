{
 "cells": [
  {
   "cell_type": "markdown",
   "metadata": {},
   "source": [
    "### Latar Belakang\n",
    "##### Deskripsi Data\n",
    "* Masalah klasifikasi biner\n",
    "* Sumber data dari Kaggle : https://www.kaggle.com/datasets/jsphyg/weather-dataset-rattle-package. Dengan jumlah baris 145460. Database ini memiliki 23 atribut. Dengan data hujan harian selama 10 tahun di Australia, kolom RainTomorrow adalah target variable yang mau kita prediksi. Jika “Yes” maka besok harinya disana hujan 1mm atau lebih.\n",
    "1. Date - tanggal hari itu\n",
    "2. Location - lokasi, nama kota di Australia\n",
    "3. MinTemp - temperatur terendah hari itu dalam celcius\n",
    "4. MaxTemp - temperatur tertinggi hari itu dalam celcius\n",
    "5. Rainfall - jumlah curah hujan hari itu dalam mm\n",
    "6. Evaporation - jumlah evaporasi dalam mm dari Class A pan selama 24 jam\n",
    "sebelum jam 9 pagi hari itu\n",
    "7. Sunshine - jumlah jam hari itu cerah dengan cahaya matahari\n",
    "8. WindGustDir - arah kecepatan angin yang paling tinggi selama 24 jam sebelum\n",
    "jam 12 malam hari itu\n",
    "9. WindGustSpeed - kecepatan angin yang paling tinggi dalam km/jam selama 24\n",
    "jam sebelum jam 12 malam hari itu\n",
    "10. WindDir9am - arah angin jam 9 pagi\n",
    "11. WindDir3pm - arah angin jam 3 sore\n",
    "12. WindSpeed9am - kecepatan angin jam 9 pagi dalam km/jam dihitung dari\n",
    "rata-rata kecepatan angin 10 menit sebelum jam 3 sore\n",
    "13. WindSpeed3pm - kecepatan angin jam 3 sore dalam km/jam dihitung dari\n",
    "rata-rata kecepatan angin 10 menit sebelum jam 3 sore\n",
    "14. Humidity9am - humiditas jam 9 pagi dalam persen\n",
    "15. Humidity3pm - humiditas jam 3 sore dalam persen\n",
    "16. Pressure9am - tekanan udara jam 9 pagi dalam hpa\n",
    "17. Pressure3pm - tekanan udara jam 3 sore dalam hpa\n",
    "18. Cloud9am - persentase langit yang tertutup awan jam 9 pagi. dihitung dalam\n",
    "oktas, unit ⅛, menghitung berapa unit ⅛ dari langit yang tertutup awan. Jika 0,\n",
    "langit cerah, jika 8, langit sepenuhnya tertutup awan.\n",
    "19. Cloud3pm - persentase langit yang tertutup awan jam 3 sore\n",
    "20. Temp9am - temperatur jam 9 pagi dalam celcius\n",
    "21. Temp3pm - temperatur jam 3 sore dalam celcius\n",
    "22. RainToday - apakah hari ini hujan: jika curah hujan 24 jam sebelum jam 9 pagi\n",
    "melebihi 1mm, maka nilai ini adalah 1, jika tidak nilai nya 0\n",
    "23. RainTomorrow - variable yang mau di prediksi\n",
    "\n",
    "\n",
    "\n",
    "\n",
    "##### Objective\n",
    "- Mampu memahami konsep Classification dengan Logistic Regression dan SVM\n",
    "- Mampu mempersiapkan data untuk digunakan dalam model Logistic Regression\n",
    "dan SVM\n",
    "- Mampu mengimplementasikan Logistic Regression dan SVM untuk membuat\n",
    "prediksi"
   ]
  },
  {
   "cell_type": "markdown",
   "metadata": {},
   "source": [
    "### Import pustaka yang dibutuhkan"
   ]
  },
  {
   "cell_type": "code",
   "execution_count": 181,
   "metadata": {},
   "outputs": [],
   "source": [
    "import numpy as np\n",
    "import pandas as pd\n",
    "import seaborn as sns\n",
    "import matplotlib.pyplot as plt\n",
    "from sklearn import svm\n",
    "from sklearn.linear_model import LogisticRegression\n",
    "from sklearn.preprocessing import StandardScaler\n",
    "from sklearn.model_selection import train_test_split\n",
    "from imblearn.over_sampling import SMOTE\n",
    "from sklearn.metrics import accuracy_score, plot_confusion_matrix, plot_roc_curve, classification_report, roc_curve\n",
    "import pickle #untuk export model\n"
   ]
  },
  {
   "cell_type": "markdown",
   "metadata": {},
   "source": [
    "### Data Loading"
   ]
  },
  {
   "cell_type": "code",
   "execution_count": 182,
   "metadata": {},
   "outputs": [
    {
     "data": {
      "text/html": [
       "<div>\n",
       "<style scoped>\n",
       "    .dataframe tbody tr th:only-of-type {\n",
       "        vertical-align: middle;\n",
       "    }\n",
       "\n",
       "    .dataframe tbody tr th {\n",
       "        vertical-align: top;\n",
       "    }\n",
       "\n",
       "    .dataframe thead th {\n",
       "        text-align: right;\n",
       "    }\n",
       "</style>\n",
       "<table border=\"1\" class=\"dataframe\">\n",
       "  <thead>\n",
       "    <tr style=\"text-align: right;\">\n",
       "      <th></th>\n",
       "      <th>Date</th>\n",
       "      <th>Location</th>\n",
       "      <th>MinTemp</th>\n",
       "      <th>MaxTemp</th>\n",
       "      <th>Rainfall</th>\n",
       "      <th>Evaporation</th>\n",
       "      <th>Sunshine</th>\n",
       "      <th>WindGustDir</th>\n",
       "      <th>WindGustSpeed</th>\n",
       "      <th>WindDir9am</th>\n",
       "      <th>...</th>\n",
       "      <th>Humidity9am</th>\n",
       "      <th>Humidity3pm</th>\n",
       "      <th>Pressure9am</th>\n",
       "      <th>Pressure3pm</th>\n",
       "      <th>Cloud9am</th>\n",
       "      <th>Cloud3pm</th>\n",
       "      <th>Temp9am</th>\n",
       "      <th>Temp3pm</th>\n",
       "      <th>RainToday</th>\n",
       "      <th>RainTomorrow</th>\n",
       "    </tr>\n",
       "  </thead>\n",
       "  <tbody>\n",
       "    <tr>\n",
       "      <th>86700</th>\n",
       "      <td>2016-02-12</td>\n",
       "      <td>Brisbane</td>\n",
       "      <td>20.8</td>\n",
       "      <td>30.6</td>\n",
       "      <td>0.0</td>\n",
       "      <td>9.2</td>\n",
       "      <td>11.4</td>\n",
       "      <td>SE</td>\n",
       "      <td>41.0</td>\n",
       "      <td>SSE</td>\n",
       "      <td>...</td>\n",
       "      <td>58.0</td>\n",
       "      <td>49.0</td>\n",
       "      <td>1013.2</td>\n",
       "      <td>1011.4</td>\n",
       "      <td>3.0</td>\n",
       "      <td>7.0</td>\n",
       "      <td>27.4</td>\n",
       "      <td>29.3</td>\n",
       "      <td>No</td>\n",
       "      <td>No</td>\n",
       "    </tr>\n",
       "    <tr>\n",
       "      <th>96762</th>\n",
       "      <td>2009-09-16</td>\n",
       "      <td>Adelaide</td>\n",
       "      <td>16.3</td>\n",
       "      <td>26.2</td>\n",
       "      <td>0.2</td>\n",
       "      <td>5.0</td>\n",
       "      <td>1.9</td>\n",
       "      <td>NNE</td>\n",
       "      <td>50.0</td>\n",
       "      <td>NE</td>\n",
       "      <td>...</td>\n",
       "      <td>42.0</td>\n",
       "      <td>62.0</td>\n",
       "      <td>1013.3</td>\n",
       "      <td>1009.8</td>\n",
       "      <td>NaN</td>\n",
       "      <td>NaN</td>\n",
       "      <td>19.8</td>\n",
       "      <td>19.4</td>\n",
       "      <td>No</td>\n",
       "      <td>Yes</td>\n",
       "    </tr>\n",
       "    <tr>\n",
       "      <th>40986</th>\n",
       "      <td>2013-03-18</td>\n",
       "      <td>Williamtown</td>\n",
       "      <td>13.6</td>\n",
       "      <td>22.9</td>\n",
       "      <td>2.8</td>\n",
       "      <td>8.2</td>\n",
       "      <td>9.8</td>\n",
       "      <td>SSE</td>\n",
       "      <td>44.0</td>\n",
       "      <td>W</td>\n",
       "      <td>...</td>\n",
       "      <td>72.0</td>\n",
       "      <td>52.0</td>\n",
       "      <td>1020.7</td>\n",
       "      <td>1020.1</td>\n",
       "      <td>1.0</td>\n",
       "      <td>5.0</td>\n",
       "      <td>17.0</td>\n",
       "      <td>22.1</td>\n",
       "      <td>Yes</td>\n",
       "      <td>No</td>\n",
       "    </tr>\n",
       "    <tr>\n",
       "      <th>37075</th>\n",
       "      <td>2010-07-01</td>\n",
       "      <td>WaggaWagga</td>\n",
       "      <td>2.4</td>\n",
       "      <td>12.8</td>\n",
       "      <td>0.4</td>\n",
       "      <td>1.0</td>\n",
       "      <td>7.5</td>\n",
       "      <td>WSW</td>\n",
       "      <td>20.0</td>\n",
       "      <td>NaN</td>\n",
       "      <td>...</td>\n",
       "      <td>94.0</td>\n",
       "      <td>57.0</td>\n",
       "      <td>1025.2</td>\n",
       "      <td>1024.4</td>\n",
       "      <td>1.0</td>\n",
       "      <td>1.0</td>\n",
       "      <td>6.2</td>\n",
       "      <td>12.0</td>\n",
       "      <td>No</td>\n",
       "      <td>No</td>\n",
       "    </tr>\n",
       "    <tr>\n",
       "      <th>68054</th>\n",
       "      <td>2010-11-02</td>\n",
       "      <td>Melbourne</td>\n",
       "      <td>10.5</td>\n",
       "      <td>19.0</td>\n",
       "      <td>0.6</td>\n",
       "      <td>4.4</td>\n",
       "      <td>3.2</td>\n",
       "      <td>WSW</td>\n",
       "      <td>44.0</td>\n",
       "      <td>WSW</td>\n",
       "      <td>...</td>\n",
       "      <td>78.0</td>\n",
       "      <td>77.0</td>\n",
       "      <td>1018.4</td>\n",
       "      <td>1016.9</td>\n",
       "      <td>NaN</td>\n",
       "      <td>NaN</td>\n",
       "      <td>13.4</td>\n",
       "      <td>16.1</td>\n",
       "      <td>No</td>\n",
       "      <td>Yes</td>\n",
       "    </tr>\n",
       "  </tbody>\n",
       "</table>\n",
       "<p>5 rows × 23 columns</p>\n",
       "</div>"
      ],
      "text/plain": [
       "             Date     Location  MinTemp  MaxTemp  Rainfall  Evaporation  \\\n",
       "86700  2016-02-12     Brisbane     20.8     30.6       0.0          9.2   \n",
       "96762  2009-09-16     Adelaide     16.3     26.2       0.2          5.0   \n",
       "40986  2013-03-18  Williamtown     13.6     22.9       2.8          8.2   \n",
       "37075  2010-07-01   WaggaWagga      2.4     12.8       0.4          1.0   \n",
       "68054  2010-11-02    Melbourne     10.5     19.0       0.6          4.4   \n",
       "\n",
       "       Sunshine WindGustDir  WindGustSpeed WindDir9am  ... Humidity9am  \\\n",
       "86700      11.4          SE           41.0        SSE  ...        58.0   \n",
       "96762       1.9         NNE           50.0         NE  ...        42.0   \n",
       "40986       9.8         SSE           44.0          W  ...        72.0   \n",
       "37075       7.5         WSW           20.0        NaN  ...        94.0   \n",
       "68054       3.2         WSW           44.0        WSW  ...        78.0   \n",
       "\n",
       "       Humidity3pm  Pressure9am  Pressure3pm  Cloud9am  Cloud3pm  Temp9am  \\\n",
       "86700         49.0       1013.2       1011.4       3.0       7.0     27.4   \n",
       "96762         62.0       1013.3       1009.8       NaN       NaN     19.8   \n",
       "40986         52.0       1020.7       1020.1       1.0       5.0     17.0   \n",
       "37075         57.0       1025.2       1024.4       1.0       1.0      6.2   \n",
       "68054         77.0       1018.4       1016.9       NaN       NaN     13.4   \n",
       "\n",
       "       Temp3pm  RainToday  RainTomorrow  \n",
       "86700     29.3         No            No  \n",
       "96762     19.4         No           Yes  \n",
       "40986     22.1        Yes            No  \n",
       "37075     12.0         No            No  \n",
       "68054     16.1         No           Yes  \n",
       "\n",
       "[5 rows x 23 columns]"
      ]
     },
     "execution_count": 182,
     "metadata": {},
     "output_type": "execute_result"
    }
   ],
   "source": [
    "df = pd.read_csv(\"dataset/weatherAUS.csv\")\n",
    "df.sample(5)"
   ]
  },
  {
   "cell_type": "code",
   "execution_count": 183,
   "metadata": {},
   "outputs": [
    {
     "data": {
      "text/plain": [
       "(145460, 23)"
      ]
     },
     "execution_count": 183,
     "metadata": {},
     "output_type": "execute_result"
    }
   ],
   "source": [
    "# Melihat dimensi dataset\n",
    "df.shape"
   ]
  },
  {
   "cell_type": "code",
   "execution_count": 184,
   "metadata": {},
   "outputs": [
    {
     "name": "stdout",
     "output_type": "stream",
     "text": [
      "<class 'pandas.core.frame.DataFrame'>\n",
      "RangeIndex: 145460 entries, 0 to 145459\n",
      "Data columns (total 23 columns):\n",
      " #   Column         Non-Null Count   Dtype  \n",
      "---  ------         --------------   -----  \n",
      " 0   Date           145460 non-null  object \n",
      " 1   Location       145460 non-null  object \n",
      " 2   MinTemp        143975 non-null  float64\n",
      " 3   MaxTemp        144199 non-null  float64\n",
      " 4   Rainfall       142199 non-null  float64\n",
      " 5   Evaporation    82670 non-null   float64\n",
      " 6   Sunshine       75625 non-null   float64\n",
      " 7   WindGustDir    135134 non-null  object \n",
      " 8   WindGustSpeed  135197 non-null  float64\n",
      " 9   WindDir9am     134894 non-null  object \n",
      " 10  WindDir3pm     141232 non-null  object \n",
      " 11  WindSpeed9am   143693 non-null  float64\n",
      " 12  WindSpeed3pm   142398 non-null  float64\n",
      " 13  Humidity9am    142806 non-null  float64\n",
      " 14  Humidity3pm    140953 non-null  float64\n",
      " 15  Pressure9am    130395 non-null  float64\n",
      " 16  Pressure3pm    130432 non-null  float64\n",
      " 17  Cloud9am       89572 non-null   float64\n",
      " 18  Cloud3pm       86102 non-null   float64\n",
      " 19  Temp9am        143693 non-null  float64\n",
      " 20  Temp3pm        141851 non-null  float64\n",
      " 21  RainToday      142199 non-null  object \n",
      " 22  RainTomorrow   142193 non-null  object \n",
      "dtypes: float64(16), object(7)\n",
      "memory usage: 25.5+ MB\n"
     ]
    }
   ],
   "source": [
    "# Melihat tipe dat\n",
    "df.info()"
   ]
  },
  {
   "cell_type": "markdown",
   "metadata": {},
   "source": [
    "### Informasi yang didapat dari data\n",
    "* 145460 rows \n",
    "* 23 columns \n",
    "* 7 columns we have object \n",
    "* 16 columns we have folat \n",
    "* Tipe data \"Date\" perlu dikonversi ke datetime/dilakukan ekstraksi\n",
    "* Tipe data untuk kolom lain selain \"Date\" terlihat sudah sesuai"
   ]
  },
  {
   "cell_type": "markdown",
   "metadata": {},
   "source": [
    "### Data Cleaning"
   ]
  },
  {
   "cell_type": "code",
   "execution_count": 185,
   "metadata": {},
   "outputs": [
    {
     "data": {
      "text/html": [
       "<div>\n",
       "<style scoped>\n",
       "    .dataframe tbody tr th:only-of-type {\n",
       "        vertical-align: middle;\n",
       "    }\n",
       "\n",
       "    .dataframe tbody tr th {\n",
       "        vertical-align: top;\n",
       "    }\n",
       "\n",
       "    .dataframe thead th {\n",
       "        text-align: right;\n",
       "    }\n",
       "</style>\n",
       "<table border=\"1\" class=\"dataframe\">\n",
       "  <thead>\n",
       "    <tr style=\"text-align: right;\">\n",
       "      <th></th>\n",
       "      <th>MinTemp</th>\n",
       "      <th>MaxTemp</th>\n",
       "      <th>Rainfall</th>\n",
       "      <th>Evaporation</th>\n",
       "      <th>Sunshine</th>\n",
       "      <th>WindGustSpeed</th>\n",
       "      <th>WindSpeed9am</th>\n",
       "      <th>WindSpeed3pm</th>\n",
       "      <th>Humidity9am</th>\n",
       "      <th>Humidity3pm</th>\n",
       "      <th>Pressure9am</th>\n",
       "      <th>Pressure3pm</th>\n",
       "      <th>Cloud9am</th>\n",
       "      <th>Cloud3pm</th>\n",
       "      <th>Temp9am</th>\n",
       "      <th>Temp3pm</th>\n",
       "    </tr>\n",
       "  </thead>\n",
       "  <tbody>\n",
       "    <tr>\n",
       "      <th>count</th>\n",
       "      <td>143975.000000</td>\n",
       "      <td>144199.000000</td>\n",
       "      <td>142199.000000</td>\n",
       "      <td>82670.000000</td>\n",
       "      <td>75625.000000</td>\n",
       "      <td>135197.000000</td>\n",
       "      <td>143693.000000</td>\n",
       "      <td>142398.000000</td>\n",
       "      <td>142806.000000</td>\n",
       "      <td>140953.000000</td>\n",
       "      <td>130395.00000</td>\n",
       "      <td>130432.000000</td>\n",
       "      <td>89572.000000</td>\n",
       "      <td>86102.000000</td>\n",
       "      <td>143693.000000</td>\n",
       "      <td>141851.00000</td>\n",
       "    </tr>\n",
       "    <tr>\n",
       "      <th>mean</th>\n",
       "      <td>12.194034</td>\n",
       "      <td>23.221348</td>\n",
       "      <td>2.360918</td>\n",
       "      <td>5.468232</td>\n",
       "      <td>7.611178</td>\n",
       "      <td>40.035230</td>\n",
       "      <td>14.043426</td>\n",
       "      <td>18.662657</td>\n",
       "      <td>68.880831</td>\n",
       "      <td>51.539116</td>\n",
       "      <td>1017.64994</td>\n",
       "      <td>1015.255889</td>\n",
       "      <td>4.447461</td>\n",
       "      <td>4.509930</td>\n",
       "      <td>16.990631</td>\n",
       "      <td>21.68339</td>\n",
       "    </tr>\n",
       "    <tr>\n",
       "      <th>std</th>\n",
       "      <td>6.398495</td>\n",
       "      <td>7.119049</td>\n",
       "      <td>8.478060</td>\n",
       "      <td>4.193704</td>\n",
       "      <td>3.785483</td>\n",
       "      <td>13.607062</td>\n",
       "      <td>8.915375</td>\n",
       "      <td>8.809800</td>\n",
       "      <td>19.029164</td>\n",
       "      <td>20.795902</td>\n",
       "      <td>7.10653</td>\n",
       "      <td>7.037414</td>\n",
       "      <td>2.887159</td>\n",
       "      <td>2.720357</td>\n",
       "      <td>6.488753</td>\n",
       "      <td>6.93665</td>\n",
       "    </tr>\n",
       "    <tr>\n",
       "      <th>min</th>\n",
       "      <td>-8.500000</td>\n",
       "      <td>-4.800000</td>\n",
       "      <td>0.000000</td>\n",
       "      <td>0.000000</td>\n",
       "      <td>0.000000</td>\n",
       "      <td>6.000000</td>\n",
       "      <td>0.000000</td>\n",
       "      <td>0.000000</td>\n",
       "      <td>0.000000</td>\n",
       "      <td>0.000000</td>\n",
       "      <td>980.50000</td>\n",
       "      <td>977.100000</td>\n",
       "      <td>0.000000</td>\n",
       "      <td>0.000000</td>\n",
       "      <td>-7.200000</td>\n",
       "      <td>-5.40000</td>\n",
       "    </tr>\n",
       "    <tr>\n",
       "      <th>25%</th>\n",
       "      <td>7.600000</td>\n",
       "      <td>17.900000</td>\n",
       "      <td>0.000000</td>\n",
       "      <td>2.600000</td>\n",
       "      <td>4.800000</td>\n",
       "      <td>31.000000</td>\n",
       "      <td>7.000000</td>\n",
       "      <td>13.000000</td>\n",
       "      <td>57.000000</td>\n",
       "      <td>37.000000</td>\n",
       "      <td>1012.90000</td>\n",
       "      <td>1010.400000</td>\n",
       "      <td>1.000000</td>\n",
       "      <td>2.000000</td>\n",
       "      <td>12.300000</td>\n",
       "      <td>16.60000</td>\n",
       "    </tr>\n",
       "    <tr>\n",
       "      <th>50%</th>\n",
       "      <td>12.000000</td>\n",
       "      <td>22.600000</td>\n",
       "      <td>0.000000</td>\n",
       "      <td>4.800000</td>\n",
       "      <td>8.400000</td>\n",
       "      <td>39.000000</td>\n",
       "      <td>13.000000</td>\n",
       "      <td>19.000000</td>\n",
       "      <td>70.000000</td>\n",
       "      <td>52.000000</td>\n",
       "      <td>1017.60000</td>\n",
       "      <td>1015.200000</td>\n",
       "      <td>5.000000</td>\n",
       "      <td>5.000000</td>\n",
       "      <td>16.700000</td>\n",
       "      <td>21.10000</td>\n",
       "    </tr>\n",
       "    <tr>\n",
       "      <th>75%</th>\n",
       "      <td>16.900000</td>\n",
       "      <td>28.200000</td>\n",
       "      <td>0.800000</td>\n",
       "      <td>7.400000</td>\n",
       "      <td>10.600000</td>\n",
       "      <td>48.000000</td>\n",
       "      <td>19.000000</td>\n",
       "      <td>24.000000</td>\n",
       "      <td>83.000000</td>\n",
       "      <td>66.000000</td>\n",
       "      <td>1022.40000</td>\n",
       "      <td>1020.000000</td>\n",
       "      <td>7.000000</td>\n",
       "      <td>7.000000</td>\n",
       "      <td>21.600000</td>\n",
       "      <td>26.40000</td>\n",
       "    </tr>\n",
       "    <tr>\n",
       "      <th>max</th>\n",
       "      <td>33.900000</td>\n",
       "      <td>48.100000</td>\n",
       "      <td>371.000000</td>\n",
       "      <td>145.000000</td>\n",
       "      <td>14.500000</td>\n",
       "      <td>135.000000</td>\n",
       "      <td>130.000000</td>\n",
       "      <td>87.000000</td>\n",
       "      <td>100.000000</td>\n",
       "      <td>100.000000</td>\n",
       "      <td>1041.00000</td>\n",
       "      <td>1039.600000</td>\n",
       "      <td>9.000000</td>\n",
       "      <td>9.000000</td>\n",
       "      <td>40.200000</td>\n",
       "      <td>46.70000</td>\n",
       "    </tr>\n",
       "  </tbody>\n",
       "</table>\n",
       "</div>"
      ],
      "text/plain": [
       "             MinTemp        MaxTemp       Rainfall   Evaporation  \\\n",
       "count  143975.000000  144199.000000  142199.000000  82670.000000   \n",
       "mean       12.194034      23.221348       2.360918      5.468232   \n",
       "std         6.398495       7.119049       8.478060      4.193704   \n",
       "min        -8.500000      -4.800000       0.000000      0.000000   \n",
       "25%         7.600000      17.900000       0.000000      2.600000   \n",
       "50%        12.000000      22.600000       0.000000      4.800000   \n",
       "75%        16.900000      28.200000       0.800000      7.400000   \n",
       "max        33.900000      48.100000     371.000000    145.000000   \n",
       "\n",
       "           Sunshine  WindGustSpeed   WindSpeed9am   WindSpeed3pm  \\\n",
       "count  75625.000000  135197.000000  143693.000000  142398.000000   \n",
       "mean       7.611178      40.035230      14.043426      18.662657   \n",
       "std        3.785483      13.607062       8.915375       8.809800   \n",
       "min        0.000000       6.000000       0.000000       0.000000   \n",
       "25%        4.800000      31.000000       7.000000      13.000000   \n",
       "50%        8.400000      39.000000      13.000000      19.000000   \n",
       "75%       10.600000      48.000000      19.000000      24.000000   \n",
       "max       14.500000     135.000000     130.000000      87.000000   \n",
       "\n",
       "         Humidity9am    Humidity3pm   Pressure9am    Pressure3pm  \\\n",
       "count  142806.000000  140953.000000  130395.00000  130432.000000   \n",
       "mean       68.880831      51.539116    1017.64994    1015.255889   \n",
       "std        19.029164      20.795902       7.10653       7.037414   \n",
       "min         0.000000       0.000000     980.50000     977.100000   \n",
       "25%        57.000000      37.000000    1012.90000    1010.400000   \n",
       "50%        70.000000      52.000000    1017.60000    1015.200000   \n",
       "75%        83.000000      66.000000    1022.40000    1020.000000   \n",
       "max       100.000000     100.000000    1041.00000    1039.600000   \n",
       "\n",
       "           Cloud9am      Cloud3pm        Temp9am       Temp3pm  \n",
       "count  89572.000000  86102.000000  143693.000000  141851.00000  \n",
       "mean       4.447461      4.509930      16.990631      21.68339  \n",
       "std        2.887159      2.720357       6.488753       6.93665  \n",
       "min        0.000000      0.000000      -7.200000      -5.40000  \n",
       "25%        1.000000      2.000000      12.300000      16.60000  \n",
       "50%        5.000000      5.000000      16.700000      21.10000  \n",
       "75%        7.000000      7.000000      21.600000      26.40000  \n",
       "max        9.000000      9.000000      40.200000      46.70000  "
      ]
     },
     "execution_count": 185,
     "metadata": {},
     "output_type": "execute_result"
    }
   ],
   "source": [
    "df.describe() #cek deskripsi data"
   ]
  },
  {
   "cell_type": "markdown",
   "metadata": {},
   "source": [
    "Analisis<br> </b>\n",
    "<ol>\n",
    "    <li>Rata-rata minimum temperature adalah 12.194 and rata-rata maximum temperature adalah 23.221 derajat Celcius.</li>\n",
    "    <li>Rata-rata rainfall adalah 2.36 mm.</li>\n",
    "    <li>Rata-rata sunshine recieved adalah 7.61 hour.</li>\n",
    "    <li>Rata-rata wind gust speed adalah 40.035 km/hr.</li>\n",
    "    <li>Temperature minimum yang dicatat adalah -8.5 derajat Celcius and temperature maksimum yang dicatat adalah 48.1 derajat Celcius.</li>\n",
    "    <li>Rainfall minimum yang tercatat pada hari-hari tertentu adalah 0 mm and maksimumnya adalah 371 mm.</li>\n",
    "    <li>Median dari evaporation adalah 4.8 mm.</li>\n",
    "</ol>"
   ]
  },
  {
   "cell_type": "code",
   "execution_count": 186,
   "metadata": {},
   "outputs": [
    {
     "data": {
      "text/html": [
       "<div>\n",
       "<style scoped>\n",
       "    .dataframe tbody tr th:only-of-type {\n",
       "        vertical-align: middle;\n",
       "    }\n",
       "\n",
       "    .dataframe tbody tr th {\n",
       "        vertical-align: top;\n",
       "    }\n",
       "\n",
       "    .dataframe thead th {\n",
       "        text-align: right;\n",
       "    }\n",
       "</style>\n",
       "<table border=\"1\" class=\"dataframe\">\n",
       "  <thead>\n",
       "    <tr style=\"text-align: right;\">\n",
       "      <th></th>\n",
       "      <th>Date</th>\n",
       "      <th>Location</th>\n",
       "      <th>WindGustDir</th>\n",
       "      <th>WindDir9am</th>\n",
       "      <th>WindDir3pm</th>\n",
       "      <th>RainToday</th>\n",
       "      <th>RainTomorrow</th>\n",
       "    </tr>\n",
       "  </thead>\n",
       "  <tbody>\n",
       "    <tr>\n",
       "      <th>count</th>\n",
       "      <td>145460</td>\n",
       "      <td>145460</td>\n",
       "      <td>135134</td>\n",
       "      <td>134894</td>\n",
       "      <td>141232</td>\n",
       "      <td>142199</td>\n",
       "      <td>142193</td>\n",
       "    </tr>\n",
       "    <tr>\n",
       "      <th>unique</th>\n",
       "      <td>3436</td>\n",
       "      <td>49</td>\n",
       "      <td>16</td>\n",
       "      <td>16</td>\n",
       "      <td>16</td>\n",
       "      <td>2</td>\n",
       "      <td>2</td>\n",
       "    </tr>\n",
       "    <tr>\n",
       "      <th>top</th>\n",
       "      <td>2013-11-12</td>\n",
       "      <td>Canberra</td>\n",
       "      <td>W</td>\n",
       "      <td>N</td>\n",
       "      <td>SE</td>\n",
       "      <td>No</td>\n",
       "      <td>No</td>\n",
       "    </tr>\n",
       "    <tr>\n",
       "      <th>freq</th>\n",
       "      <td>49</td>\n",
       "      <td>3436</td>\n",
       "      <td>9915</td>\n",
       "      <td>11758</td>\n",
       "      <td>10838</td>\n",
       "      <td>110319</td>\n",
       "      <td>110316</td>\n",
       "    </tr>\n",
       "  </tbody>\n",
       "</table>\n",
       "</div>"
      ],
      "text/plain": [
       "              Date  Location WindGustDir WindDir9am WindDir3pm RainToday  \\\n",
       "count       145460    145460      135134     134894     141232    142199   \n",
       "unique        3436        49          16         16         16         2   \n",
       "top     2013-11-12  Canberra           W          N         SE        No   \n",
       "freq            49      3436        9915      11758      10838    110319   \n",
       "\n",
       "       RainTomorrow  \n",
       "count        142193  \n",
       "unique            2  \n",
       "top              No  \n",
       "freq         110316  "
      ]
     },
     "execution_count": 186,
     "metadata": {},
     "output_type": "execute_result"
    }
   ],
   "source": [
    "df.describe(include= \"object\")  # cek deskripsi data termasuk objek"
   ]
  },
  {
   "cell_type": "markdown",
   "metadata": {},
   "source": [
    "<b> Statistik yang ditampilkan untuk atribut tipe data 'objek' berbeda dengan yang ditampilkan untuk tipe data numerik.</b><br>\n",
    "Analisis<br> </b>\n",
    "<ol>\n",
    "     <li>Ada total 49 lokasi (unique) dan 16 arah angin (unique).</li>\n",
    "     <li>Atribut RainToday dan RainTomorrow memiliki 2 unique value.</li>\n",
    "     <li>Lokasi teratas adalah Canberra yang terjadi 3436 kali.</li>\n",
    "</ol>"
   ]
  },
  {
   "cell_type": "code",
   "execution_count": 187,
   "metadata": {},
   "outputs": [
    {
     "data": {
      "text/plain": [
       "Date                 0\n",
       "Location             0\n",
       "MinTemp           1485\n",
       "MaxTemp           1261\n",
       "Rainfall          3261\n",
       "Evaporation      62790\n",
       "Sunshine         69835\n",
       "WindGustDir      10326\n",
       "WindGustSpeed    10263\n",
       "WindDir9am       10566\n",
       "WindDir3pm        4228\n",
       "WindSpeed9am      1767\n",
       "WindSpeed3pm      3062\n",
       "Humidity9am       2654\n",
       "Humidity3pm       4507\n",
       "Pressure9am      15065\n",
       "Pressure3pm      15028\n",
       "Cloud9am         55888\n",
       "Cloud3pm         59358\n",
       "Temp9am           1767\n",
       "Temp3pm           3609\n",
       "RainToday         3261\n",
       "RainTomorrow      3267\n",
       "dtype: int64"
      ]
     },
     "execution_count": 187,
     "metadata": {},
     "output_type": "execute_result"
    }
   ],
   "source": [
    "# Melihat nilai null pada dataset\n",
    "df.isna().sum()"
   ]
  },
  {
   "cell_type": "markdown",
   "metadata": {},
   "source": [
    "Analisis<br>\n",
    "<ol>\n",
    "     <li>Nilai null maksimum ada di kolom Sunshine diikuti oleh Evaporasi.</li>\n",
    "     <li>Lebih dari 55.000 nilai null ada di kolom Cloud9am dan Cloud3pm.</li>\n",
    "     <li>Sekitar 15.000 nilai nol ada di kolom Pressure9am dan Pressure3pm.</li>\n",
    "     <li>Lebih dari 10.000 nilai nol ada di kolom WindGustDir, WindGustSpeed, dan WindDir9am</li>\n",
    "     <li>Ada banyak kolom yang memiliki lebih dari 1000 catatan nol.</li>\n",
    "</ol>"
   ]
  },
  {
   "cell_type": "code",
   "execution_count": 188,
   "metadata": {},
   "outputs": [],
   "source": [
    "# Drop Sunshine, Evaporation, Cloud9am and Cloud3pm karena kebanyakan nilainya null\n",
    "\n",
    "col = ['Sunshine', 'Evaporation', 'Cloud9am', 'Cloud3pm']\n",
    "df.drop(col, axis=1, inplace=True)"
   ]
  },
  {
   "cell_type": "markdown",
   "metadata": {},
   "source": [
    "##### Pisahkan Fitur (Kolom) Categorical dan Numerical "
   ]
  },
  {
   "cell_type": "code",
   "execution_count": 189,
   "metadata": {},
   "outputs": [
    {
     "name": "stdout",
     "output_type": "stream",
     "text": [
      "Number of Categorical Features we have in data is : 7  \n",
      "Here is Listed features ['Date', 'Location', 'WindGustDir', 'WindDir9am', 'WindDir3pm', 'RainToday', 'RainTomorrow'] \n"
     ]
    }
   ],
   "source": [
    "# Memeriksa fitur categorical dan hitung jumlahnya\n",
    "\n",
    "cat_features = [columns_name for columns_name in df.columns if df[columns_name].dtype == \"O\"]\n",
    "print(\"Number of Categorical Features we have in data is : {}  \".format(len(cat_features)))\n",
    "print(\"Here is Listed features {} \".format(cat_features))"
   ]
  },
  {
   "cell_type": "code",
   "execution_count": 190,
   "metadata": {},
   "outputs": [
    {
     "name": "stdout",
     "output_type": "stream",
     "text": [
      "Number of Numerical Features we have in data is : 12  \n",
      "Here is the Listed Numerical features ['MinTemp', 'MaxTemp', 'Rainfall', 'WindGustSpeed', 'WindSpeed9am', 'WindSpeed3pm', 'Humidity9am', 'Humidity3pm', 'Pressure9am', 'Pressure3pm', 'Temp9am', 'Temp3pm'] \n"
     ]
    }
   ],
   "source": [
    "# Memeriksa fitur numerical dan hitung jumlahnya \n",
    "\n",
    "num_features = [columns_name for columns_name in df.columns if df[columns_name].dtype != \"O\"]\n",
    "print(\"Number of Numerical Features we have in data is : {}  \".format(len(num_features)))\n",
    "print(\"Here is the Listed Numerical features {} \".format(num_features))\n"
   ]
  },
  {
   "cell_type": "markdown",
   "metadata": {},
   "source": [
    "##### Cek Kardinalitas\n",
    "* jumlah unique value dalam kardinalitas\n",
    "* jika ada banyak unique value maka sulit untuk melakukan pengkodean label\n",
    "* juga berpengaruh pada efisiensi model"
   ]
  },
  {
   "cell_type": "code",
   "execution_count": 191,
   "metadata": {},
   "outputs": [
    {
     "name": "stdout",
     "output_type": "stream",
     "text": [
      "The Cardinality of each column Date : 3436 \n",
      "The Cardinality of each column Location : 49 \n",
      "The Cardinality of each column WindGustDir : 17 \n",
      "The Cardinality of each column WindDir9am : 17 \n",
      "The Cardinality of each column WindDir3pm : 17 \n",
      "The Cardinality of each column RainToday : 3 \n",
      "The Cardinality of each column RainTomorrow : 3 \n"
     ]
    }
   ],
   "source": [
    "for i  in cat_features:\n",
    "  count = len(df[i].unique())\n",
    "  print(\"The Cardinality of each column {} : {} \".format(i,count))\n",
    "\n",
    "#karena nilai unique value dalam kolom Date sangat besar, maka Cardinal data tinggi yang akan membuat beberapa permasalahan efisiensi"
   ]
  },
  {
   "cell_type": "markdown",
   "metadata": {},
   "source": [
    "##### Menangani Masalah Kardinalitas"
   ]
  },
  {
   "cell_type": "code",
   "execution_count": 192,
   "metadata": {},
   "outputs": [],
   "source": [
    "# Convert tanggal menjadi format Date, kemudian ambil 'Month' karena tanggal dan tahun tidak bisa digunakan untuk prediksi karena nilai selalu berubah.\n",
    "df[\"Date\"] = pd.to_datetime(df[\"Date\"])      \n",
    "df[\"Month\"] = df[\"Date\"].dt.month        "
   ]
  },
  {
   "cell_type": "code",
   "execution_count": 193,
   "metadata": {},
   "outputs": [
    {
     "data": {
      "text/html": [
       "<div>\n",
       "<style scoped>\n",
       "    .dataframe tbody tr th:only-of-type {\n",
       "        vertical-align: middle;\n",
       "    }\n",
       "\n",
       "    .dataframe tbody tr th {\n",
       "        vertical-align: top;\n",
       "    }\n",
       "\n",
       "    .dataframe thead th {\n",
       "        text-align: right;\n",
       "    }\n",
       "</style>\n",
       "<table border=\"1\" class=\"dataframe\">\n",
       "  <thead>\n",
       "    <tr style=\"text-align: right;\">\n",
       "      <th></th>\n",
       "      <th>Date</th>\n",
       "      <th>Location</th>\n",
       "      <th>MinTemp</th>\n",
       "      <th>MaxTemp</th>\n",
       "      <th>Rainfall</th>\n",
       "      <th>WindGustDir</th>\n",
       "      <th>WindGustSpeed</th>\n",
       "      <th>WindDir9am</th>\n",
       "      <th>WindDir3pm</th>\n",
       "      <th>WindSpeed9am</th>\n",
       "      <th>WindSpeed3pm</th>\n",
       "      <th>Humidity9am</th>\n",
       "      <th>Humidity3pm</th>\n",
       "      <th>Pressure9am</th>\n",
       "      <th>Pressure3pm</th>\n",
       "      <th>Temp9am</th>\n",
       "      <th>Temp3pm</th>\n",
       "      <th>RainToday</th>\n",
       "      <th>RainTomorrow</th>\n",
       "      <th>Month</th>\n",
       "    </tr>\n",
       "  </thead>\n",
       "  <tbody>\n",
       "    <tr>\n",
       "      <th>0</th>\n",
       "      <td>2008-12-01</td>\n",
       "      <td>Albury</td>\n",
       "      <td>13.4</td>\n",
       "      <td>22.9</td>\n",
       "      <td>0.6</td>\n",
       "      <td>W</td>\n",
       "      <td>44.0</td>\n",
       "      <td>W</td>\n",
       "      <td>WNW</td>\n",
       "      <td>20.0</td>\n",
       "      <td>24.0</td>\n",
       "      <td>71.0</td>\n",
       "      <td>22.0</td>\n",
       "      <td>1007.7</td>\n",
       "      <td>1007.1</td>\n",
       "      <td>16.9</td>\n",
       "      <td>21.8</td>\n",
       "      <td>No</td>\n",
       "      <td>No</td>\n",
       "      <td>12</td>\n",
       "    </tr>\n",
       "    <tr>\n",
       "      <th>1</th>\n",
       "      <td>2008-12-02</td>\n",
       "      <td>Albury</td>\n",
       "      <td>7.4</td>\n",
       "      <td>25.1</td>\n",
       "      <td>0.0</td>\n",
       "      <td>WNW</td>\n",
       "      <td>44.0</td>\n",
       "      <td>NNW</td>\n",
       "      <td>WSW</td>\n",
       "      <td>4.0</td>\n",
       "      <td>22.0</td>\n",
       "      <td>44.0</td>\n",
       "      <td>25.0</td>\n",
       "      <td>1010.6</td>\n",
       "      <td>1007.8</td>\n",
       "      <td>17.2</td>\n",
       "      <td>24.3</td>\n",
       "      <td>No</td>\n",
       "      <td>No</td>\n",
       "      <td>12</td>\n",
       "    </tr>\n",
       "    <tr>\n",
       "      <th>2</th>\n",
       "      <td>2008-12-03</td>\n",
       "      <td>Albury</td>\n",
       "      <td>12.9</td>\n",
       "      <td>25.7</td>\n",
       "      <td>0.0</td>\n",
       "      <td>WSW</td>\n",
       "      <td>46.0</td>\n",
       "      <td>W</td>\n",
       "      <td>WSW</td>\n",
       "      <td>19.0</td>\n",
       "      <td>26.0</td>\n",
       "      <td>38.0</td>\n",
       "      <td>30.0</td>\n",
       "      <td>1007.6</td>\n",
       "      <td>1008.7</td>\n",
       "      <td>21.0</td>\n",
       "      <td>23.2</td>\n",
       "      <td>No</td>\n",
       "      <td>No</td>\n",
       "      <td>12</td>\n",
       "    </tr>\n",
       "    <tr>\n",
       "      <th>3</th>\n",
       "      <td>2008-12-04</td>\n",
       "      <td>Albury</td>\n",
       "      <td>9.2</td>\n",
       "      <td>28.0</td>\n",
       "      <td>0.0</td>\n",
       "      <td>NE</td>\n",
       "      <td>24.0</td>\n",
       "      <td>SE</td>\n",
       "      <td>E</td>\n",
       "      <td>11.0</td>\n",
       "      <td>9.0</td>\n",
       "      <td>45.0</td>\n",
       "      <td>16.0</td>\n",
       "      <td>1017.6</td>\n",
       "      <td>1012.8</td>\n",
       "      <td>18.1</td>\n",
       "      <td>26.5</td>\n",
       "      <td>No</td>\n",
       "      <td>No</td>\n",
       "      <td>12</td>\n",
       "    </tr>\n",
       "    <tr>\n",
       "      <th>4</th>\n",
       "      <td>2008-12-05</td>\n",
       "      <td>Albury</td>\n",
       "      <td>17.5</td>\n",
       "      <td>32.3</td>\n",
       "      <td>1.0</td>\n",
       "      <td>W</td>\n",
       "      <td>41.0</td>\n",
       "      <td>ENE</td>\n",
       "      <td>NW</td>\n",
       "      <td>7.0</td>\n",
       "      <td>20.0</td>\n",
       "      <td>82.0</td>\n",
       "      <td>33.0</td>\n",
       "      <td>1010.8</td>\n",
       "      <td>1006.0</td>\n",
       "      <td>17.8</td>\n",
       "      <td>29.7</td>\n",
       "      <td>No</td>\n",
       "      <td>No</td>\n",
       "      <td>12</td>\n",
       "    </tr>\n",
       "  </tbody>\n",
       "</table>\n",
       "</div>"
      ],
      "text/plain": [
       "        Date Location  MinTemp  MaxTemp  Rainfall WindGustDir  WindGustSpeed  \\\n",
       "0 2008-12-01   Albury     13.4     22.9       0.6           W           44.0   \n",
       "1 2008-12-02   Albury      7.4     25.1       0.0         WNW           44.0   \n",
       "2 2008-12-03   Albury     12.9     25.7       0.0         WSW           46.0   \n",
       "3 2008-12-04   Albury      9.2     28.0       0.0          NE           24.0   \n",
       "4 2008-12-05   Albury     17.5     32.3       1.0           W           41.0   \n",
       "\n",
       "  WindDir9am WindDir3pm  WindSpeed9am  WindSpeed3pm  Humidity9am  Humidity3pm  \\\n",
       "0          W        WNW          20.0          24.0         71.0         22.0   \n",
       "1        NNW        WSW           4.0          22.0         44.0         25.0   \n",
       "2          W        WSW          19.0          26.0         38.0         30.0   \n",
       "3         SE          E          11.0           9.0         45.0         16.0   \n",
       "4        ENE         NW           7.0          20.0         82.0         33.0   \n",
       "\n",
       "   Pressure9am  Pressure3pm  Temp9am  Temp3pm RainToday RainTomorrow  Month  \n",
       "0       1007.7       1007.1     16.9     21.8        No           No     12  \n",
       "1       1010.6       1007.8     17.2     24.3        No           No     12  \n",
       "2       1007.6       1008.7     21.0     23.2        No           No     12  \n",
       "3       1017.6       1012.8     18.1     26.5        No           No     12  \n",
       "4       1010.8       1006.0     17.8     29.7        No           No     12  "
      ]
     },
     "execution_count": 193,
     "metadata": {},
     "output_type": "execute_result"
    }
   ],
   "source": [
    "df.head()  # kolomnya di paling akhir"
   ]
  },
  {
   "cell_type": "code",
   "execution_count": 194,
   "metadata": {},
   "outputs": [
    {
     "data": {
      "text/html": [
       "<div>\n",
       "<style scoped>\n",
       "    .dataframe tbody tr th:only-of-type {\n",
       "        vertical-align: middle;\n",
       "    }\n",
       "\n",
       "    .dataframe tbody tr th {\n",
       "        vertical-align: top;\n",
       "    }\n",
       "\n",
       "    .dataframe thead th {\n",
       "        text-align: right;\n",
       "    }\n",
       "</style>\n",
       "<table border=\"1\" class=\"dataframe\">\n",
       "  <thead>\n",
       "    <tr style=\"text-align: right;\">\n",
       "      <th></th>\n",
       "      <th>Location</th>\n",
       "      <th>MinTemp</th>\n",
       "      <th>MaxTemp</th>\n",
       "      <th>Rainfall</th>\n",
       "      <th>WindGustDir</th>\n",
       "      <th>WindGustSpeed</th>\n",
       "      <th>WindDir9am</th>\n",
       "      <th>WindDir3pm</th>\n",
       "      <th>WindSpeed9am</th>\n",
       "      <th>WindSpeed3pm</th>\n",
       "      <th>Humidity9am</th>\n",
       "      <th>Humidity3pm</th>\n",
       "      <th>Pressure9am</th>\n",
       "      <th>Pressure3pm</th>\n",
       "      <th>Temp9am</th>\n",
       "      <th>Temp3pm</th>\n",
       "      <th>RainToday</th>\n",
       "      <th>RainTomorrow</th>\n",
       "      <th>Month</th>\n",
       "    </tr>\n",
       "  </thead>\n",
       "  <tbody>\n",
       "    <tr>\n",
       "      <th>0</th>\n",
       "      <td>Albury</td>\n",
       "      <td>13.4</td>\n",
       "      <td>22.9</td>\n",
       "      <td>0.6</td>\n",
       "      <td>W</td>\n",
       "      <td>44.0</td>\n",
       "      <td>W</td>\n",
       "      <td>WNW</td>\n",
       "      <td>20.0</td>\n",
       "      <td>24.0</td>\n",
       "      <td>71.0</td>\n",
       "      <td>22.0</td>\n",
       "      <td>1007.7</td>\n",
       "      <td>1007.1</td>\n",
       "      <td>16.9</td>\n",
       "      <td>21.8</td>\n",
       "      <td>No</td>\n",
       "      <td>No</td>\n",
       "      <td>12</td>\n",
       "    </tr>\n",
       "    <tr>\n",
       "      <th>1</th>\n",
       "      <td>Albury</td>\n",
       "      <td>7.4</td>\n",
       "      <td>25.1</td>\n",
       "      <td>0.0</td>\n",
       "      <td>WNW</td>\n",
       "      <td>44.0</td>\n",
       "      <td>NNW</td>\n",
       "      <td>WSW</td>\n",
       "      <td>4.0</td>\n",
       "      <td>22.0</td>\n",
       "      <td>44.0</td>\n",
       "      <td>25.0</td>\n",
       "      <td>1010.6</td>\n",
       "      <td>1007.8</td>\n",
       "      <td>17.2</td>\n",
       "      <td>24.3</td>\n",
       "      <td>No</td>\n",
       "      <td>No</td>\n",
       "      <td>12</td>\n",
       "    </tr>\n",
       "    <tr>\n",
       "      <th>2</th>\n",
       "      <td>Albury</td>\n",
       "      <td>12.9</td>\n",
       "      <td>25.7</td>\n",
       "      <td>0.0</td>\n",
       "      <td>WSW</td>\n",
       "      <td>46.0</td>\n",
       "      <td>W</td>\n",
       "      <td>WSW</td>\n",
       "      <td>19.0</td>\n",
       "      <td>26.0</td>\n",
       "      <td>38.0</td>\n",
       "      <td>30.0</td>\n",
       "      <td>1007.6</td>\n",
       "      <td>1008.7</td>\n",
       "      <td>21.0</td>\n",
       "      <td>23.2</td>\n",
       "      <td>No</td>\n",
       "      <td>No</td>\n",
       "      <td>12</td>\n",
       "    </tr>\n",
       "    <tr>\n",
       "      <th>3</th>\n",
       "      <td>Albury</td>\n",
       "      <td>9.2</td>\n",
       "      <td>28.0</td>\n",
       "      <td>0.0</td>\n",
       "      <td>NE</td>\n",
       "      <td>24.0</td>\n",
       "      <td>SE</td>\n",
       "      <td>E</td>\n",
       "      <td>11.0</td>\n",
       "      <td>9.0</td>\n",
       "      <td>45.0</td>\n",
       "      <td>16.0</td>\n",
       "      <td>1017.6</td>\n",
       "      <td>1012.8</td>\n",
       "      <td>18.1</td>\n",
       "      <td>26.5</td>\n",
       "      <td>No</td>\n",
       "      <td>No</td>\n",
       "      <td>12</td>\n",
       "    </tr>\n",
       "    <tr>\n",
       "      <th>4</th>\n",
       "      <td>Albury</td>\n",
       "      <td>17.5</td>\n",
       "      <td>32.3</td>\n",
       "      <td>1.0</td>\n",
       "      <td>W</td>\n",
       "      <td>41.0</td>\n",
       "      <td>ENE</td>\n",
       "      <td>NW</td>\n",
       "      <td>7.0</td>\n",
       "      <td>20.0</td>\n",
       "      <td>82.0</td>\n",
       "      <td>33.0</td>\n",
       "      <td>1010.8</td>\n",
       "      <td>1006.0</td>\n",
       "      <td>17.8</td>\n",
       "      <td>29.7</td>\n",
       "      <td>No</td>\n",
       "      <td>No</td>\n",
       "      <td>12</td>\n",
       "    </tr>\n",
       "  </tbody>\n",
       "</table>\n",
       "</div>"
      ],
      "text/plain": [
       "  Location  MinTemp  MaxTemp  Rainfall WindGustDir  WindGustSpeed WindDir9am  \\\n",
       "0   Albury     13.4     22.9       0.6           W           44.0          W   \n",
       "1   Albury      7.4     25.1       0.0         WNW           44.0        NNW   \n",
       "2   Albury     12.9     25.7       0.0         WSW           46.0          W   \n",
       "3   Albury      9.2     28.0       0.0          NE           24.0         SE   \n",
       "4   Albury     17.5     32.3       1.0           W           41.0        ENE   \n",
       "\n",
       "  WindDir3pm  WindSpeed9am  WindSpeed3pm  Humidity9am  Humidity3pm  \\\n",
       "0        WNW          20.0          24.0         71.0         22.0   \n",
       "1        WSW           4.0          22.0         44.0         25.0   \n",
       "2        WSW          19.0          26.0         38.0         30.0   \n",
       "3          E          11.0           9.0         45.0         16.0   \n",
       "4         NW           7.0          20.0         82.0         33.0   \n",
       "\n",
       "   Pressure9am  Pressure3pm  Temp9am  Temp3pm RainToday RainTomorrow  Month  \n",
       "0       1007.7       1007.1     16.9     21.8        No           No     12  \n",
       "1       1010.6       1007.8     17.2     24.3        No           No     12  \n",
       "2       1007.6       1008.7     21.0     23.2        No           No     12  \n",
       "3       1017.6       1012.8     18.1     26.5        No           No     12  \n",
       "4       1010.8       1006.0     17.8     29.7        No           No     12  "
      ]
     },
     "execution_count": 194,
     "metadata": {},
     "output_type": "execute_result"
    }
   ],
   "source": [
    "# Hapus kolom 'Date' karena sudah tidak berguna\n",
    "\n",
    "df.drop(\"Date\", axis = 1, inplace = True)\n",
    "df.head()"
   ]
  },
  {
   "cell_type": "markdown",
   "metadata": {},
   "source": [
    "##### Menangani Missing Value (Categorical Variables)"
   ]
  },
  {
   "cell_type": "code",
   "execution_count": 195,
   "metadata": {},
   "outputs": [],
   "source": [
    "categorical_features = [column_name for column_name in df.columns if df[column_name].dtype ==\"O\"]"
   ]
  },
  {
   "cell_type": "code",
   "execution_count": 196,
   "metadata": {},
   "outputs": [
    {
     "data": {
      "text/plain": [
       "['Location',\n",
       " 'WindGustDir',\n",
       " 'WindDir9am',\n",
       " 'WindDir3pm',\n",
       " 'RainToday',\n",
       " 'RainTomorrow']"
      ]
     },
     "execution_count": 196,
     "metadata": {},
     "output_type": "execute_result"
    }
   ],
   "source": [
    "categorical_features  # 'Date' sudah tidak masuk ke categorical feature lagi."
   ]
  },
  {
   "cell_type": "code",
   "execution_count": 197,
   "metadata": {},
   "outputs": [
    {
     "name": "stdout",
     "output_type": "stream",
     "text": [
      "Location            0\n",
      "WindGustDir     10326\n",
      "WindDir9am      10566\n",
      "WindDir3pm       4228\n",
      "RainToday        3261\n",
      "RainTomorrow     3267\n",
      "dtype: int64\n"
     ]
    }
   ],
   "source": [
    "missing_cat = df[categorical_features].isnull().sum() # Total missing values \n",
    "print(missing_cat)"
   ]
  },
  {
   "cell_type": "code",
   "execution_count": 198,
   "metadata": {},
   "outputs": [
    {
     "data": {
      "text/plain": [
       "<BarContainer object of 6 artists>"
      ]
     },
     "execution_count": 198,
     "metadata": {},
     "output_type": "execute_result"
    },
    {
     "data": {
      "image/png": "[encoded data removed]",
      "text/plain": [
       "<Figure size 576x288 with 1 Axes>"
      ]
     },
     "metadata": {},
     "output_type": "display_data"
    }
   ],
   "source": [
    "plt.figure(figsize= (8,4))\n",
    "plt.bar(missing_cat.index,missing_cat.values ) # dari visualisasi, winDir3pm punya banyak missing value "
   ]
  },
  {
   "cell_type": "code",
   "execution_count": 199,
   "metadata": {},
   "outputs": [],
   "source": [
    "#  Ganti missing value untuk categorical features dengan mode dari setiap kolom.\n",
    "cat_features_with_null = [features for features in categorical_features if df[features].isnull().sum()] \n",
    "for each_feature in cat_features_with_null:\n",
    "  df[each_feature] = df[each_feature].fillna(df[each_feature].mode()[0])    \n"
   ]
  },
  {
   "cell_type": "code",
   "execution_count": 200,
   "metadata": {},
   "outputs": [
    {
     "data": {
      "text/plain": [
       "Location        0\n",
       "WindGustDir     0\n",
       "WindDir9am      0\n",
       "WindDir3pm      0\n",
       "RainToday       0\n",
       "RainTomorrow    0\n",
       "dtype: int64"
      ]
     },
     "execution_count": 200,
     "metadata": {},
     "output_type": "execute_result"
    }
   ],
   "source": [
    "df[categorical_features].isnull().sum()  # tidak ada missing value lagi"
   ]
  },
  {
   "cell_type": "markdown",
   "metadata": {},
   "source": [
    "#### Menangani Missing Value (Numerical)"
   ]
  },
  {
   "cell_type": "code",
   "execution_count": 201,
   "metadata": {},
   "outputs": [],
   "source": [
    "# List kolom yang memiliki numerical value\n",
    "num_col = [num_col for num_col in df.columns if df[num_col].dtype !=\"O\"] "
   ]
  },
  {
   "cell_type": "code",
   "execution_count": 202,
   "metadata": {},
   "outputs": [
    {
     "data": {
      "text/plain": [
       "([0, 1, 2, 3, 4, 5, 6, 7, 8, 9, 10, 11, 12],\n",
       " [Text(0, 0, ''),\n",
       "  Text(0, 0, ''),\n",
       "  Text(0, 0, ''),\n",
       "  Text(0, 0, ''),\n",
       "  Text(0, 0, ''),\n",
       "  Text(0, 0, ''),\n",
       "  Text(0, 0, ''),\n",
       "  Text(0, 0, ''),\n",
       "  Text(0, 0, ''),\n",
       "  Text(0, 0, ''),\n",
       "  Text(0, 0, ''),\n",
       "  Text(0, 0, ''),\n",
       "  Text(0, 0, '')])"
      ]
     },
     "execution_count": 202,
     "metadata": {},
     "output_type": "execute_result"
    },
    {
     "data": {
      "image/png": "[encoded data removed]",
      "text/plain": [
       "<Figure size 1008x432 with 1 Axes>"
      ]
     },
     "metadata": {},
     "output_type": "display_data"
    }
   ],
   "source": [
    "plt.style.use('seaborn')\n",
    "missing_num = df[num_col].isnull().sum()    # hitung missing values di setiap list, yang disimpan di num_feature \n",
    "plt.figure(figsize=(14,6))\n",
    "plt.bar(missing_num.index,missing_num.values)    # ploting missing values \n",
    "plt.xticks(rotation=70)"
   ]
  },
  {
   "cell_type": "code",
   "execution_count": 203,
   "metadata": {},
   "outputs": [
    {
     "data": {
      "text/plain": [
       "MinTemp           1485\n",
       "MaxTemp           1261\n",
       "Rainfall          3261\n",
       "WindGustSpeed    10263\n",
       "WindSpeed9am      1767\n",
       "WindSpeed3pm      3062\n",
       "Humidity9am       2654\n",
       "Humidity3pm       4507\n",
       "Pressure9am      15065\n",
       "Pressure3pm      15028\n",
       "Temp9am           1767\n",
       "Temp3pm           3609\n",
       "dtype: int64"
      ]
     },
     "execution_count": 203,
     "metadata": {},
     "output_type": "execute_result"
    }
   ],
   "source": [
    "num_col_with_null_values = [col for col in num_col if df[col].isnull().sum()]\n",
    "missing_values = df[num_col_with_null_values].isnull().sum()\n",
    "missing_values"
   ]
  },
  {
   "cell_type": "code",
   "execution_count": 204,
   "metadata": {},
   "outputs": [
    {
     "data": {
      "text/plain": [
       "<AxesSubplot:>"
      ]
     },
     "execution_count": 204,
     "metadata": {},
     "output_type": "execute_result"
    },
    {
     "data": {
      "image/png": "[encoded data removed]",
      "text/plain": [
       "<Figure size 864x720 with 1 Axes>"
      ]
     },
     "metadata": {},
     "output_type": "display_data"
    }
   ],
   "source": [
    "# Kita tidak bisa langsung mengganti missing value dengan mean karena ada kemungkinan outliers di data\n",
    "# cek terlebih dahulu dengan box plot.\n",
    "plt.figure(figsize=(12,10))\n",
    "df.boxplot(num_col_with_null_values,rot = 90)"
   ]
  },
  {
   "cell_type": "markdown",
   "metadata": {},
   "source": [
    "ada banyak outliers terutama di fitur Rainfall, dan fitur yang lainnya,  \n",
    "\n",
    "#### Menangani Outliers untuk Numerical Atribut"
   ]
  },
  {
   "cell_type": "code",
   "execution_count": 205,
   "metadata": {},
   "outputs": [],
   "source": [
    "# Menghapus outlier dengan membatasi menggunakan nilai (q1 dan q3).\n",
    "\n",
    "features_with_outliers = num_col_with_null_values\n",
    "for feature in features_with_outliers:\n",
    "  q1 = df[feature].quantile(0.25)\n",
    "  q3 = df[feature].quantile(0.75)\n",
    "  IQR = q3-q1\n",
    "  lower_limit = q1 - (IQR*1.5)\n",
    "  upper_limit = q3 + (IQR*1.5)\n",
    "  df.loc[df[feature]<lower_limit, feature] = lower_limit\n",
    "  df.loc[df[feature]>upper_limit, feature] = upper_limit"
   ]
  },
  {
   "cell_type": "code",
   "execution_count": 206,
   "metadata": {},
   "outputs": [
    {
     "data": {
      "text/plain": [
       "<AxesSubplot:>"
      ]
     },
     "execution_count": 206,
     "metadata": {},
     "output_type": "execute_result"
    },
    {
     "data": {
      "image/png": "[encoded data removed]",
      "text/plain": [
       "<Figure size 864x360 with 1 Axes>"
      ]
     },
     "metadata": {},
     "output_type": "display_data"
    }
   ],
   "source": [
    "plt.figure(figsize=(12,5))\n",
    "df.boxplot(num_col_with_null_values,rot = 90)    # kita bisa lihat tidak ada outlier lagi"
   ]
  },
  {
   "cell_type": "code",
   "execution_count": 207,
   "metadata": {},
   "outputs": [],
   "source": [
    "# Setelah mengahapus outlier, ganti missing value dengan mean dari kolom tersebut\n",
    "for features in num_col_with_null_values:\n",
    "  df[features] = df[features].fillna(df[features].mean())   "
   ]
  },
  {
   "cell_type": "code",
   "execution_count": 208,
   "metadata": {},
   "outputs": [
    {
     "data": {
      "text/plain": [
       "MinTemp          0\n",
       "MaxTemp          0\n",
       "Rainfall         0\n",
       "WindGustSpeed    0\n",
       "WindSpeed9am     0\n",
       "WindSpeed3pm     0\n",
       "Humidity9am      0\n",
       "Humidity3pm      0\n",
       "Pressure9am      0\n",
       "Pressure3pm      0\n",
       "Temp9am          0\n",
       "Temp3pm          0\n",
       "dtype: int64"
      ]
     },
     "execution_count": 208,
     "metadata": {},
     "output_type": "execute_result"
    }
   ],
   "source": [
    "# Tidak ada missing value/null value \n",
    "df[num_col_with_null_values].isnull().sum()  "
   ]
  },
  {
   "cell_type": "markdown",
   "metadata": {},
   "source": [
    "### Explorasi Data"
   ]
  },
  {
   "cell_type": "markdown",
   "metadata": {},
   "source": [
    "#### Summary Info and Stats"
   ]
  },
  {
   "cell_type": "code",
   "execution_count": 209,
   "metadata": {},
   "outputs": [
    {
     "data": {
      "text/html": [
       "<div>\n",
       "<style scoped>\n",
       "    .dataframe tbody tr th:only-of-type {\n",
       "        vertical-align: middle;\n",
       "    }\n",
       "\n",
       "    .dataframe tbody tr th {\n",
       "        vertical-align: top;\n",
       "    }\n",
       "\n",
       "    .dataframe thead th {\n",
       "        text-align: right;\n",
       "    }\n",
       "</style>\n",
       "<table border=\"1\" class=\"dataframe\">\n",
       "  <thead>\n",
       "    <tr style=\"text-align: right;\">\n",
       "      <th></th>\n",
       "      <th>MinTemp</th>\n",
       "      <th>MaxTemp</th>\n",
       "      <th>Rainfall</th>\n",
       "      <th>WindGustSpeed</th>\n",
       "      <th>WindSpeed9am</th>\n",
       "      <th>WindSpeed3pm</th>\n",
       "      <th>Humidity9am</th>\n",
       "      <th>Humidity3pm</th>\n",
       "      <th>Pressure9am</th>\n",
       "      <th>Pressure3pm</th>\n",
       "      <th>Temp9am</th>\n",
       "      <th>Temp3pm</th>\n",
       "      <th>Month</th>\n",
       "    </tr>\n",
       "  </thead>\n",
       "  <tbody>\n",
       "    <tr>\n",
       "      <th>count</th>\n",
       "      <td>145460.000000</td>\n",
       "      <td>145460.000000</td>\n",
       "      <td>145460.000000</td>\n",
       "      <td>145460.000000</td>\n",
       "      <td>145460.000000</td>\n",
       "      <td>145460.000000</td>\n",
       "      <td>145460.000000</td>\n",
       "      <td>145460.000000</td>\n",
       "      <td>145460.000000</td>\n",
       "      <td>145460.000000</td>\n",
       "      <td>145460.000000</td>\n",
       "      <td>145460.000000</td>\n",
       "      <td>145460.000000</td>\n",
       "    </tr>\n",
       "    <tr>\n",
       "      <th>mean</th>\n",
       "      <td>12.194186</td>\n",
       "      <td>23.224781</td>\n",
       "      <td>0.487224</td>\n",
       "      <td>39.837792</td>\n",
       "      <td>13.951313</td>\n",
       "      <td>18.574162</td>\n",
       "      <td>68.933567</td>\n",
       "      <td>51.539116</td>\n",
       "      <td>1017.670297</td>\n",
       "      <td>1015.269781</td>\n",
       "      <td>16.991728</td>\n",
       "      <td>21.686191</td>\n",
       "      <td>6.399615</td>\n",
       "    </tr>\n",
       "    <tr>\n",
       "      <th>std</th>\n",
       "      <td>6.365000</td>\n",
       "      <td>7.069787</td>\n",
       "      <td>0.783872</td>\n",
       "      <td>12.515516</td>\n",
       "      <td>8.555341</td>\n",
       "      <td>8.442182</td>\n",
       "      <td>18.703607</td>\n",
       "      <td>20.471189</td>\n",
       "      <td>6.651697</td>\n",
       "      <td>6.606721</td>\n",
       "      <td>6.441838</td>\n",
       "      <td>6.822800</td>\n",
       "      <td>3.427262</td>\n",
       "    </tr>\n",
       "    <tr>\n",
       "      <th>min</th>\n",
       "      <td>-6.350000</td>\n",
       "      <td>2.450000</td>\n",
       "      <td>0.000000</td>\n",
       "      <td>6.000000</td>\n",
       "      <td>0.000000</td>\n",
       "      <td>0.000000</td>\n",
       "      <td>18.000000</td>\n",
       "      <td>0.000000</td>\n",
       "      <td>998.650000</td>\n",
       "      <td>996.000000</td>\n",
       "      <td>-1.650000</td>\n",
       "      <td>1.900000</td>\n",
       "      <td>1.000000</td>\n",
       "    </tr>\n",
       "    <tr>\n",
       "      <th>25%</th>\n",
       "      <td>7.700000</td>\n",
       "      <td>18.000000</td>\n",
       "      <td>0.000000</td>\n",
       "      <td>31.000000</td>\n",
       "      <td>7.000000</td>\n",
       "      <td>13.000000</td>\n",
       "      <td>57.000000</td>\n",
       "      <td>37.000000</td>\n",
       "      <td>1013.500000</td>\n",
       "      <td>1011.100000</td>\n",
       "      <td>12.300000</td>\n",
       "      <td>16.700000</td>\n",
       "      <td>3.000000</td>\n",
       "    </tr>\n",
       "    <tr>\n",
       "      <th>50%</th>\n",
       "      <td>12.100000</td>\n",
       "      <td>22.700000</td>\n",
       "      <td>0.000000</td>\n",
       "      <td>39.000000</td>\n",
       "      <td>13.000000</td>\n",
       "      <td>18.574162</td>\n",
       "      <td>69.000000</td>\n",
       "      <td>51.539116</td>\n",
       "      <td>1017.670297</td>\n",
       "      <td>1015.269781</td>\n",
       "      <td>16.800000</td>\n",
       "      <td>21.400000</td>\n",
       "      <td>6.000000</td>\n",
       "    </tr>\n",
       "    <tr>\n",
       "      <th>75%</th>\n",
       "      <td>16.800000</td>\n",
       "      <td>28.200000</td>\n",
       "      <td>0.600000</td>\n",
       "      <td>46.000000</td>\n",
       "      <td>19.000000</td>\n",
       "      <td>24.000000</td>\n",
       "      <td>83.000000</td>\n",
       "      <td>65.000000</td>\n",
       "      <td>1021.800000</td>\n",
       "      <td>1019.400000</td>\n",
       "      <td>21.500000</td>\n",
       "      <td>26.200000</td>\n",
       "      <td>9.000000</td>\n",
       "    </tr>\n",
       "    <tr>\n",
       "      <th>max</th>\n",
       "      <td>30.850000</td>\n",
       "      <td>43.650000</td>\n",
       "      <td>2.000000</td>\n",
       "      <td>73.500000</td>\n",
       "      <td>37.000000</td>\n",
       "      <td>40.500000</td>\n",
       "      <td>100.000000</td>\n",
       "      <td>100.000000</td>\n",
       "      <td>1036.650000</td>\n",
       "      <td>1034.400000</td>\n",
       "      <td>35.550000</td>\n",
       "      <td>41.100000</td>\n",
       "      <td>12.000000</td>\n",
       "    </tr>\n",
       "  </tbody>\n",
       "</table>\n",
       "</div>"
      ],
      "text/plain": [
       "             MinTemp        MaxTemp       Rainfall  WindGustSpeed  \\\n",
       "count  145460.000000  145460.000000  145460.000000  145460.000000   \n",
       "mean       12.194186      23.224781       0.487224      39.837792   \n",
       "std         6.365000       7.069787       0.783872      12.515516   \n",
       "min        -6.350000       2.450000       0.000000       6.000000   \n",
       "25%         7.700000      18.000000       0.000000      31.000000   \n",
       "50%        12.100000      22.700000       0.000000      39.000000   \n",
       "75%        16.800000      28.200000       0.600000      46.000000   \n",
       "max        30.850000      43.650000       2.000000      73.500000   \n",
       "\n",
       "        WindSpeed9am   WindSpeed3pm    Humidity9am    Humidity3pm  \\\n",
       "count  145460.000000  145460.000000  145460.000000  145460.000000   \n",
       "mean       13.951313      18.574162      68.933567      51.539116   \n",
       "std         8.555341       8.442182      18.703607      20.471189   \n",
       "min         0.000000       0.000000      18.000000       0.000000   \n",
       "25%         7.000000      13.000000      57.000000      37.000000   \n",
       "50%        13.000000      18.574162      69.000000      51.539116   \n",
       "75%        19.000000      24.000000      83.000000      65.000000   \n",
       "max        37.000000      40.500000     100.000000     100.000000   \n",
       "\n",
       "         Pressure9am    Pressure3pm        Temp9am        Temp3pm  \\\n",
       "count  145460.000000  145460.000000  145460.000000  145460.000000   \n",
       "mean     1017.670297    1015.269781      16.991728      21.686191   \n",
       "std         6.651697       6.606721       6.441838       6.822800   \n",
       "min       998.650000     996.000000      -1.650000       1.900000   \n",
       "25%      1013.500000    1011.100000      12.300000      16.700000   \n",
       "50%      1017.670297    1015.269781      16.800000      21.400000   \n",
       "75%      1021.800000    1019.400000      21.500000      26.200000   \n",
       "max      1036.650000    1034.400000      35.550000      41.100000   \n",
       "\n",
       "               Month  \n",
       "count  145460.000000  \n",
       "mean        6.399615  \n",
       "std         3.427262  \n",
       "min         1.000000  \n",
       "25%         3.000000  \n",
       "50%         6.000000  \n",
       "75%         9.000000  \n",
       "max        12.000000  "
      ]
     },
     "execution_count": 209,
     "metadata": {},
     "output_type": "execute_result"
    }
   ],
   "source": [
    "df.describe()"
   ]
  },
  {
   "cell_type": "code",
   "execution_count": 210,
   "metadata": {},
   "outputs": [
    {
     "data": {
      "image/png": "[encoded data removed]",
      "text/plain": [
       "<Figure size 864x1080 with 15 Axes>"
      ]
     },
     "metadata": {},
     "output_type": "display_data"
    }
   ],
   "source": [
    "# Untuk melihat histogram dari kolom numerical. \n",
    "fig, axes = plt.subplots(nrows=5, ncols=3, figsize=(12, 15))\n",
    "axes = axes.reshape(-1)\n",
    "\n",
    "continuous = [col for col in df.columns if df[col].dtype != object ]\n",
    "\n",
    "for i, col in enumerate(continuous):\n",
    "    sns.histplot(df[col], ax=axes[i])\n",
    "    if (i == 20):\n",
    "      break;\n",
    "\n",
    "fig.tight_layout(pad=2.0)\n",
    "plt.title('Histograms of Columns');\n"
   ]
  },
  {
   "cell_type": "markdown",
   "metadata": {},
   "source": [
    "Analisis \n",
    "- Sebagian besar fitur terdistribusi secara normal seperti yang diharapkan.\n",
    "- Distribusi `Sunshine` menarik tetapi sebagian besar dapat dijelaskan:\n",
    "  - Frekuensi tinggi nilai 0 mewakili hari-hari di mana mendung sepanjang hari\n",
    "  - Penurunan frekuensi yang tiba-tiba setelah sekitar 11 jam merupakan cerminan dari terbatasnya jumlah hari dalam setahun di mana cahaya padam selama berjam-jam atau lebih lama\n",
    "- Distribusi `Humidity9am` sangat menarik karena lonjakan frekuensi yang besar\n",
    "- Konsentrasi titik tertinggi untuk `MinTemp` adalah antara 10 hingga 12 derajat Celcius\n",
    "- Konsentrasi titik tertinggi untuk `MaxTemp` adalah antara 18 hingga 22 derajat Celcius\n",
    "- Kecepatan `WindGustSpeed` berkisar dari 0 hingga hampir 140 km/jam. Konsentrasi tertinggi adalah antara 38-40 km/jam\n",
    "- Kecepatan angin maksimum pada pukul 09.00 (`WindSpeed9am`) berkisar antara 10 hingga 20 km/jam sedangkan pada pukul 15.00 berkisar antara 15 hingga 22 km/jam\n",
    "- Konsentrasi titik tertinggi untuk kelembapan pada pukul 09.00 (`Humidity9am`) adalah antara 60-80% sedangkan pada pukul 15.00 adalah 40-70%\n",
    "- Konsentrasi titik tertinggi untuk tekanan pada pukul 09:00 (`Pressure9am`) adalah antara 1015-1018 hpa dan pada pukul 15:00 antara 1015-1017 hpa\n",
    "- Suhu maksimum pada jam 9 pagi (`Temp9am`) adalah antara 16-18 derajat Celcius dan pada jam 3 sore antara 21-23 derajat Celcius"
   ]
  },
  {
   "cell_type": "markdown",
   "metadata": {},
   "source": [
    "#### Distribusi Lokasi"
   ]
  },
  {
   "cell_type": "code",
   "execution_count": 211,
   "metadata": {},
   "outputs": [
    {
     "name": "stderr",
     "output_type": "stream",
     "text": [
      "c:\\ProgramData\\Anaconda3\\lib\\site-packages\\seaborn\\_decorators.py:36: FutureWarning: Pass the following variable as a keyword arg: x. From version 0.12, the only valid positional argument will be `data`, and passing other arguments without an explicit keyword will result in an error or misinterpretation.\n",
      "  warnings.warn(\n"
     ]
    },
    {
     "data": {
      "text/plain": [
       "(array([ 0,  1,  2,  3,  4,  5,  6,  7,  8,  9, 10, 11, 12, 13, 14, 15, 16,\n",
       "        17, 18, 19, 20, 21, 22, 23, 24, 25, 26, 27, 28, 29, 30, 31, 32, 33,\n",
       "        34, 35, 36, 37, 38, 39, 40, 41, 42, 43, 44, 45, 46, 47, 48]),\n",
       " [Text(0, 0, 'Albury'),\n",
       "  Text(1, 0, 'BadgerysCreek'),\n",
       "  Text(2, 0, 'Cobar'),\n",
       "  Text(3, 0, 'CoffsHarbour'),\n",
       "  Text(4, 0, 'Moree'),\n",
       "  Text(5, 0, 'Newcastle'),\n",
       "  Text(6, 0, 'NorahHead'),\n",
       "  Text(7, 0, 'NorfolkIsland'),\n",
       "  Text(8, 0, 'Penrith'),\n",
       "  Text(9, 0, 'Richmond'),\n",
       "  Text(10, 0, 'Sydney'),\n",
       "  Text(11, 0, 'SydneyAirport'),\n",
       "  Text(12, 0, 'WaggaWagga'),\n",
       "  Text(13, 0, 'Williamtown'),\n",
       "  Text(14, 0, 'Wollongong'),\n",
       "  Text(15, 0, 'Canberra'),\n",
       "  Text(16, 0, 'Tuggeranong'),\n",
       "  Text(17, 0, 'MountGinini'),\n",
       "  Text(18, 0, 'Ballarat'),\n",
       "  Text(19, 0, 'Bendigo'),\n",
       "  Text(20, 0, 'Sale'),\n",
       "  Text(21, 0, 'MelbourneAirport'),\n",
       "  Text(22, 0, 'Melbourne'),\n",
       "  Text(23, 0, 'Mildura'),\n",
       "  Text(24, 0, 'Nhil'),\n",
       "  Text(25, 0, 'Portland'),\n",
       "  Text(26, 0, 'Watsonia'),\n",
       "  Text(27, 0, 'Dartmoor'),\n",
       "  Text(28, 0, 'Brisbane'),\n",
       "  Text(29, 0, 'Cairns'),\n",
       "  Text(30, 0, 'GoldCoast'),\n",
       "  Text(31, 0, 'Townsville'),\n",
       "  Text(32, 0, 'Adelaide'),\n",
       "  Text(33, 0, 'MountGambier'),\n",
       "  Text(34, 0, 'Nuriootpa'),\n",
       "  Text(35, 0, 'Woomera'),\n",
       "  Text(36, 0, 'Albany'),\n",
       "  Text(37, 0, 'Witchcliffe'),\n",
       "  Text(38, 0, 'PearceRAAF'),\n",
       "  Text(39, 0, 'PerthAirport'),\n",
       "  Text(40, 0, 'Perth'),\n",
       "  Text(41, 0, 'SalmonGums'),\n",
       "  Text(42, 0, 'Walpole'),\n",
       "  Text(43, 0, 'Hobart'),\n",
       "  Text(44, 0, 'Launceston'),\n",
       "  Text(45, 0, 'AliceSprings'),\n",
       "  Text(46, 0, 'Darwin'),\n",
       "  Text(47, 0, 'Katherine'),\n",
       "  Text(48, 0, 'Uluru')])"
      ]
     },
     "execution_count": 211,
     "metadata": {},
     "output_type": "execute_result"
    },
    {
     "data": {
      "image/png": "[encoded data removed]",
      "text/plain": [
       "<Figure size 1080x360 with 1 Axes>"
      ]
     },
     "metadata": {},
     "output_type": "display_data"
    }
   ],
   "source": [
    "plt.figure(figsize=(15, 5))\n",
    "sns.countplot(df['Location'])\n",
    "plt.xticks(rotation=90)"
   ]
  },
  {
   "cell_type": "markdown",
   "metadata": {},
   "source": [
    "Analisis\n",
    "\n",
    "<ul>\n",
    "     <li>Lokasi yang paling banyak datanya adalah Canberra diikuti oleh Sydney.</li>\n",
    "     <li>Sebagian besar lokasi memiliki frekuensi mendekati 3000.</li>\n",
    "     <li>Nhil, Katherine, dan Uluru jarang terjadi.</li>\n",
    "</ul>"
   ]
  },
  {
   "cell_type": "markdown",
   "metadata": {},
   "source": [
    "#### MinTemp dan MaxTemp setiap Lokasi"
   ]
  },
  {
   "cell_type": "code",
   "execution_count": 212,
   "metadata": {},
   "outputs": [
    {
     "data": {
      "text/plain": [
       "<matplotlib.legend.Legend at 0x1eca8618a60>"
      ]
     },
     "execution_count": 212,
     "metadata": {},
     "output_type": "execute_result"
    },
    {
     "data": {
      "image/png": "[encoded data removed]",
      "text/plain": [
       "<Figure size 1440x720 with 1 Axes>"
      ]
     },
     "metadata": {},
     "output_type": "display_data"
    }
   ],
   "source": [
    "a = df.groupby('Location').agg({'MinTemp':'mean'})\n",
    "c = df.groupby('Location').agg({'MaxTemp':'mean'})\n",
    "plt.rcParams[\"figure.figsize\"] = (20,10)\n",
    "\n",
    "n = df['Location'].nunique()\n",
    "x = np.arange(n)\n",
    "\n",
    "loc = df['Location'].unique()\n",
    "\n",
    "fig = plt.figure()\n",
    "ax = fig.add_axes([0, 0, 1, 1])\n",
    "\n",
    "w = 0.3\n",
    "\n",
    "ax.bar(x-w/2, a[:]['MinTemp'], label='Average MinTemp by Location', color='maroon', width=w)\n",
    "ax.bar(x+w/2, c[:]['MaxTemp'], label='Average MaxTemp by Location', color='salmon', width=w)\n",
    "\n",
    "ax.set_xticks(x)\n",
    "ax.set_xticklabels(loc, rotation=90)\n",
    "\n",
    "plt.xlabel('Locations', fontsize=20)\n",
    "plt.ylabel('Average values', fontsize=20)\n",
    "plt.title('Average MinTemp and MaxTemp based on Location', fontsize=25)\n",
    "plt.legend(fontsize=15)"
   ]
  },
  {
   "cell_type": "markdown",
   "metadata": {},
   "source": [
    "Analisis\n",
    "<ul>\n",
    "     <li>Suhu maksimum rata-rata di atas 20 derajat Celcius untuk sebagian besar lokasi.</li>\n",
    "     <li>Suhu minimum rata-rata adalah antara 5 dan 15 derajat Celcius untuk sebagian besar lokasi.</li>\n",
    "</ul>"
   ]
  },
  {
   "cell_type": "markdown",
   "metadata": {},
   "source": [
    "#### Distribusi Rainfall Setiap Bulan"
   ]
  },
  {
   "cell_type": "code",
   "execution_count": 213,
   "metadata": {},
   "outputs": [
    {
     "data": {
      "text/plain": [
       "(array([ 0,  1,  2,  3,  4,  5,  6,  7,  8,  9, 10, 11]),\n",
       " [Text(0, 0, '1'),\n",
       "  Text(1, 0, '2'),\n",
       "  Text(2, 0, '3'),\n",
       "  Text(3, 0, '4'),\n",
       "  Text(4, 0, '5'),\n",
       "  Text(5, 0, '6'),\n",
       "  Text(6, 0, '7'),\n",
       "  Text(7, 0, '8'),\n",
       "  Text(8, 0, '9'),\n",
       "  Text(9, 0, '10'),\n",
       "  Text(10, 0, '11'),\n",
       "  Text(11, 0, '12')])"
      ]
     },
     "execution_count": 213,
     "metadata": {},
     "output_type": "execute_result"
    },
    {
     "data": {
      "text/plain": [
       "<Figure size 576x288 with 0 Axes>"
      ]
     },
     "metadata": {},
     "output_type": "display_data"
    },
    {
     "data": {
      "image/png": "[encoded data removed]",
      "text/plain": [
       "<Figure size 1440x720 with 1 Axes>"
      ]
     },
     "metadata": {},
     "output_type": "display_data"
    }
   ],
   "source": [
    "\n",
    "plt.figure(figsize=(8,4))\n",
    "a = df.groupby('Month').agg({'Rainfall':'sum'})\n",
    "a.plot(kind='bar', color='pink')\n",
    "plt.title('Rainfall distribution in each month', fontsize=25)\n",
    "plt.xlabel('Month', fontsize=20)\n",
    "plt.ylabel('Rainfall (in mm)', fontsize=20)\n",
    "plt.xticks(rotation=0)"
   ]
  },
  {
   "cell_type": "markdown",
   "metadata": {},
   "source": [
    "Analisis\n",
    "<ul>\n",
    "     <li>Curah hujan maksimum (lebih dari 35.000 mm) terjadi pada bulan Maret.</li>\n",
    "     <li>Januari dan Juni juga mengalami curah hujan yang tinggi (hampir 35.000 mm) diikuti oleh Februari.</li>\n",
    "     <li>Curah hujan minimum terjadi pada bulan Oktober diikuti oleh September.</li>\n",
    "</ul>"
   ]
  },
  {
   "cell_type": "markdown",
   "metadata": {},
   "source": [
    "#### Central Tendency Pressure9am"
   ]
  },
  {
   "cell_type": "code",
   "execution_count": 214,
   "metadata": {},
   "outputs": [
    {
     "name": "stdout",
     "output_type": "stream",
     "text": [
      "---Menghitung Tendensi Sentral---\n",
      "Mean:  1017.6702967904671\n",
      "Mode:  1017.6702967905602\n",
      "Median:  1017.6702967905602\n"
     ]
    },
    {
     "data": {
      "image/png": "[encoded data removed]",
      "text/plain": [
       "<Figure size 360x360 with 1 Axes>"
      ]
     },
     "metadata": {},
     "output_type": "display_data"
    }
   ],
   "source": [
    "print(\"---Menghitung Tendensi Sentral---\")\n",
    "sns.displot(df.Pressure9am)\n",
    "print(\"Mean: \", df['Pressure9am'].mean())\n",
    "print(\"Mode: \", df['Pressure9am'].mode()[0])\n",
    "print(\"Median: \", df['Pressure9am'].median())\n"
   ]
  },
  {
   "cell_type": "markdown",
   "metadata": {},
   "source": [
    "Analisis\n",
    "- Dari median, mean, dan mode yang sudah sama hasilnya, artinya ini terdistribusi secara sangat normal. Tidak ada condong ke kanan dan kiri."
   ]
  },
  {
   "cell_type": "markdown",
   "metadata": {},
   "source": [
    "### Korelasi RainToday dan RainTomorrow"
   ]
  },
  {
   "cell_type": "code",
   "execution_count": 215,
   "metadata": {},
   "outputs": [
    {
     "data": {
      "text/plain": [
       "(array([     0.,  20000.,  40000.,  60000.,  80000., 100000., 120000.]),\n",
       " [Text(0, 0, ''),\n",
       "  Text(0, 0, ''),\n",
       "  Text(0, 0, ''),\n",
       "  Text(0, 0, ''),\n",
       "  Text(0, 0, ''),\n",
       "  Text(0, 0, ''),\n",
       "  Text(0, 0, '')])"
      ]
     },
     "execution_count": 215,
     "metadata": {},
     "output_type": "execute_result"
    },
    {
     "data": {
      "image/png": "[encoded data removed]",
      "text/plain": [
       "<Figure size 576x360 with 1 Axes>"
      ]
     },
     "metadata": {},
     "output_type": "display_data"
    }
   ],
   "source": [
    "type_plt = pd.crosstab(df['RainToday'], df['RainTomorrow'])\n",
    "\n",
    "plt.rcParams[\"figure.figsize\"] = (8,5)\n",
    "\n",
    "type_plt.plot(kind='bar',stacked=False)\n",
    "\n",
    "plt.xlabel('Rain Today', fontsize=15)\n",
    "plt.ylabel('Count', fontsize=15)\n",
    "plt.title('Rain Today - Rain Tomorrow', fontsize=20)\n",
    "plt.xticks(rotation=0, fontsize=12)\n",
    "plt.yticks(fontsize=12)"
   ]
  },
  {
   "cell_type": "markdown",
   "metadata": {},
   "source": [
    "Analisis\n",
    "<ul>\n",
    "     <li>Untuk catatan maksimum, tidak hujan selama dua hari.</li>\n",
    "     <li>Selama hampir 20.000 rekaman, hari ini tidak hujan, tetapi hujan besok dan hujan untuk kedua hari tersebut.</li>\n",
    "     <li>Untuk hampir 20.000 rekaman hari ini hujan, tapi besok tidak hujan.</li>\n",
    "</ul>"
   ]
  },
  {
   "cell_type": "markdown",
   "metadata": {},
   "source": [
    "#### Variability MaxTemp"
   ]
  },
  {
   "cell_type": "code",
   "execution_count": 216,
   "metadata": {},
   "outputs": [
    {
     "name": "stdout",
     "output_type": "stream",
     "text": [
      "Variance dari Kolom MaxTemp =  49.98188178413633\n"
     ]
    }
   ],
   "source": [
    "# Variance\n",
    "# kuadrat jarak rata-rata antara setiap kuantitas dan mean.\n",
    "print('Variance dari Kolom MaxTemp = ', df['MaxTemp'].var(ddof=1))\n"
   ]
  },
  {
   "cell_type": "code",
   "execution_count": 217,
   "metadata": {},
   "outputs": [
    {
     "name": "stdout",
     "output_type": "stream",
     "text": [
      "Standard Deviation dari Kolom MaxTemp =  7.06978654445354\n"
     ]
    }
   ],
   "source": [
    "# Standard Deviation\n",
    "#Standar deviasi yang rendah menunjukkan bahwa titik data cenderung mendekati rata-rata kumpulan data, sedangkan Standar deviasi yang tinggi menunjukkan bahwa titik data tersebar di nilai yang lebih luas.\n",
    "print('Standard Deviation dari Kolom MaxTemp = ', df['MaxTemp'].var(ddof=1)**0.5)"
   ]
  },
  {
   "cell_type": "code",
   "execution_count": 218,
   "metadata": {},
   "outputs": [
    {
     "name": "stdout",
     "output_type": "stream",
     "text": [
      "Nilai skew adalah  0.23695598479201244\n"
     ]
    }
   ],
   "source": [
    "# Skewness\n",
    "\n",
    "\n",
    "x = df['MaxTemp']\n",
    "\n",
    "n = len(x)\n",
    "\n",
    "mean_ = sum(x) / n\n",
    "var_ = sum((item - mean_)**2 for item in x) / (n-1)\n",
    "std_ = var_ ** 0.5\n",
    "\n",
    "skew_ = (sum((item - mean_)**3 for item in x) * n / ((n - 1) * (n - 2) * std_**3))\n",
    "\n",
    "print(\"Nilai skew adalah \", skew_)\n"
   ]
  },
  {
   "cell_type": "code",
   "execution_count": 219,
   "metadata": {},
   "outputs": [
    {
     "data": {
      "text/plain": [
       "count    145460.000000\n",
       "mean         23.224781\n",
       "std           7.069787\n",
       "min           2.450000\n",
       "25%          18.000000\n",
       "50%          22.700000\n",
       "75%          28.200000\n",
       "max          43.650000\n",
       "Name: MaxTemp, dtype: float64"
      ]
     },
     "execution_count": 219,
     "metadata": {},
     "output_type": "execute_result"
    }
   ],
   "source": [
    "# Percentiles\n",
    "df['MaxTemp'].describe()"
   ]
  },
  {
   "cell_type": "code",
   "execution_count": 220,
   "metadata": {},
   "outputs": [
    {
     "name": "stdout",
     "output_type": "stream",
     "text": [
      "Range Kolom MaxTemp:  41.2\n"
     ]
    }
   ],
   "source": [
    "# Ranges\n",
    "print('Range Kolom MaxTemp: ', df['MaxTemp'].max() - df['MaxTemp'].min())"
   ]
  },
  {
   "cell_type": "markdown",
   "metadata": {},
   "source": [
    "Analisis\n",
    "- Nilai standard deviation/variance menunjukkan seberapa tersebar data kita\n",
    "- Nilai range nya 41,2 artinya jarak antara nilai terendah dan tertinggi. Jika digabung dengan standard deviation bisa menujukkan seberapa landai/curam kurva.  \n",
    "- Nilai skewnessnya positif, artinya distribusinya positively skewed yaitu condong ke kiri\n",
    "- Nilai percentiles menunjukkan pada rentang 75%, 50%, 25% berapa nilai data."
   ]
  },
  {
   "cell_type": "markdown",
   "metadata": {},
   "source": [
    "#### Mencari Rainy Days berdasarkan Location"
   ]
  },
  {
   "cell_type": "code",
   "execution_count": 221,
   "metadata": {},
   "outputs": [
    {
     "data": {
      "text/plain": [
       "0         0\n",
       "1         0\n",
       "2         0\n",
       "3         0\n",
       "4         0\n",
       "         ..\n",
       "145455    0\n",
       "145456    0\n",
       "145457    0\n",
       "145458    0\n",
       "145459    0\n",
       "Name: RainToday, Length: 145460, dtype: int64"
      ]
     },
     "execution_count": 221,
     "metadata": {},
     "output_type": "execute_result"
    }
   ],
   "source": [
    "# Buat salinan dataframe and ubah value RainToday and Tommorow menjadi 0 dan 1\n",
    "df_ = df.copy()\n",
    "df_.RainToday = [1 if each == 'Yes' else 0 for each in df_.RainToday]\n",
    "df_.RainTomorrow = [1 if each == 'Yes' else 0 for each in df_.RainTomorrow]\n",
    "df_['RainToday']\n"
   ]
  },
  {
   "cell_type": "code",
   "execution_count": 222,
   "metadata": {},
   "outputs": [
    {
     "data": {
      "text/html": [
       "<div>\n",
       "<style scoped>\n",
       "    .dataframe tbody tr th:only-of-type {\n",
       "        vertical-align: middle;\n",
       "    }\n",
       "\n",
       "    .dataframe tbody tr th {\n",
       "        vertical-align: top;\n",
       "    }\n",
       "\n",
       "    .dataframe thead th {\n",
       "        text-align: right;\n",
       "    }\n",
       "</style>\n",
       "<table border=\"1\" class=\"dataframe\">\n",
       "  <thead>\n",
       "    <tr style=\"text-align: right;\">\n",
       "      <th></th>\n",
       "      <th>RainToday</th>\n",
       "    </tr>\n",
       "    <tr>\n",
       "      <th>Location</th>\n",
       "      <th></th>\n",
       "    </tr>\n",
       "  </thead>\n",
       "  <tbody>\n",
       "    <tr>\n",
       "      <th>Adelaide</th>\n",
       "      <td>689</td>\n",
       "    </tr>\n",
       "    <tr>\n",
       "      <th>Albany</th>\n",
       "      <td>902</td>\n",
       "    </tr>\n",
       "    <tr>\n",
       "      <th>Albury</th>\n",
       "      <td>617</td>\n",
       "    </tr>\n",
       "    <tr>\n",
       "      <th>AliceSprings</th>\n",
       "      <td>244</td>\n",
       "    </tr>\n",
       "    <tr>\n",
       "      <th>BadgerysCreek</th>\n",
       "      <td>583</td>\n",
       "    </tr>\n",
       "  </tbody>\n",
       "</table>\n",
       "</div>"
      ],
      "text/plain": [
       "               RainToday\n",
       "Location                \n",
       "Adelaide             689\n",
       "Albany               902\n",
       "Albury               617\n",
       "AliceSprings         244\n",
       "BadgerysCreek        583"
      ]
     },
     "execution_count": 222,
     "metadata": {},
     "output_type": "execute_result"
    }
   ],
   "source": [
    "df_rain_by_loc = df_.groupby(by='Location').sum()\n",
    "df_rain_by_loc = df_rain_by_loc[['RainToday']]\n",
    "df_rain_by_loc.head()"
   ]
  },
  {
   "cell_type": "markdown",
   "metadata": {},
   "source": [
    "Bagan di atas berguna untuk memeriksa dengan cepat perbedaan antar lokasi sehubungan dengan jumlah hari hujan tetapi memiliki satu masalah utama: jumlah pengamatan dari setiap lokasi tidak persis sama. Memeriksa jumlah nilai untuk setiap lokasi (di bawah) mengungkapkan bahwa lokasi `Katherine`, `Nhil`, dan `Uluru` harus diabaikan saat menganalisis plot di atas. Lokasi yang tersisa memiliki jumlah nilai yang cukup dekat untuk dapat dibandingkan dengan benar."
   ]
  },
  {
   "cell_type": "markdown",
   "metadata": {},
   "source": [
    "### Data Preprocessing"
   ]
  },
  {
   "cell_type": "markdown",
   "metadata": {},
   "source": [
    "#### Numerical Encoding"
   ]
  },
  {
   "cell_type": "code",
   "execution_count": 231,
   "metadata": {},
   "outputs": [
    {
     "data": {
      "text/plain": [
       "Location         0\n",
       "MinTemp          0\n",
       "MaxTemp          0\n",
       "Rainfall         0\n",
       "WindGustDir      0\n",
       "WindGustSpeed    0\n",
       "WindDir9am       0\n",
       "WindDir3pm       0\n",
       "WindSpeed9am     0\n",
       "WindSpeed3pm     0\n",
       "Humidity9am      0\n",
       "Humidity3pm      0\n",
       "Pressure9am      0\n",
       "Pressure3pm      0\n",
       "Temp9am          0\n",
       "Temp3pm          0\n",
       "RainToday        0\n",
       "RainTomorrow     0\n",
       "Month            0\n",
       "dtype: int64"
      ]
     },
     "execution_count": 231,
     "metadata": {},
     "output_type": "execute_result"
    }
   ],
   "source": [
    "df_saved = df.copy() #untuk berjaga-jaga\n",
    "df.isnull().sum() # mengecek apakah semua kolom sudah tidak ada null values\n",
    "# Machine Learning hanya memahami data numerik sehingga perlu mengonversi\n",
    "# fitur categorical ke dalam numerical sehingga perlu melakukan pengkodean"
   ]
  },
  {
   "cell_type": "code",
   "execution_count": 224,
   "metadata": {},
   "outputs": [
    {
     "data": {
      "text/plain": [
       "['Location',\n",
       " 'WindGustDir',\n",
       " 'WindDir9am',\n",
       " 'WindDir3pm',\n",
       " 'RainToday',\n",
       " 'RainTomorrow']"
      ]
     },
     "execution_count": 224,
     "metadata": {},
     "output_type": "execute_result"
    }
   ],
   "source": [
    "cat_fea = [i for i in df.columns if df[i].dtype == \"O\"]\n",
    "cat_fea   # List dari kolom categorical yang perlu dikonversi"
   ]
  },
  {
   "cell_type": "code",
   "execution_count": 225,
   "metadata": {},
   "outputs": [],
   "source": [
    "def encode_cat(feature):  \n",
    "  mapping_dic = {}         #dictionary kosong \n",
    "  unique_val = list(df[feature].unique())    # ekstrak fitur tertentu dari data dan ubah menjadi list\n",
    "  for idx in range(len(unique_val)):      # iterasi hingga jumlah value di list\n",
    "    mapping_dic[unique_val[idx]] = idx    # assign index ke index dari list \n",
    "  return mapping_dic     \n"
   ]
  },
  {
   "cell_type": "code",
   "execution_count": 229,
   "metadata": {},
   "outputs": [],
   "source": [
    "for i in cat_fea:   # iterasi dari list categorical features \n",
    "  df[i].replace(encode_cat(i), inplace = True)  "
   ]
  },
  {
   "cell_type": "markdown",
   "metadata": {},
   "source": [
    "semua data telah terkonversi ke kategorikal menjadi nilai numerik"
   ]
  },
  {
   "cell_type": "code",
   "execution_count": 171,
   "metadata": {},
   "outputs": [
    {
     "name": "stderr",
     "output_type": "stream",
     "text": [
      "C:\\Users\\ADMINI~1\\AppData\\Local\\Temp/ipykernel_5984/733907881.py:4: FutureWarning: this method is deprecated in favour of `Styler.format(precision=..)`\n",
      "  corr.style.background_gradient(cmap='PuBu').set_precision(5)\n"
     ]
    },
    {
     "data": {
      "text/html": [
       "<style type=\"text/css\">\n",
       "#T_252d4_row0_col0, #T_252d4_row1_col1, #T_252d4_row2_col2, #T_252d4_row3_col3, #T_252d4_row4_col4, #T_252d4_row5_col5, #T_252d4_row6_col6, #T_252d4_row7_col7, #T_252d4_row8_col8, #T_252d4_row9_col9, #T_252d4_row10_col10, #T_252d4_row11_col11, #T_252d4_row12_col12, #T_252d4_row13_col13 {\n",
       "  background-color: #023858;\n",
       "  color: #f1f1f1;\n",
       "}\n",
       "#T_252d4_row0_col1 {\n",
       "  background-color: #04639b;\n",
       "  color: #f1f1f1;\n",
       "}\n",
       "#T_252d4_row0_col2, #T_252d4_row3_col5 {\n",
       "  background-color: #d1d2e6;\n",
       "  color: #000000;\n",
       "}\n",
       "#T_252d4_row0_col3, #T_252d4_row7_col9 {\n",
       "  background-color: #e2dfee;\n",
       "  color: #000000;\n",
       "}\n",
       "#T_252d4_row0_col4, #T_252d4_row4_col9, #T_252d4_row5_col0 {\n",
       "  background-color: #93b5d6;\n",
       "  color: #000000;\n",
       "}\n",
       "#T_252d4_row0_col5 {\n",
       "  background-color: #adc1dd;\n",
       "  color: #000000;\n",
       "}\n",
       "#T_252d4_row0_col6, #T_252d4_row2_col13, #T_252d4_row9_col3, #T_252d4_row11_col8, #T_252d4_row11_col13 {\n",
       "  background-color: #e0deed;\n",
       "  color: #000000;\n",
       "}\n",
       "#T_252d4_row0_col7, #T_252d4_row5_col10 {\n",
       "  background-color: #abbfdc;\n",
       "  color: #000000;\n",
       "}\n",
       "#T_252d4_row0_col8, #T_252d4_row0_col13, #T_252d4_row1_col2, #T_252d4_row1_col6, #T_252d4_row1_col11, #T_252d4_row4_col3, #T_252d4_row4_col8, #T_252d4_row6_col1, #T_252d4_row6_col5, #T_252d4_row6_col9, #T_252d4_row7_col1, #T_252d4_row7_col10, #T_252d4_row8_col0, #T_252d4_row8_col4, #T_252d4_row8_col12, #T_252d4_row10_col2, #T_252d4_row10_col7, #T_252d4_row10_col11 {\n",
       "  background-color: #fff7fb;\n",
       "  color: #000000;\n",
       "}\n",
       "#T_252d4_row0_col9 {\n",
       "  background-color: #034a74;\n",
       "  color: #f1f1f1;\n",
       "}\n",
       "#T_252d4_row0_col10 {\n",
       "  background-color: #0566a0;\n",
       "  color: #f1f1f1;\n",
       "}\n",
       "#T_252d4_row0_col11 {\n",
       "  background-color: #d4d4e8;\n",
       "  color: #000000;\n",
       "}\n",
       "#T_252d4_row0_col12, #T_252d4_row11_col9 {\n",
       "  background-color: #d0d1e6;\n",
       "  color: #000000;\n",
       "}\n",
       "#T_252d4_row1_col0 {\n",
       "  background-color: #04649e;\n",
       "  color: #f1f1f1;\n",
       "}\n",
       "#T_252d4_row1_col3, #T_252d4_row8_col3 {\n",
       "  background-color: #dfddec;\n",
       "  color: #000000;\n",
       "}\n",
       "#T_252d4_row1_col4 {\n",
       "  background-color: #afc1dd;\n",
       "  color: #000000;\n",
       "}\n",
       "#T_252d4_row1_col5, #T_252d4_row12_col1, #T_252d4_row13_col9 {\n",
       "  background-color: #d5d5e8;\n",
       "  color: #000000;\n",
       "}\n",
       "#T_252d4_row1_col7, #T_252d4_row7_col3 {\n",
       "  background-color: #faf2f8;\n",
       "  color: #000000;\n",
       "}\n",
       "#T_252d4_row1_col8 {\n",
       "  background-color: #f3edf5;\n",
       "  color: #000000;\n",
       "}\n",
       "#T_252d4_row1_col9 {\n",
       "  background-color: #034e7b;\n",
       "  color: #f1f1f1;\n",
       "}\n",
       "#T_252d4_row1_col10, #T_252d4_row10_col1 {\n",
       "  background-color: #023d60;\n",
       "  color: #f1f1f1;\n",
       "}\n",
       "#T_252d4_row1_col12 {\n",
       "  background-color: #f6eff7;\n",
       "  color: #000000;\n",
       "}\n",
       "#T_252d4_row1_col13, #T_252d4_row10_col12 {\n",
       "  background-color: #faf3f9;\n",
       "  color: #000000;\n",
       "}\n",
       "#T_252d4_row2_col0, #T_252d4_row4_col7, #T_252d4_row11_col0, #T_252d4_row13_col4 {\n",
       "  background-color: #b3c3de;\n",
       "  color: #000000;\n",
       "}\n",
       "#T_252d4_row2_col1 {\n",
       "  background-color: #e4e1ef;\n",
       "  color: #000000;\n",
       "}\n",
       "#T_252d4_row2_col3, #T_252d4_row6_col10 {\n",
       "  background-color: #f9f2f8;\n",
       "  color: #000000;\n",
       "}\n",
       "#T_252d4_row2_col4, #T_252d4_row9_col4 {\n",
       "  background-color: #9ab8d8;\n",
       "  color: #000000;\n",
       "}\n",
       "#T_252d4_row2_col5 {\n",
       "  background-color: #c1cae2;\n",
       "  color: #000000;\n",
       "}\n",
       "#T_252d4_row2_col6, #T_252d4_row11_col7 {\n",
       "  background-color: #4697c4;\n",
       "  color: #f1f1f1;\n",
       "}\n",
       "#T_252d4_row2_col7 {\n",
       "  background-color: #3991c1;\n",
       "  color: #f1f1f1;\n",
       "}\n",
       "#T_252d4_row2_col8, #T_252d4_row3_col2, #T_252d4_row12_col13 {\n",
       "  background-color: #e1dfed;\n",
       "  color: #000000;\n",
       "}\n",
       "#T_252d4_row2_col9 {\n",
       "  background-color: #d2d3e7;\n",
       "  color: #000000;\n",
       "}\n",
       "#T_252d4_row2_col10, #T_252d4_row4_col6, #T_252d4_row7_col5, #T_252d4_row10_col3 {\n",
       "  background-color: #dedcec;\n",
       "  color: #000000;\n",
       "}\n",
       "#T_252d4_row2_col11, #T_252d4_row11_col2 {\n",
       "  background-color: #023f64;\n",
       "  color: #f1f1f1;\n",
       "}\n",
       "#T_252d4_row2_col12, #T_252d4_row12_col4 {\n",
       "  background-color: #88b1d4;\n",
       "  color: #000000;\n",
       "}\n",
       "#T_252d4_row3_col0 {\n",
       "  background-color: #a7bddb;\n",
       "  color: #000000;\n",
       "}\n",
       "#T_252d4_row3_col1 {\n",
       "  background-color: #97b7d7;\n",
       "  color: #000000;\n",
       "}\n",
       "#T_252d4_row3_col4, #T_252d4_row12_col10 {\n",
       "  background-color: #d3d4e7;\n",
       "  color: #000000;\n",
       "}\n",
       "#T_252d4_row3_col6 {\n",
       "  background-color: #c0c9e2;\n",
       "  color: #000000;\n",
       "}\n",
       "#T_252d4_row3_col7 {\n",
       "  background-color: #b5c4df;\n",
       "  color: #000000;\n",
       "}\n",
       "#T_252d4_row3_col8 {\n",
       "  background-color: #a2bcda;\n",
       "  color: #000000;\n",
       "}\n",
       "#T_252d4_row3_col9, #T_252d4_row6_col8, #T_252d4_row6_col12 {\n",
       "  background-color: #9fbad9;\n",
       "  color: #000000;\n",
       "}\n",
       "#T_252d4_row3_col10 {\n",
       "  background-color: #8fb4d6;\n",
       "  color: #000000;\n",
       "}\n",
       "#T_252d4_row3_col11, #T_252d4_row13_col0 {\n",
       "  background-color: #e5e1ef;\n",
       "  color: #000000;\n",
       "}\n",
       "#T_252d4_row3_col12, #T_252d4_row6_col0, #T_252d4_row12_col8 {\n",
       "  background-color: #e9e5f1;\n",
       "  color: #000000;\n",
       "}\n",
       "#T_252d4_row3_col13, #T_252d4_row9_col11 {\n",
       "  background-color: #efe9f3;\n",
       "  color: #000000;\n",
       "}\n",
       "#T_252d4_row4_col0 {\n",
       "  background-color: #91b5d6;\n",
       "  color: #000000;\n",
       "}\n",
       "#T_252d4_row4_col1, #T_252d4_row4_col10 {\n",
       "  background-color: #a4bcda;\n",
       "  color: #000000;\n",
       "}\n",
       "#T_252d4_row4_col2, #T_252d4_row10_col4 {\n",
       "  background-color: #b7c5df;\n",
       "  color: #000000;\n",
       "}\n",
       "#T_252d4_row4_col5 {\n",
       "  background-color: #2484ba;\n",
       "  color: #f1f1f1;\n",
       "}\n",
       "#T_252d4_row4_col11 {\n",
       "  background-color: #bdc8e1;\n",
       "  color: #000000;\n",
       "}\n",
       "#T_252d4_row4_col12 {\n",
       "  background-color: #a9bfdc;\n",
       "  color: #000000;\n",
       "}\n",
       "#T_252d4_row4_col13, #T_252d4_row9_col7, #T_252d4_row13_col2 {\n",
       "  background-color: #d8d7e9;\n",
       "  color: #000000;\n",
       "}\n",
       "#T_252d4_row5_col1, #T_252d4_row13_col7 {\n",
       "  background-color: #b0c2de;\n",
       "  color: #000000;\n",
       "}\n",
       "#T_252d4_row5_col2 {\n",
       "  background-color: #c4cbe3;\n",
       "  color: #000000;\n",
       "}\n",
       "#T_252d4_row5_col3, #T_252d4_row9_col2 {\n",
       "  background-color: #eee8f3;\n",
       "  color: #000000;\n",
       "}\n",
       "#T_252d4_row5_col4 {\n",
       "  background-color: #167bb6;\n",
       "  color: #f1f1f1;\n",
       "}\n",
       "#T_252d4_row5_col6, #T_252d4_row5_col8, #T_252d4_row6_col4 {\n",
       "  background-color: #e7e3f0;\n",
       "  color: #000000;\n",
       "}\n",
       "#T_252d4_row5_col7 {\n",
       "  background-color: #b4c4df;\n",
       "  color: #000000;\n",
       "}\n",
       "#T_252d4_row5_col9 {\n",
       "  background-color: #99b8d8;\n",
       "  color: #000000;\n",
       "}\n",
       "#T_252d4_row5_col11 {\n",
       "  background-color: #cacee5;\n",
       "  color: #000000;\n",
       "}\n",
       "#T_252d4_row5_col12, #T_252d4_row13_col5 {\n",
       "  background-color: #ced0e6;\n",
       "  color: #000000;\n",
       "}\n",
       "#T_252d4_row5_col13, #T_252d4_row11_col10 {\n",
       "  background-color: #d9d8ea;\n",
       "  color: #000000;\n",
       "}\n",
       "#T_252d4_row6_col2 {\n",
       "  background-color: #6da6cd;\n",
       "  color: #f1f1f1;\n",
       "}\n",
       "#T_252d4_row6_col3 {\n",
       "  background-color: #fbf3f9;\n",
       "  color: #000000;\n",
       "}\n",
       "#T_252d4_row6_col7 {\n",
       "  background-color: #056ba7;\n",
       "  color: #f1f1f1;\n",
       "}\n",
       "#T_252d4_row6_col11 {\n",
       "  background-color: #80aed2;\n",
       "  color: #f1f1f1;\n",
       "}\n",
       "#T_252d4_row6_col13 {\n",
       "  background-color: #f1ebf4;\n",
       "  color: #000000;\n",
       "}\n",
       "#T_252d4_row7_col0, #T_252d4_row12_col9 {\n",
       "  background-color: #bfc9e1;\n",
       "  color: #000000;\n",
       "}\n",
       "#T_252d4_row7_col2 {\n",
       "  background-color: #65a3cb;\n",
       "  color: #f1f1f1;\n",
       "}\n",
       "#T_252d4_row7_col4 {\n",
       "  background-color: #c6cce3;\n",
       "  color: #000000;\n",
       "}\n",
       "#T_252d4_row7_col6 {\n",
       "  background-color: #056caa;\n",
       "  color: #f1f1f1;\n",
       "}\n",
       "#T_252d4_row7_col8, #T_252d4_row12_col5 {\n",
       "  background-color: #c5cce3;\n",
       "  color: #000000;\n",
       "}\n",
       "#T_252d4_row7_col11 {\n",
       "  background-color: #79abd0;\n",
       "  color: #f1f1f1;\n",
       "}\n",
       "#T_252d4_row7_col12 {\n",
       "  background-color: #62a2cb;\n",
       "  color: #f1f1f1;\n",
       "}\n",
       "#T_252d4_row7_col13 {\n",
       "  background-color: #e6e2ef;\n",
       "  color: #000000;\n",
       "}\n",
       "#T_252d4_row8_col1 {\n",
       "  background-color: #ede7f2;\n",
       "  color: #000000;\n",
       "}\n",
       "#T_252d4_row8_col2 {\n",
       "  background-color: #f5eff6;\n",
       "  color: #000000;\n",
       "}\n",
       "#T_252d4_row8_col5, #T_252d4_row8_col9, #T_252d4_row8_col11, #T_252d4_row11_col3 {\n",
       "  background-color: #f8f1f8;\n",
       "  color: #000000;\n",
       "}\n",
       "#T_252d4_row8_col6 {\n",
       "  background-color: #94b6d7;\n",
       "  color: #000000;\n",
       "}\n",
       "#T_252d4_row8_col7 {\n",
       "  background-color: #b1c2de;\n",
       "  color: #000000;\n",
       "}\n",
       "#T_252d4_row8_col10, #T_252d4_row11_col1 {\n",
       "  background-color: #e0dded;\n",
       "  color: #000000;\n",
       "}\n",
       "#T_252d4_row8_col13 {\n",
       "  background-color: #dcdaeb;\n",
       "  color: #000000;\n",
       "}\n",
       "#T_252d4_row9_col0 {\n",
       "  background-color: #034b76;\n",
       "  color: #f1f1f1;\n",
       "}\n",
       "#T_252d4_row9_col1 {\n",
       "  background-color: #034d79;\n",
       "  color: #f1f1f1;\n",
       "}\n",
       "#T_252d4_row9_col5 {\n",
       "  background-color: #b9c6e0;\n",
       "  color: #000000;\n",
       "}\n",
       "#T_252d4_row9_col6, #T_252d4_row9_col8 {\n",
       "  background-color: #fdf5fa;\n",
       "  color: #000000;\n",
       "}\n",
       "#T_252d4_row9_col10 {\n",
       "  background-color: #045382;\n",
       "  color: #f1f1f1;\n",
       "}\n",
       "#T_252d4_row9_col12 {\n",
       "  background-color: #e3e0ee;\n",
       "  color: #000000;\n",
       "}\n",
       "#T_252d4_row9_col13 {\n",
       "  background-color: #f7f0f7;\n",
       "  color: #000000;\n",
       "}\n",
       "#T_252d4_row10_col0 {\n",
       "  background-color: #0569a4;\n",
       "  color: #f1f1f1;\n",
       "}\n",
       "#T_252d4_row10_col5 {\n",
       "  background-color: #d7d6e9;\n",
       "  color: #000000;\n",
       "}\n",
       "#T_252d4_row10_col6 {\n",
       "  background-color: #fef6fb;\n",
       "  color: #000000;\n",
       "}\n",
       "#T_252d4_row10_col8 {\n",
       "  background-color: #eee9f3;\n",
       "  color: #000000;\n",
       "}\n",
       "#T_252d4_row10_col9 {\n",
       "  background-color: #045483;\n",
       "  color: #f1f1f1;\n",
       "}\n",
       "#T_252d4_row10_col13, #T_252d4_row12_col3 {\n",
       "  background-color: #fbf4f9;\n",
       "  color: #000000;\n",
       "}\n",
       "#T_252d4_row11_col4 {\n",
       "  background-color: #9cb9d9;\n",
       "  color: #000000;\n",
       "}\n",
       "#T_252d4_row11_col5 {\n",
       "  background-color: #c2cbe2;\n",
       "  color: #000000;\n",
       "}\n",
       "#T_252d4_row11_col6 {\n",
       "  background-color: #549cc7;\n",
       "  color: #f1f1f1;\n",
       "}\n",
       "#T_252d4_row11_col12, #T_252d4_row12_col11 {\n",
       "  background-color: #8eb3d5;\n",
       "  color: #000000;\n",
       "}\n",
       "#T_252d4_row12_col0 {\n",
       "  background-color: #acc0dd;\n",
       "  color: #000000;\n",
       "}\n",
       "#T_252d4_row12_col2 {\n",
       "  background-color: #81aed2;\n",
       "  color: #f1f1f1;\n",
       "}\n",
       "#T_252d4_row12_col6 {\n",
       "  background-color: #73a9cf;\n",
       "  color: #f1f1f1;\n",
       "}\n",
       "#T_252d4_row12_col7 {\n",
       "  background-color: #328dbf;\n",
       "  color: #f1f1f1;\n",
       "}\n",
       "#T_252d4_row13_col1 {\n",
       "  background-color: #d6d6e9;\n",
       "  color: #000000;\n",
       "}\n",
       "#T_252d4_row13_col3 {\n",
       "  background-color: #fef6fa;\n",
       "  color: #000000;\n",
       "}\n",
       "#T_252d4_row13_col6 {\n",
       "  background-color: #c9cee4;\n",
       "  color: #000000;\n",
       "}\n",
       "#T_252d4_row13_col8 {\n",
       "  background-color: #b8c6e0;\n",
       "  color: #000000;\n",
       "}\n",
       "#T_252d4_row13_col10 {\n",
       "  background-color: #d2d2e7;\n",
       "  color: #000000;\n",
       "}\n",
       "#T_252d4_row13_col11, #T_252d4_row13_col12 {\n",
       "  background-color: #dddbec;\n",
       "  color: #000000;\n",
       "}\n",
       "</style>\n",
       "<table id=\"T_252d4_\">\n",
       "  <thead>\n",
       "    <tr>\n",
       "      <th class=\"blank level0\" >&nbsp;</th>\n",
       "      <th class=\"col_heading level0 col0\" >MinTemp</th>\n",
       "      <th class=\"col_heading level0 col1\" >MaxTemp</th>\n",
       "      <th class=\"col_heading level0 col2\" >Rainfall</th>\n",
       "      <th class=\"col_heading level0 col3\" >WindGustDir</th>\n",
       "      <th class=\"col_heading level0 col4\" >WindGustSpeed</th>\n",
       "      <th class=\"col_heading level0 col5\" >WindSpeed9am</th>\n",
       "      <th class=\"col_heading level0 col6\" >Humidity9am</th>\n",
       "      <th class=\"col_heading level0 col7\" >Humidity3pm</th>\n",
       "      <th class=\"col_heading level0 col8\" >Pressure9am</th>\n",
       "      <th class=\"col_heading level0 col9\" >Temp9am</th>\n",
       "      <th class=\"col_heading level0 col10\" >Temp3pm</th>\n",
       "      <th class=\"col_heading level0 col11\" >RainToday</th>\n",
       "      <th class=\"col_heading level0 col12\" >RainTomorrow</th>\n",
       "      <th class=\"col_heading level0 col13\" >Month</th>\n",
       "    </tr>\n",
       "  </thead>\n",
       "  <tbody>\n",
       "    <tr>\n",
       "      <th id=\"T_252d4_level0_row0\" class=\"row_heading level0 row0\" >MinTemp</th>\n",
       "      <td id=\"T_252d4_row0_col0\" class=\"data row0 col0\" >1.00000</td>\n",
       "      <td id=\"T_252d4_row0_col1\" class=\"data row0 col1\" >0.73339</td>\n",
       "      <td id=\"T_252d4_row0_col2\" class=\"data row0 col2\" >0.05120</td>\n",
       "      <td id=\"T_252d4_row0_col3\" class=\"data row0 col3\" >0.10136</td>\n",
       "      <td id=\"T_252d4_row0_col4\" class=\"data row0 col4\" >0.18034</td>\n",
       "      <td id=\"T_252d4_row0_col5\" class=\"data row0 col5\" >0.17753</td>\n",
       "      <td id=\"T_252d4_row0_col6\" class=\"data row0 col6\" >-0.23072</td>\n",
       "      <td id=\"T_252d4_row0_col7\" class=\"data row0 col7\" >0.00603</td>\n",
       "      <td id=\"T_252d4_row0_col8\" class=\"data row0 col8\" >-0.42898</td>\n",
       "      <td id=\"T_252d4_row0_col9\" class=\"data row0 col9\" >0.89776</td>\n",
       "      <td id=\"T_252d4_row0_col10\" class=\"data row0 col10\" >0.69915</td>\n",
       "      <td id=\"T_252d4_row0_col11\" class=\"data row0 col11\" >0.05457</td>\n",
       "      <td id=\"T_252d4_row0_col12\" class=\"data row0 col12\" >0.08218</td>\n",
       "      <td id=\"T_252d4_row0_col13\" class=\"data row0 col13\" >-0.20274</td>\n",
       "    </tr>\n",
       "    <tr>\n",
       "      <th id=\"T_252d4_level0_row1\" class=\"row_heading level0 row1\" >MaxTemp</th>\n",
       "      <td id=\"T_252d4_row1_col0\" class=\"data row1 col0\" >0.73339</td>\n",
       "      <td id=\"T_252d4_row1_col1\" class=\"data row1 col1\" >1.00000</td>\n",
       "      <td id=\"T_252d4_row1_col2\" class=\"data row1 col2\" >-0.25598</td>\n",
       "      <td id=\"T_252d4_row1_col3\" class=\"data row1 col3\" >0.11749</td>\n",
       "      <td id=\"T_252d4_row1_col4\" class=\"data row1 col4\" >0.07323</td>\n",
       "      <td id=\"T_252d4_row1_col5\" class=\"data row1 col5\" >0.01714</td>\n",
       "      <td id=\"T_252d4_row1_col6\" class=\"data row1 col6\" >-0.49711</td>\n",
       "      <td id=\"T_252d4_row1_col7\" class=\"data row1 col7\" >-0.49854</td>\n",
       "      <td id=\"T_252d4_row1_col8\" class=\"data row1 col8\" >-0.31492</td>\n",
       "      <td id=\"T_252d4_row1_col9\" class=\"data row1 col9\" >0.87937</td>\n",
       "      <td id=\"T_252d4_row1_col10\" class=\"data row1 col10\" >0.96890</td>\n",
       "      <td id=\"T_252d4_row1_col11\" class=\"data row1 col11\" >-0.22528</td>\n",
       "      <td id=\"T_252d4_row1_col12\" class=\"data row1 col12\" >-0.15666</td>\n",
       "      <td id=\"T_252d4_row1_col13\" class=\"data row1 col13\" >-0.16319</td>\n",
       "    </tr>\n",
       "    <tr>\n",
       "      <th id=\"T_252d4_level0_row2\" class=\"row_heading level0 row2\" >Rainfall</th>\n",
       "      <td id=\"T_252d4_row2_col0\" class=\"data row2 col0\" >0.05120</td>\n",
       "      <td id=\"T_252d4_row2_col1\" class=\"data row2 col1\" >-0.25598</td>\n",
       "      <td id=\"T_252d4_row2_col2\" class=\"data row2 col2\" >1.00000</td>\n",
       "      <td id=\"T_252d4_row2_col3\" class=\"data row2 col3\" >-0.04229</td>\n",
       "      <td id=\"T_252d4_row2_col4\" class=\"data row2 col4\" >0.15129</td>\n",
       "      <td id=\"T_252d4_row2_col5\" class=\"data row2 col5\" >0.10250</td>\n",
       "      <td id=\"T_252d4_row2_col6\" class=\"data row2 col6\" >0.38745</td>\n",
       "      <td id=\"T_252d4_row2_col7\" class=\"data row2 col7\" >0.40620</td>\n",
       "      <td id=\"T_252d4_row2_col8\" class=\"data row2 col8\" >-0.17975</td>\n",
       "      <td id=\"T_252d4_row2_col9\" class=\"data row2 col9\" >-0.11401</td>\n",
       "      <td id=\"T_252d4_row2_col10\" class=\"data row2 col10\" >-0.26028</td>\n",
       "      <td id=\"T_252d4_row2_col11\" class=\"data row2 col11\" >0.96354</td>\n",
       "      <td id=\"T_252d4_row2_col12\" class=\"data row2 col12\" >0.32628</td>\n",
       "      <td id=\"T_252d4_row2_col13\" class=\"data row2 col13\" >0.01196</td>\n",
       "    </tr>\n",
       "    <tr>\n",
       "      <th id=\"T_252d4_level0_row3\" class=\"row_heading level0 row3\" >WindGustDir</th>\n",
       "      <td id=\"T_252d4_row3_col0\" class=\"data row3 col0\" >0.10136</td>\n",
       "      <td id=\"T_252d4_row3_col1\" class=\"data row3 col1\" >0.11749</td>\n",
       "      <td id=\"T_252d4_row3_col2\" class=\"data row3 col2\" >-0.04229</td>\n",
       "      <td id=\"T_252d4_row3_col3\" class=\"data row3 col3\" >1.00000</td>\n",
       "      <td id=\"T_252d4_row3_col4\" class=\"data row3 col4\" >-0.08494</td>\n",
       "      <td id=\"T_252d4_row3_col5\" class=\"data row3 col5\" >0.04028</td>\n",
       "      <td id=\"T_252d4_row3_col6\" class=\"data row3 col6\" >-0.05189</td>\n",
       "      <td id=\"T_252d4_row3_col7\" class=\"data row3 col7\" >-0.04370</td>\n",
       "      <td id=\"T_252d4_row3_col8\" class=\"data row3 col8\" >0.11838</td>\n",
       "      <td id=\"T_252d4_row3_col9\" class=\"data row3 col9\" >0.10783</td>\n",
       "      <td id=\"T_252d4_row3_col10\" class=\"data row3 col10\" >0.11870</td>\n",
       "      <td id=\"T_252d4_row3_col11\" class=\"data row3 col11\" >-0.03491</td>\n",
       "      <td id=\"T_252d4_row3_col12\" class=\"data row3 col12\" >-0.05686</td>\n",
       "      <td id=\"T_252d4_row3_col13\" class=\"data row3 col13\" >-0.07399</td>\n",
       "    </tr>\n",
       "    <tr>\n",
       "      <th id=\"T_252d4_level0_row4\" class=\"row_heading level0 row4\" >WindGustSpeed</th>\n",
       "      <td id=\"T_252d4_row4_col0\" class=\"data row4 col0\" >0.18034</td>\n",
       "      <td id=\"T_252d4_row4_col1\" class=\"data row4 col1\" >0.07323</td>\n",
       "      <td id=\"T_252d4_row4_col2\" class=\"data row4 col2\" >0.15129</td>\n",
       "      <td id=\"T_252d4_row4_col3\" class=\"data row4 col3\" >-0.08494</td>\n",
       "      <td id=\"T_252d4_row4_col4\" class=\"data row4 col4\" >1.00000</td>\n",
       "      <td id=\"T_252d4_row4_col5\" class=\"data row4 col5\" >0.57856</td>\n",
       "      <td id=\"T_252d4_row4_col6\" class=\"data row4 col6\" >-0.21435</td>\n",
       "      <td id=\"T_252d4_row4_col7\" class=\"data row4 col7\" >-0.02887</td>\n",
       "      <td id=\"T_252d4_row4_col8\" class=\"data row4 col8\" >-0.42419</td>\n",
       "      <td id=\"T_252d4_row4_col9\" class=\"data row4 col9\" >0.15405</td>\n",
       "      <td id=\"T_252d4_row4_col10\" class=\"data row4 col10\" >0.03942</td>\n",
       "      <td id=\"T_252d4_row4_col11\" class=\"data row4 col11\" >0.14613</td>\n",
       "      <td id=\"T_252d4_row4_col12\" class=\"data row4 col12\" >0.21852</td>\n",
       "      <td id=\"T_252d4_row4_col13\" class=\"data row4 col13\" >0.05828</td>\n",
       "    </tr>\n",
       "    <tr>\n",
       "      <th id=\"T_252d4_level0_row5\" class=\"row_heading level0 row5\" >WindSpeed9am</th>\n",
       "      <td id=\"T_252d4_row5_col0\" class=\"data row5 col0\" >0.17753</td>\n",
       "      <td id=\"T_252d4_row5_col1\" class=\"data row5 col1\" >0.01714</td>\n",
       "      <td id=\"T_252d4_row5_col2\" class=\"data row5 col2\" >0.10250</td>\n",
       "      <td id=\"T_252d4_row5_col3\" class=\"data row5 col3\" >0.04028</td>\n",
       "      <td id=\"T_252d4_row5_col4\" class=\"data row5 col4\" >0.57856</td>\n",
       "      <td id=\"T_252d4_row5_col5\" class=\"data row5 col5\" >1.00000</td>\n",
       "      <td id=\"T_252d4_row5_col6\" class=\"data row5 col6\" >-0.27340</td>\n",
       "      <td id=\"T_252d4_row5_col7\" class=\"data row5 col7\" >-0.03304</td>\n",
       "      <td id=\"T_252d4_row5_col8\" class=\"data row5 col8\" >-0.21443</td>\n",
       "      <td id=\"T_252d4_row5_col9\" class=\"data row5 col9\" >0.13174</td>\n",
       "      <td id=\"T_252d4_row5_col10\" class=\"data row5 col10\" >0.00720</td>\n",
       "      <td id=\"T_252d4_row5_col11\" class=\"data row5 col11\" >0.09827</td>\n",
       "      <td id=\"T_252d4_row5_col12\" class=\"data row5 col12\" >0.08487</td>\n",
       "      <td id=\"T_252d4_row5_col13\" class=\"data row5 col13\" >0.05148</td>\n",
       "    </tr>\n",
       "    <tr>\n",
       "      <th id=\"T_252d4_level0_row6\" class=\"row_heading level0 row6\" >Humidity9am</th>\n",
       "      <td id=\"T_252d4_row6_col0\" class=\"data row6 col0\" >-0.23072</td>\n",
       "      <td id=\"T_252d4_row6_col1\" class=\"data row6 col1\" >-0.49711</td>\n",
       "      <td id=\"T_252d4_row6_col2\" class=\"data row6 col2\" >0.38745</td>\n",
       "      <td id=\"T_252d4_row6_col3\" class=\"data row6 col3\" >-0.05189</td>\n",
       "      <td id=\"T_252d4_row6_col4\" class=\"data row6 col4\" >-0.21435</td>\n",
       "      <td id=\"T_252d4_row6_col5\" class=\"data row6 col5\" >-0.27340</td>\n",
       "      <td id=\"T_252d4_row6_col6\" class=\"data row6 col6\" >1.00000</td>\n",
       "      <td id=\"T_252d4_row6_col7\" class=\"data row6 col7\" >0.65885</td>\n",
       "      <td id=\"T_252d4_row6_col8\" class=\"data row6 col8\" >0.13318</td>\n",
       "      <td id=\"T_252d4_row6_col9\" class=\"data row6 col9\" >-0.46854</td>\n",
       "      <td id=\"T_252d4_row6_col10\" class=\"data row6 col10\" >-0.48963</td>\n",
       "      <td id=\"T_252d4_row6_col11\" class=\"data row6 col11\" >0.34842</td>\n",
       "      <td id=\"T_252d4_row6_col12\" class=\"data row6 col12\" >0.25224</td>\n",
       "      <td id=\"T_252d4_row6_col13\" class=\"data row6 col13\" >-0.08907</td>\n",
       "    </tr>\n",
       "    <tr>\n",
       "      <th id=\"T_252d4_level0_row7\" class=\"row_heading level0 row7\" >Humidity3pm</th>\n",
       "      <td id=\"T_252d4_row7_col0\" class=\"data row7 col0\" >0.00603</td>\n",
       "      <td id=\"T_252d4_row7_col1\" class=\"data row7 col1\" >-0.49854</td>\n",
       "      <td id=\"T_252d4_row7_col2\" class=\"data row7 col2\" >0.40620</td>\n",
       "      <td id=\"T_252d4_row7_col3\" class=\"data row7 col3\" >-0.04370</td>\n",
       "      <td id=\"T_252d4_row7_col4\" class=\"data row7 col4\" >-0.02887</td>\n",
       "      <td id=\"T_252d4_row7_col5\" class=\"data row7 col5\" >-0.03304</td>\n",
       "      <td id=\"T_252d4_row7_col6\" class=\"data row7 col6\" >0.65885</td>\n",
       "      <td id=\"T_252d4_row7_col7\" class=\"data row7 col7\" >1.00000</td>\n",
       "      <td id=\"T_252d4_row7_col8\" class=\"data row7 col8\" >-0.02434</td>\n",
       "      <td id=\"T_252d4_row7_col9\" class=\"data row7 col9\" >-0.21658</td>\n",
       "      <td id=\"T_252d4_row7_col10\" class=\"data row7 col10\" >-0.55521</td>\n",
       "      <td id=\"T_252d4_row7_col11\" class=\"data row7 col11\" >0.36794</td>\n",
       "      <td id=\"T_252d4_row7_col12\" class=\"data row7 col12\" >0.43318</td>\n",
       "      <td id=\"T_252d4_row7_col13\" class=\"data row7 col13\" >-0.01857</td>\n",
       "    </tr>\n",
       "    <tr>\n",
       "      <th id=\"T_252d4_level0_row8\" class=\"row_heading level0 row8\" >Pressure9am</th>\n",
       "      <td id=\"T_252d4_row8_col0\" class=\"data row8 col0\" >-0.42898</td>\n",
       "      <td id=\"T_252d4_row8_col1\" class=\"data row8 col1\" >-0.31492</td>\n",
       "      <td id=\"T_252d4_row8_col2\" class=\"data row8 col2\" >-0.17975</td>\n",
       "      <td id=\"T_252d4_row8_col3\" class=\"data row8 col3\" >0.11838</td>\n",
       "      <td id=\"T_252d4_row8_col4\" class=\"data row8 col4\" >-0.42419</td>\n",
       "      <td id=\"T_252d4_row8_col5\" class=\"data row8 col5\" >-0.21443</td>\n",
       "      <td id=\"T_252d4_row8_col6\" class=\"data row8 col6\" >0.13318</td>\n",
       "      <td id=\"T_252d4_row8_col7\" class=\"data row8 col7\" >-0.02434</td>\n",
       "      <td id=\"T_252d4_row8_col8\" class=\"data row8 col8\" >1.00000</td>\n",
       "      <td id=\"T_252d4_row8_col9\" class=\"data row8 col9\" >-0.40342</td>\n",
       "      <td id=\"T_252d4_row8_col10\" class=\"data row8 col10\" >-0.27212</td>\n",
       "      <td id=\"T_252d4_row8_col11\" class=\"data row8 col11\" >-0.17602</td>\n",
       "      <td id=\"T_252d4_row8_col12\" class=\"data row8 col12\" >-0.22957</td>\n",
       "      <td id=\"T_252d4_row8_col13\" class=\"data row8 col13\" >0.03431</td>\n",
       "    </tr>\n",
       "    <tr>\n",
       "      <th id=\"T_252d4_level0_row9\" class=\"row_heading level0 row9\" >Temp9am</th>\n",
       "      <td id=\"T_252d4_row9_col0\" class=\"data row9 col0\" >0.89776</td>\n",
       "      <td id=\"T_252d4_row9_col1\" class=\"data row9 col1\" >0.87937</td>\n",
       "      <td id=\"T_252d4_row9_col2\" class=\"data row9 col2\" >-0.11401</td>\n",
       "      <td id=\"T_252d4_row9_col3\" class=\"data row9 col3\" >0.10783</td>\n",
       "      <td id=\"T_252d4_row9_col4\" class=\"data row9 col4\" >0.15405</td>\n",
       "      <td id=\"T_252d4_row9_col5\" class=\"data row9 col5\" >0.13174</td>\n",
       "      <td id=\"T_252d4_row9_col6\" class=\"data row9 col6\" >-0.46854</td>\n",
       "      <td id=\"T_252d4_row9_col7\" class=\"data row9 col7\" >-0.21658</td>\n",
       "      <td id=\"T_252d4_row9_col8\" class=\"data row9 col8\" >-0.40342</td>\n",
       "      <td id=\"T_252d4_row9_col9\" class=\"data row9 col9\" >1.00000</td>\n",
       "      <td id=\"T_252d4_row9_col10\" class=\"data row9 col10\" >0.84621</td>\n",
       "      <td id=\"T_252d4_row9_col11\" class=\"data row9 col11\" >-0.09571</td>\n",
       "      <td id=\"T_252d4_row9_col12\" class=\"data row9 col12\" >-0.02546</td>\n",
       "      <td id=\"T_252d4_row9_col13\" class=\"data row9 col13\" >-0.13529</td>\n",
       "    </tr>\n",
       "    <tr>\n",
       "      <th id=\"T_252d4_level0_row10\" class=\"row_heading level0 row10\" >Temp3pm</th>\n",
       "      <td id=\"T_252d4_row10_col0\" class=\"data row10 col0\" >0.69915</td>\n",
       "      <td id=\"T_252d4_row10_col1\" class=\"data row10 col1\" >0.96890</td>\n",
       "      <td id=\"T_252d4_row10_col2\" class=\"data row10 col2\" >-0.26028</td>\n",
       "      <td id=\"T_252d4_row10_col3\" class=\"data row10 col3\" >0.11870</td>\n",
       "      <td id=\"T_252d4_row10_col4\" class=\"data row10 col4\" >0.03942</td>\n",
       "      <td id=\"T_252d4_row10_col5\" class=\"data row10 col5\" >0.00720</td>\n",
       "      <td id=\"T_252d4_row10_col6\" class=\"data row10 col6\" >-0.48963</td>\n",
       "      <td id=\"T_252d4_row10_col7\" class=\"data row10 col7\" >-0.55521</td>\n",
       "      <td id=\"T_252d4_row10_col8\" class=\"data row10 col8\" >-0.27212</td>\n",
       "      <td id=\"T_252d4_row10_col9\" class=\"data row10 col9\" >0.84621</td>\n",
       "      <td id=\"T_252d4_row10_col10\" class=\"data row10 col10\" >1.00000</td>\n",
       "      <td id=\"T_252d4_row10_col11\" class=\"data row10 col11\" >-0.22961</td>\n",
       "      <td id=\"T_252d4_row10_col12\" class=\"data row10 col12\" >-0.18773</td>\n",
       "      <td id=\"T_252d4_row10_col13\" class=\"data row10 col13\" >-0.17273</td>\n",
       "    </tr>\n",
       "    <tr>\n",
       "      <th id=\"T_252d4_level0_row11\" class=\"row_heading level0 row11\" >RainToday</th>\n",
       "      <td id=\"T_252d4_row11_col0\" class=\"data row11 col0\" >0.05457</td>\n",
       "      <td id=\"T_252d4_row11_col1\" class=\"data row11 col1\" >-0.22528</td>\n",
       "      <td id=\"T_252d4_row11_col2\" class=\"data row11 col2\" >0.96354</td>\n",
       "      <td id=\"T_252d4_row11_col3\" class=\"data row11 col3\" >-0.03491</td>\n",
       "      <td id=\"T_252d4_row11_col4\" class=\"data row11 col4\" >0.14613</td>\n",
       "      <td id=\"T_252d4_row11_col5\" class=\"data row11 col5\" >0.09827</td>\n",
       "      <td id=\"T_252d4_row11_col6\" class=\"data row11 col6\" >0.34842</td>\n",
       "      <td id=\"T_252d4_row11_col7\" class=\"data row11 col7\" >0.36794</td>\n",
       "      <td id=\"T_252d4_row11_col8\" class=\"data row11 col8\" >-0.17602</td>\n",
       "      <td id=\"T_252d4_row11_col9\" class=\"data row11 col9\" >-0.09571</td>\n",
       "      <td id=\"T_252d4_row11_col10\" class=\"data row11 col10\" >-0.22961</td>\n",
       "      <td id=\"T_252d4_row11_col11\" class=\"data row11 col11\" >1.00000</td>\n",
       "      <td id=\"T_252d4_row11_col12\" class=\"data row11 col12\" >0.30574</td>\n",
       "      <td id=\"T_252d4_row11_col13\" class=\"data row11 col13\" >0.01044</td>\n",
       "    </tr>\n",
       "    <tr>\n",
       "      <th id=\"T_252d4_level0_row12\" class=\"row_heading level0 row12\" >RainTomorrow</th>\n",
       "      <td id=\"T_252d4_row12_col0\" class=\"data row12 col0\" >0.08218</td>\n",
       "      <td id=\"T_252d4_row12_col1\" class=\"data row12 col1\" >-0.15666</td>\n",
       "      <td id=\"T_252d4_row12_col2\" class=\"data row12 col2\" >0.32628</td>\n",
       "      <td id=\"T_252d4_row12_col3\" class=\"data row12 col3\" >-0.05686</td>\n",
       "      <td id=\"T_252d4_row12_col4\" class=\"data row12 col4\" >0.21852</td>\n",
       "      <td id=\"T_252d4_row12_col5\" class=\"data row12 col5\" >0.08487</td>\n",
       "      <td id=\"T_252d4_row12_col6\" class=\"data row12 col6\" >0.25224</td>\n",
       "      <td id=\"T_252d4_row12_col7\" class=\"data row12 col7\" >0.43318</td>\n",
       "      <td id=\"T_252d4_row12_col8\" class=\"data row12 col8\" >-0.22957</td>\n",
       "      <td id=\"T_252d4_row12_col9\" class=\"data row12 col9\" >-0.02546</td>\n",
       "      <td id=\"T_252d4_row12_col10\" class=\"data row12 col10\" >-0.18773</td>\n",
       "      <td id=\"T_252d4_row12_col11\" class=\"data row12 col11\" >0.30574</td>\n",
       "      <td id=\"T_252d4_row12_col12\" class=\"data row12 col12\" >1.00000</td>\n",
       "      <td id=\"T_252d4_row12_col13\" class=\"data row12 col13\" >0.00767</td>\n",
       "    </tr>\n",
       "    <tr>\n",
       "      <th id=\"T_252d4_level0_row13\" class=\"row_heading level0 row13\" >Month</th>\n",
       "      <td id=\"T_252d4_row13_col0\" class=\"data row13 col0\" >-0.20274</td>\n",
       "      <td id=\"T_252d4_row13_col1\" class=\"data row13 col1\" >-0.16319</td>\n",
       "      <td id=\"T_252d4_row13_col2\" class=\"data row13 col2\" >0.01196</td>\n",
       "      <td id=\"T_252d4_row13_col3\" class=\"data row13 col3\" >-0.07399</td>\n",
       "      <td id=\"T_252d4_row13_col4\" class=\"data row13 col4\" >0.05828</td>\n",
       "      <td id=\"T_252d4_row13_col5\" class=\"data row13 col5\" >0.05148</td>\n",
       "      <td id=\"T_252d4_row13_col6\" class=\"data row13 col6\" >-0.08907</td>\n",
       "      <td id=\"T_252d4_row13_col7\" class=\"data row13 col7\" >-0.01857</td>\n",
       "      <td id=\"T_252d4_row13_col8\" class=\"data row13 col8\" >0.03431</td>\n",
       "      <td id=\"T_252d4_row13_col9\" class=\"data row13 col9\" >-0.13529</td>\n",
       "      <td id=\"T_252d4_row13_col10\" class=\"data row13 col10\" >-0.17273</td>\n",
       "      <td id=\"T_252d4_row13_col11\" class=\"data row13 col11\" >0.01044</td>\n",
       "      <td id=\"T_252d4_row13_col12\" class=\"data row13 col12\" >0.00767</td>\n",
       "      <td id=\"T_252d4_row13_col13\" class=\"data row13 col13\" >1.00000</td>\n",
       "    </tr>\n",
       "  </tbody>\n",
       "</table>\n"
      ],
      "text/plain": [
       "<pandas.io.formats.style.Styler at 0x1ec8388b760>"
      ]
     },
     "execution_count": 171,
     "metadata": {},
     "output_type": "execute_result"
    }
   ],
   "source": [
    "# PLot Correlation Matrix\n",
    "\n",
    "corr = df.corr()\n",
    "corr.style.background_gradient(cmap='PuBu').set_precision(5)"
   ]
  },
  {
   "cell_type": "code",
   "execution_count": 145,
   "metadata": {},
   "outputs": [],
   "source": [
    "df.drop(columns=['Location', 'WindSpeed3pm','WindDir3pm', 'WindDir9am', 'Pressure3pm', 'Month'],axis=1, inplace=True)"
   ]
  },
  {
   "cell_type": "markdown",
   "metadata": {},
   "source": [
    "Analisis\n",
    "- Drop kolom disini dilakukan karena ada beberapa fitur yang tidak berkorelasi\n",
    "  - `WindSpeed3pm` memiliki nilai yang hampir mirip dengan `WindSpeed9am` sehingga bisa di drop \n",
    "  - `Pressure3pm` memiliki nilai yang hampir mirip dengan `Pressure9am` sehingga bisa di drop\n",
    "  - `WindDir3pm`, `WindSpeed9am` dan `Location`  memiliki nilai yang mendekati nol dengan fitur lain sehingga bisa di drop \n",
    "  - `Month` memiliki korelasi yang kecil dengan `RainToday` sehingga bisa di drop \n",
    "  - Ke-6 fitur di atas juga memiliki korelasi kecil (mendekati nol) dengan `RainToday` dan `RainTomorow`, terutama `RainTomorrow` yang akan menjadi variabel dependent\n",
    "- Fitur yang berkorelasi kuat dengan hampir semua fitur adalah Humidity. \n",
    "- Fitur yang berkorelasi kuat dengan `RainTomorrow` adalah `RainFall`, `Humidity`, dan `RainToday`"
   ]
  },
  {
   "cell_type": "markdown",
   "metadata": {},
   "source": [
    "#### Splitting Data"
   ]
  },
  {
   "cell_type": "code",
   "execution_count": 146,
   "metadata": {},
   "outputs": [],
   "source": [
    "y = df[\"RainTomorrow\"]  # dependent variable\n",
    "x = df.drop([\"RainTomorrow\"],axis = 1)  # indepedent variable  "
   ]
  },
  {
   "cell_type": "code",
   "execution_count": 147,
   "metadata": {},
   "outputs": [
    {
     "name": "stderr",
     "output_type": "stream",
     "text": [
      "c:\\ProgramData\\Anaconda3\\lib\\site-packages\\seaborn\\_decorators.py:36: FutureWarning: Pass the following variable as a keyword arg: x. From version 0.12, the only valid positional argument will be `data`, and passing other arguments without an explicit keyword will result in an error or misinterpretation.\n",
      "  warnings.warn(\n"
     ]
    },
    {
     "data": {
      "text/plain": [
       "<AxesSubplot:xlabel='RainTomorrow', ylabel='count'>"
      ]
     },
     "execution_count": 147,
     "metadata": {},
     "output_type": "execute_result"
    },
    {
     "data": {
      "image/png": "[encoded data removed]",
      "text/plain": [
       "<Figure size 576x360 with 1 Axes>"
      ]
     },
     "metadata": {},
     "output_type": "display_data"
    }
   ],
   "source": [
    "# Explore dependent variable\n",
    "\n",
    "sns.countplot(df[\"RainTomorrow\"])"
   ]
  },
  {
   "cell_type": "markdown",
   "metadata": {},
   "source": [
    "### Pendefinisian Model"
   ]
  },
  {
   "cell_type": "markdown",
   "metadata": {},
   "source": [
    "#### Splitting Data Into Training and Testing"
   ]
  },
  {
   "cell_type": "code",
   "execution_count": 148,
   "metadata": {},
   "outputs": [],
   "source": [
    "x_train, x_test, y_train,y_test = train_test_split(x,y,test_size = 0.2)"
   ]
  },
  {
   "cell_type": "code",
   "execution_count": 149,
   "metadata": {},
   "outputs": [
    {
     "name": "stdout",
     "output_type": "stream",
     "text": [
      "Length of Training Data: 116368\n",
      "Length of Testing Data: 29092\n"
     ]
    }
   ],
   "source": [
    "print(\"Length of Training Data: {}\".format(len(x_train)))\n",
    "print(\"Length of Testing Data: {}\".format(len(x_test)))"
   ]
  },
  {
   "cell_type": "markdown",
   "metadata": {},
   "source": [
    "#### Feature Scaling"
   ]
  },
  {
   "cell_type": "markdown",
   "metadata": {},
   "source": [
    "Feature scaling adalah metode yang digunakan untuk menormalkan rentang variabel independen atau fitur data."
   ]
  },
  {
   "cell_type": "code",
   "execution_count": 165,
   "metadata": {},
   "outputs": [
    {
     "data": {
      "text/plain": [
       "array([[-3.29602703e-01, -3.15385312e-01,  6.54114189e-01, ...,\n",
       "        -1.59811929e-01, -5.29955069e-01, -1.17773698e-01],\n",
       "       [ 8.97052102e-01,  5.76892174e-01,  1.92958246e+00, ...,\n",
       "         7.64491483e-01,  1.88695242e+00, -9.92641116e-01],\n",
       "       [ 5.98251573e-01,  1.03011248e+00, -6.21354083e-01, ...,\n",
       "        -4.51583062e-04, -5.29955069e-01,  1.73848774e-01],\n",
       "       ...,\n",
       "       [-4.65285172e-02,  3.36118884e-01, -6.21354083e-01, ...,\n",
       "         4.56390345e-01, -5.29955069e-01, -7.01018644e-01],\n",
       "       [ 1.49465316e+00,  7.75176060e-01,  1.92958246e+00, ...,\n",
       "         6.91134069e-01,  1.88695242e+00, -1.28426359e+00],\n",
       "       [ 8.02694040e-01,  1.09508729e-01, -6.21354083e-01, ...,\n",
       "         1.33617725e-01, -5.29955069e-01, -1.28426359e+00]])"
      ]
     },
     "execution_count": 165,
     "metadata": {},
     "output_type": "execute_result"
    }
   ],
   "source": [
    "scaler = StandardScaler()\n",
    "x_train = scaler.fit_transform(x_train)\n"
   ]
  },
  {
   "cell_type": "code",
   "execution_count": 166,
   "metadata": {},
   "outputs": [
    {
     "data": {
      "text/plain": [
       "array([[ 0.92850479, -0.01795948, -0.62135408, ...,  0.03091735,\n",
       "        -0.52995507,  1.34033866],\n",
       "       [ 0.58252523,  0.4635871 ,  1.92958246, ...,  0.51507628,\n",
       "         1.88695242, -0.99264112],\n",
       "       [ 0.67688329,  0.4635871 , -0.62135408, ...,  0.4123759 ,\n",
       "        -0.52995507, -0.70101864],\n",
       "       ...,\n",
       "       [ 0.25227201,  1.44084339, -0.62135408, ...,  1.46872265,\n",
       "        -0.52995507, -1.57588606],\n",
       "       [-1.1945516 , -1.36345728, -0.62135408, ..., -1.39221648,\n",
       "        -0.52995507,  0.75709372],\n",
       "       [ 0.12646126, -0.1454277 , -0.62135408, ..., -0.14514045,\n",
       "        -0.52995507,  1.34033866]])"
      ]
     },
     "execution_count": 166,
     "metadata": {},
     "output_type": "execute_result"
    }
   ],
   "source": [
    "x_test = scaler.transform(x_test)"
   ]
  },
  {
   "cell_type": "markdown",
   "metadata": {},
   "source": [
    "#### Logistic Regression"
   ]
  },
  {
   "cell_type": "code",
   "execution_count": 152,
   "metadata": {},
   "outputs": [
    {
     "data": {
      "text/html": [
       "<style>#sk-container-id-3 {color: black;background-color: white;}#sk-container-id-3 pre{padding: 0;}#sk-container-id-3 div.sk-toggleable {background-color: white;}#sk-container-id-3 label.sk-toggleable__label {cursor: pointer;display: block;width: 100%;margin-bottom: 0;padding: 0.3em;box-sizing: border-box;text-align: center;}#sk-container-id-3 label.sk-toggleable__label-arrow:before {content: \"▸\";float: left;margin-right: 0.25em;color: #696969;}#sk-container-id-3 label.sk-toggleable__label-arrow:hover:before {color: black;}#sk-container-id-3 div.sk-estimator:hover label.sk-toggleable__label-arrow:before {color: black;}#sk-container-id-3 div.sk-toggleable__content {max-height: 0;max-width: 0;overflow: hidden;text-align: left;background-color: #f0f8ff;}#sk-container-id-3 div.sk-toggleable__content pre {margin: 0.2em;color: black;border-radius: 0.25em;background-color: #f0f8ff;}#sk-container-id-3 input.sk-toggleable__control:checked~div.sk-toggleable__content {max-height: 200px;max-width: 100%;overflow: auto;}#sk-container-id-3 input.sk-toggleable__control:checked~label.sk-toggleable__label-arrow:before {content: \"▾\";}#sk-container-id-3 div.sk-estimator input.sk-toggleable__control:checked~label.sk-toggleable__label {background-color: #d4ebff;}#sk-container-id-3 div.sk-label input.sk-toggleable__control:checked~label.sk-toggleable__label {background-color: #d4ebff;}#sk-container-id-3 input.sk-hidden--visually {border: 0;clip: rect(1px 1px 1px 1px);clip: rect(1px, 1px, 1px, 1px);height: 1px;margin: -1px;overflow: hidden;padding: 0;position: absolute;width: 1px;}#sk-container-id-3 div.sk-estimator {font-family: monospace;background-color: #f0f8ff;border: 1px dotted black;border-radius: 0.25em;box-sizing: border-box;margin-bottom: 0.5em;}#sk-container-id-3 div.sk-estimator:hover {background-color: #d4ebff;}#sk-container-id-3 div.sk-parallel-item::after {content: \"\";width: 100%;border-bottom: 1px solid gray;flex-grow: 1;}#sk-container-id-3 div.sk-label:hover label.sk-toggleable__label {background-color: #d4ebff;}#sk-container-id-3 div.sk-serial::before {content: \"\";position: absolute;border-left: 1px solid gray;box-sizing: border-box;top: 0;bottom: 0;left: 50%;z-index: 0;}#sk-container-id-3 div.sk-serial {display: flex;flex-direction: column;align-items: center;background-color: white;padding-right: 0.2em;padding-left: 0.2em;position: relative;}#sk-container-id-3 div.sk-item {position: relative;z-index: 1;}#sk-container-id-3 div.sk-parallel {display: flex;align-items: stretch;justify-content: center;background-color: white;position: relative;}#sk-container-id-3 div.sk-item::before, #sk-container-id-3 div.sk-parallel-item::before {content: \"\";position: absolute;border-left: 1px solid gray;box-sizing: border-box;top: 0;bottom: 0;left: 50%;z-index: -1;}#sk-container-id-3 div.sk-parallel-item {display: flex;flex-direction: column;z-index: 1;position: relative;background-color: white;}#sk-container-id-3 div.sk-parallel-item:first-child::after {align-self: flex-end;width: 50%;}#sk-container-id-3 div.sk-parallel-item:last-child::after {align-self: flex-start;width: 50%;}#sk-container-id-3 div.sk-parallel-item:only-child::after {width: 0;}#sk-container-id-3 div.sk-dashed-wrapped {border: 1px dashed gray;margin: 0 0.4em 0.5em 0.4em;box-sizing: border-box;padding-bottom: 0.4em;background-color: white;}#sk-container-id-3 div.sk-label label {font-family: monospace;font-weight: bold;display: inline-block;line-height: 1.2em;}#sk-container-id-3 div.sk-label-container {text-align: center;}#sk-container-id-3 div.sk-container {/* jupyter's `normalize.less` sets `[hidden] { display: none; }` but bootstrap.min.css set `[hidden] { display: none !important; }` so we also need the `!important` here to be able to override the default hidden behavior on the sphinx rendered scikit-learn.org. See: https://github.com/scikit-learn/scikit-learn/issues/21755 */display: inline-block !important;position: relative;}#sk-container-id-3 div.sk-text-repr-fallback {display: none;}</style><div id=\"sk-container-id-3\" class=\"sk-top-container\"><div class=\"sk-text-repr-fallback\"><pre>LogisticRegression(random_state=0, solver=&#x27;liblinear&#x27;)</pre><b>In a Jupyter environment, please rerun this cell to show the HTML representation or trust the notebook. <br />On GitHub, the HTML representation is unable to render, please try loading this page with nbviewer.org.</b></div><div class=\"sk-container\" hidden><div class=\"sk-item\"><div class=\"sk-estimator sk-toggleable\"><input class=\"sk-toggleable__control sk-hidden--visually\" id=\"sk-estimator-id-3\" type=\"checkbox\" checked><label for=\"sk-estimator-id-3\" class=\"sk-toggleable__label sk-toggleable__label-arrow\">LogisticRegression</label><div class=\"sk-toggleable__content\"><pre>LogisticRegression(random_state=0, solver=&#x27;liblinear&#x27;)</pre></div></div></div></div></div>"
      ],
      "text/plain": [
       "LogisticRegression(random_state=0, solver='liblinear')"
      ]
     },
     "execution_count": 152,
     "metadata": {},
     "output_type": "execute_result"
    }
   ],
   "source": [
    "\n",
    "classifier_logreg = LogisticRegression(solver='liblinear', random_state=0)\n",
    "classifier_logreg.fit(x_train, y_train)"
   ]
  },
  {
   "cell_type": "markdown",
   "metadata": {},
   "source": [
    "#### SVM"
   ]
  },
  {
   "cell_type": "code",
   "execution_count": 153,
   "metadata": {},
   "outputs": [
    {
     "data": {
      "text/html": [
       "<style>#sk-container-id-4 {color: black;background-color: white;}#sk-container-id-4 pre{padding: 0;}#sk-container-id-4 div.sk-toggleable {background-color: white;}#sk-container-id-4 label.sk-toggleable__label {cursor: pointer;display: block;width: 100%;margin-bottom: 0;padding: 0.3em;box-sizing: border-box;text-align: center;}#sk-container-id-4 label.sk-toggleable__label-arrow:before {content: \"▸\";float: left;margin-right: 0.25em;color: #696969;}#sk-container-id-4 label.sk-toggleable__label-arrow:hover:before {color: black;}#sk-container-id-4 div.sk-estimator:hover label.sk-toggleable__label-arrow:before {color: black;}#sk-container-id-4 div.sk-toggleable__content {max-height: 0;max-width: 0;overflow: hidden;text-align: left;background-color: #f0f8ff;}#sk-container-id-4 div.sk-toggleable__content pre {margin: 0.2em;color: black;border-radius: 0.25em;background-color: #f0f8ff;}#sk-container-id-4 input.sk-toggleable__control:checked~div.sk-toggleable__content {max-height: 200px;max-width: 100%;overflow: auto;}#sk-container-id-4 input.sk-toggleable__control:checked~label.sk-toggleable__label-arrow:before {content: \"▾\";}#sk-container-id-4 div.sk-estimator input.sk-toggleable__control:checked~label.sk-toggleable__label {background-color: #d4ebff;}#sk-container-id-4 div.sk-label input.sk-toggleable__control:checked~label.sk-toggleable__label {background-color: #d4ebff;}#sk-container-id-4 input.sk-hidden--visually {border: 0;clip: rect(1px 1px 1px 1px);clip: rect(1px, 1px, 1px, 1px);height: 1px;margin: -1px;overflow: hidden;padding: 0;position: absolute;width: 1px;}#sk-container-id-4 div.sk-estimator {font-family: monospace;background-color: #f0f8ff;border: 1px dotted black;border-radius: 0.25em;box-sizing: border-box;margin-bottom: 0.5em;}#sk-container-id-4 div.sk-estimator:hover {background-color: #d4ebff;}#sk-container-id-4 div.sk-parallel-item::after {content: \"\";width: 100%;border-bottom: 1px solid gray;flex-grow: 1;}#sk-container-id-4 div.sk-label:hover label.sk-toggleable__label {background-color: #d4ebff;}#sk-container-id-4 div.sk-serial::before {content: \"\";position: absolute;border-left: 1px solid gray;box-sizing: border-box;top: 0;bottom: 0;left: 50%;z-index: 0;}#sk-container-id-4 div.sk-serial {display: flex;flex-direction: column;align-items: center;background-color: white;padding-right: 0.2em;padding-left: 0.2em;position: relative;}#sk-container-id-4 div.sk-item {position: relative;z-index: 1;}#sk-container-id-4 div.sk-parallel {display: flex;align-items: stretch;justify-content: center;background-color: white;position: relative;}#sk-container-id-4 div.sk-item::before, #sk-container-id-4 div.sk-parallel-item::before {content: \"\";position: absolute;border-left: 1px solid gray;box-sizing: border-box;top: 0;bottom: 0;left: 50%;z-index: -1;}#sk-container-id-4 div.sk-parallel-item {display: flex;flex-direction: column;z-index: 1;position: relative;background-color: white;}#sk-container-id-4 div.sk-parallel-item:first-child::after {align-self: flex-end;width: 50%;}#sk-container-id-4 div.sk-parallel-item:last-child::after {align-self: flex-start;width: 50%;}#sk-container-id-4 div.sk-parallel-item:only-child::after {width: 0;}#sk-container-id-4 div.sk-dashed-wrapped {border: 1px dashed gray;margin: 0 0.4em 0.5em 0.4em;box-sizing: border-box;padding-bottom: 0.4em;background-color: white;}#sk-container-id-4 div.sk-label label {font-family: monospace;font-weight: bold;display: inline-block;line-height: 1.2em;}#sk-container-id-4 div.sk-label-container {text-align: center;}#sk-container-id-4 div.sk-container {/* jupyter's `normalize.less` sets `[hidden] { display: none; }` but bootstrap.min.css set `[hidden] { display: none !important; }` so we also need the `!important` here to be able to override the default hidden behavior on the sphinx rendered scikit-learn.org. See: https://github.com/scikit-learn/scikit-learn/issues/21755 */display: inline-block !important;position: relative;}#sk-container-id-4 div.sk-text-repr-fallback {display: none;}</style><div id=\"sk-container-id-4\" class=\"sk-top-container\"><div class=\"sk-text-repr-fallback\"><pre>SVC(kernel=&#x27;linear&#x27;)</pre><b>In a Jupyter environment, please rerun this cell to show the HTML representation or trust the notebook. <br />On GitHub, the HTML representation is unable to render, please try loading this page with nbviewer.org.</b></div><div class=\"sk-container\" hidden><div class=\"sk-item\"><div class=\"sk-estimator sk-toggleable\"><input class=\"sk-toggleable__control sk-hidden--visually\" id=\"sk-estimator-id-4\" type=\"checkbox\" checked><label for=\"sk-estimator-id-4\" class=\"sk-toggleable__label sk-toggleable__label-arrow\">SVC</label><div class=\"sk-toggleable__content\"><pre>SVC(kernel=&#x27;linear&#x27;)</pre></div></div></div></div></div>"
      ],
      "text/plain": [
       "SVC(kernel='linear')"
      ]
     },
     "execution_count": 153,
     "metadata": {},
     "output_type": "execute_result"
    }
   ],
   "source": [
    "\n",
    "classifier_svm = svm.SVC(kernel='linear')\n",
    "classifier_svm.fit(x_train,y_train)"
   ]
  },
  {
   "cell_type": "markdown",
   "metadata": {},
   "source": [
    "### Evaluasi Model"
   ]
  },
  {
   "cell_type": "markdown",
   "metadata": {},
   "source": [
    "#### Logistic Regression"
   ]
  },
  {
   "cell_type": "code",
   "execution_count": 154,
   "metadata": {},
   "outputs": [
    {
     "data": {
      "text/plain": [
       "array([0, 0, 0, ..., 0, 0, 0], dtype=int64)"
      ]
     },
     "execution_count": 154,
     "metadata": {},
     "output_type": "execute_result"
    }
   ],
   "source": [
    "# Model Testing\n",
    "y_pred_logreg = classifier_logreg.predict(x_test)\n",
    "y_pred_logreg"
   ]
  },
  {
   "cell_type": "code",
   "execution_count": 155,
   "metadata": {},
   "outputs": [
    {
     "name": "stdout",
     "output_type": "stream",
     "text": [
      "Confusion Matrix\n",
      "-----------------------------------------------------\n"
     ]
    },
    {
     "name": "stderr",
     "output_type": "stream",
     "text": [
      "c:\\ProgramData\\Anaconda3\\lib\\site-packages\\sklearn\\utils\\deprecation.py:87: FutureWarning: Function plot_confusion_matrix is deprecated; Function `plot_confusion_matrix` is deprecated in 1.0 and will be removed in 1.2. Use one of the class methods: ConfusionMatrixDisplay.from_predictions or ConfusionMatrixDisplay.from_estimator.\n",
      "  warnings.warn(msg, category=FutureWarning)\n"
     ]
    },
    {
     "data": {
      "image/png": "[encoded data removed]",
      "text/plain": [
       "<Figure size 576x360 with 2 Axes>"
      ]
     },
     "metadata": {},
     "output_type": "display_data"
    },
    {
     "name": "stdout",
     "output_type": "stream",
     "text": [
      "\n",
      "\n",
      "Classification Report\n",
      "-----------------------------------------------------\n",
      "              precision    recall  f1-score   support\n",
      "\n",
      "           0       0.86      0.95      0.90     22694\n",
      "           1       0.70      0.45      0.55      6398\n",
      "\n",
      "    accuracy                           0.84     29092\n",
      "   macro avg       0.78      0.70      0.73     29092\n",
      "weighted avg       0.83      0.84      0.82     29092\n",
      "\n",
      "\n",
      "\n",
      "ROC Curve\n",
      "-----------------------------------------------------\n"
     ]
    },
    {
     "name": "stderr",
     "output_type": "stream",
     "text": [
      "c:\\ProgramData\\Anaconda3\\lib\\site-packages\\sklearn\\utils\\deprecation.py:87: FutureWarning: Function plot_roc_curve is deprecated; Function :func:`plot_roc_curve` is deprecated in 1.0 and will be removed in 1.2. Use one of the class methods: :meth:`sklearn.metrics.RocCurveDisplay.from_predictions` or :meth:`sklearn.metrics.RocCurveDisplay.from_estimator`.\n",
      "  warnings.warn(msg, category=FutureWarning)\n"
     ]
    },
    {
     "data": {
      "image/png": "[encoded data removed]",
      "text/plain": [
       "<Figure size 576x360 with 1 Axes>"
      ]
     },
     "metadata": {},
     "output_type": "display_data"
    },
    {
     "name": "stdout",
     "output_type": "stream",
     "text": [
      "\n",
      "\n",
      "Checking model fitness\n",
      "-----------------------------------------------------\n",
      "Train score: 0.8383\n",
      "Test score:  0.8376\n",
      "\n",
      "\n"
     ]
    }
   ],
   "source": [
    "def conf_matrix(model, X_test, y_test, cmap='Blues'):\n",
    "    plot_confusion_matrix(model, X_test, y_test, cmap=cmap)\n",
    "    plt.grid()\n",
    "    plt.show()\n",
    "\n",
    "def roc_curve_custom(model, X_test, y_test):\n",
    "    plot_roc_curve(model, X_test, y_test)\n",
    "    plt.plot([0, 1], [0, 1], color='black', linestyle='--')\n",
    "    plt.show()\n",
    "    \n",
    "def evaluate(model, X_train=x_train, X_test=x_test, y_train=y_train, y_test=y_test, y_pred=y_pred_logreg):\n",
    "    # Confusion Matrix\n",
    "    print('Confusion Matrix')\n",
    "    print('-'*53)\n",
    "    conf_matrix(model, X_test, y_test)\n",
    "    print('\\n') \n",
    "    \n",
    "    # Classification Report\n",
    "    print('Classification Report') \n",
    "    print('-'*53)\n",
    "    print(classification_report(y_test, y_pred))\n",
    "    print('\\n')\n",
    "    \n",
    "    # ROC Curve\n",
    "    print('ROC Curve')\n",
    "    print('-'*53)\n",
    "    roc_curve_custom(model, X_test, y_test)\n",
    "    print('\\n')\n",
    "    \n",
    "    # Checking model fitness\n",
    "    print('Checking model fitness') \n",
    "    print('-'*53)\n",
    "    print('Train score:', round(model.score(X_train, y_train), 4))\n",
    "    print('Test score: ', round(model.score(X_test, y_test), 4))\n",
    "    print('\\n')\n",
    "    \n",
    "evaluate(classifier_logreg)"
   ]
  },
  {
   "cell_type": "markdown",
   "metadata": {},
   "source": [
    "Analisis\n",
    "- Performa yang layak untuk model dasar\n",
    "- Recall adalah titik terlemah, terutama untuk hari-hari di mana besok hujan\n",
    "- Modelnya pas, dengan skor train dan testing yang kurang lebih sama"
   ]
  },
  {
   "cell_type": "markdown",
   "metadata": {},
   "source": [
    "#### Mencoba Correcting Class Imbalance\n",
    "Ketidakseimbangan kelas saat ini ada untuk variabel target. Memperbaiki ini dapat membantu meningkatkan kinerja model. Gunakan sampel ulang data pelatihan menggunakan `SMOTE`."
   ]
  },
  {
   "cell_type": "code",
   "execution_count": 156,
   "metadata": {},
   "outputs": [
    {
     "name": "stdout",
     "output_type": "stream",
     "text": [
      "Original\n",
      "--------------------\n",
      "0    90889\n",
      "1    25479\n",
      "Name: RainTomorrow, dtype: int64\n",
      "\n",
      "\n",
      "SMOTE\n",
      "--------------------\n",
      "0    90889\n",
      "1    90889\n",
      "Name: RainTomorrow, dtype: int64\n"
     ]
    }
   ],
   "source": [
    "x_train_resampled, y_train_resampled = SMOTE().fit_resample(x_train, y_train)\n",
    "\n",
    "print('Original')\n",
    "print('-'*20)\n",
    "print(y_train.value_counts())\n",
    "print('\\n')\n",
    "print('SMOTE')\n",
    "print('-'*20)\n",
    "print(pd.Series(y_train_resampled).value_counts())"
   ]
  },
  {
   "cell_type": "code",
   "execution_count": 157,
   "metadata": {},
   "outputs": [
    {
     "data": {
      "text/plain": [
       "array([1, 0, 1, ..., 0, 0, 0], dtype=int64)"
      ]
     },
     "execution_count": 157,
     "metadata": {},
     "output_type": "execute_result"
    }
   ],
   "source": [
    "classifier_logreg_smote = LogisticRegression(solver='liblinear', random_state=42)\n",
    "classifier_logreg_smote.fit(x_train_resampled, y_train_resampled)\n",
    "y_pred_logreg_smote = classifier_logreg_smote.predict(x_test)\n",
    "y_pred_logreg_smote"
   ]
  },
  {
   "cell_type": "code",
   "execution_count": 158,
   "metadata": {},
   "outputs": [
    {
     "name": "stdout",
     "output_type": "stream",
     "text": [
      "Confusion Matrix\n",
      "-----------------------------------------------------\n"
     ]
    },
    {
     "name": "stderr",
     "output_type": "stream",
     "text": [
      "c:\\ProgramData\\Anaconda3\\lib\\site-packages\\sklearn\\utils\\deprecation.py:87: FutureWarning: Function plot_confusion_matrix is deprecated; Function `plot_confusion_matrix` is deprecated in 1.0 and will be removed in 1.2. Use one of the class methods: ConfusionMatrixDisplay.from_predictions or ConfusionMatrixDisplay.from_estimator.\n",
      "  warnings.warn(msg, category=FutureWarning)\n"
     ]
    },
    {
     "data": {
      "image/png": "[encoded data removed]",
      "text/plain": [
       "<Figure size 576x360 with 2 Axes>"
      ]
     },
     "metadata": {},
     "output_type": "display_data"
    },
    {
     "name": "stdout",
     "output_type": "stream",
     "text": [
      "\n",
      "\n",
      "Classification Report\n",
      "-----------------------------------------------------\n",
      "              precision    recall  f1-score   support\n",
      "\n",
      "           0       0.92      0.77      0.84     22694\n",
      "           1       0.48      0.75      0.59      6398\n",
      "\n",
      "    accuracy                           0.77     29092\n",
      "   macro avg       0.70      0.76      0.71     29092\n",
      "weighted avg       0.82      0.77      0.78     29092\n",
      "\n",
      "\n",
      "\n",
      "ROC Curve\n",
      "-----------------------------------------------------\n"
     ]
    },
    {
     "name": "stderr",
     "output_type": "stream",
     "text": [
      "c:\\ProgramData\\Anaconda3\\lib\\site-packages\\sklearn\\utils\\deprecation.py:87: FutureWarning: Function plot_roc_curve is deprecated; Function :func:`plot_roc_curve` is deprecated in 1.0 and will be removed in 1.2. Use one of the class methods: :meth:`sklearn.metrics.RocCurveDisplay.from_predictions` or :meth:`sklearn.metrics.RocCurveDisplay.from_estimator`.\n",
      "  warnings.warn(msg, category=FutureWarning)\n"
     ]
    },
    {
     "data": {
      "image/png": "[encoded data removed]",
      "text/plain": [
       "<Figure size 576x360 with 1 Axes>"
      ]
     },
     "metadata": {},
     "output_type": "display_data"
    },
    {
     "name": "stdout",
     "output_type": "stream",
     "text": [
      "\n",
      "\n",
      "Checking model fitness\n",
      "-----------------------------------------------------\n",
      "Train score: 0.7629\n",
      "Test score:  0.7686\n",
      "\n",
      "\n"
     ]
    }
   ],
   "source": [
    "evaluate(classifier_logreg_smote, X_train=x_train_resampled, y_train=y_train_resampled, y_pred=y_pred_logreg_smote)"
   ]
  },
  {
   "cell_type": "markdown",
   "metadata": {},
   "source": [
    "Analisis\n",
    "- Meskipun skor F1 positif sedikit meningkat, akurasi model ini menurun tajam\n",
    "- Model ini tetap fit tetapi skor untuk set kereta dan tes menurun\n",
    "- Ternyata menggunakan `SMOTE` memiliki kinerja yang lebih buruk dan tidak akan digunakan dalam iterasi berikutnya"
   ]
  },
  {
   "cell_type": "markdown",
   "metadata": {},
   "source": [
    "#### SVM"
   ]
  },
  {
   "cell_type": "code",
   "execution_count": 159,
   "metadata": {},
   "outputs": [
    {
     "data": {
      "text/plain": [
       "array([0, 0, 0, ..., 0, 0, 0], dtype=int64)"
      ]
     },
     "execution_count": 159,
     "metadata": {},
     "output_type": "execute_result"
    }
   ],
   "source": [
    "# Model Testing\n",
    "y_pred_svm = classifier_svm.predict(x_test)\n",
    "y_pred_svm"
   ]
  },
  {
   "cell_type": "code",
   "execution_count": 160,
   "metadata": {},
   "outputs": [
    {
     "name": "stdout",
     "output_type": "stream",
     "text": [
      "Confusion Matrix\n",
      "-----------------------------------------------------\n"
     ]
    },
    {
     "name": "stderr",
     "output_type": "stream",
     "text": [
      "c:\\ProgramData\\Anaconda3\\lib\\site-packages\\sklearn\\utils\\deprecation.py:87: FutureWarning: Function plot_confusion_matrix is deprecated; Function `plot_confusion_matrix` is deprecated in 1.0 and will be removed in 1.2. Use one of the class methods: ConfusionMatrixDisplay.from_predictions or ConfusionMatrixDisplay.from_estimator.\n",
      "  warnings.warn(msg, category=FutureWarning)\n"
     ]
    },
    {
     "data": {
      "image/png": "[encoded data removed]",
      "text/plain": [
       "<Figure size 576x360 with 2 Axes>"
      ]
     },
     "metadata": {},
     "output_type": "display_data"
    },
    {
     "name": "stdout",
     "output_type": "stream",
     "text": [
      "\n",
      "\n",
      "Classification Report\n",
      "-----------------------------------------------------\n",
      "              precision    recall  f1-score   support\n",
      "\n",
      "           0       0.86      0.95      0.90     22694\n",
      "           1       0.70      0.45      0.55      6398\n",
      "\n",
      "    accuracy                           0.84     29092\n",
      "   macro avg       0.78      0.70      0.73     29092\n",
      "weighted avg       0.83      0.84      0.82     29092\n",
      "\n",
      "\n",
      "\n",
      "ROC Curve\n",
      "-----------------------------------------------------\n"
     ]
    },
    {
     "name": "stderr",
     "output_type": "stream",
     "text": [
      "c:\\ProgramData\\Anaconda3\\lib\\site-packages\\sklearn\\utils\\deprecation.py:87: FutureWarning: Function plot_roc_curve is deprecated; Function :func:`plot_roc_curve` is deprecated in 1.0 and will be removed in 1.2. Use one of the class methods: :meth:`sklearn.metrics.RocCurveDisplay.from_predictions` or :meth:`sklearn.metrics.RocCurveDisplay.from_estimator`.\n",
      "  warnings.warn(msg, category=FutureWarning)\n"
     ]
    },
    {
     "data": {
      "image/png": "[encoded data removed]",
      "text/plain": [
       "<Figure size 576x360 with 1 Axes>"
      ]
     },
     "metadata": {},
     "output_type": "display_data"
    },
    {
     "name": "stdout",
     "output_type": "stream",
     "text": [
      "\n",
      "\n",
      "Checking model fitness\n",
      "-----------------------------------------------------\n",
      "Train score: 0.8386\n",
      "Test score:  0.8381\n",
      "\n",
      "\n"
     ]
    }
   ],
   "source": [
    "evaluate(classifier_svm)"
   ]
  },
  {
   "cell_type": "code",
   "execution_count": 161,
   "metadata": {},
   "outputs": [
    {
     "name": "stdout",
     "output_type": "stream",
     "text": [
      "Accuracy Score: 0.8381341949676887\n"
     ]
    }
   ],
   "source": [
    "# Model Accuracy\n",
    "print(\"Accuracy Score: {}\".format(accuracy_score(y_test,y_pred_svm)))"
   ]
  },
  {
   "cell_type": "code",
   "execution_count": 162,
   "metadata": {},
   "outputs": [
    {
     "name": "stdout",
     "output_type": "stream",
     "text": [
      "Train Data Score: 0.8386240203492369\n",
      "Test Data Score: 0.8381341949676887\n"
     ]
    }
   ],
   "source": [
    "# Model Score\n",
    "print(\"Train Data Score: {}\".format(classifier_svm.score(x_train, y_train)))\n",
    "print(\"Test Data Score: {}\".format(classifier_svm.score(x_test, y_test)))"
   ]
  },
  {
   "cell_type": "code",
   "execution_count": 163,
   "metadata": {},
   "outputs": [
    {
     "name": "stderr",
     "output_type": "stream",
     "text": [
      "c:\\ProgramData\\Anaconda3\\lib\\site-packages\\sklearn\\utils\\deprecation.py:87: FutureWarning: Function plot_confusion_matrix is deprecated; Function `plot_confusion_matrix` is deprecated in 1.0 and will be removed in 1.2. Use one of the class methods: ConfusionMatrixDisplay.from_predictions or ConfusionMatrixDisplay.from_estimator.\n",
      "  warnings.warn(msg, category=FutureWarning)\n"
     ]
    },
    {
     "data": {
      "text/plain": [
       "<sklearn.metrics._plot.confusion_matrix.ConfusionMatrixDisplay at 0x1ec82f2b6d0>"
      ]
     },
     "execution_count": 163,
     "metadata": {},
     "output_type": "execute_result"
    },
    {
     "data": {
      "image/png": "[encoded data removed]",
      "text/plain": [
       "<Figure size 576x360 with 2 Axes>"
      ]
     },
     "metadata": {},
     "output_type": "display_data"
    }
   ],
   "source": [
    "# Confussion Matrix\n",
    "\n",
    "plot_confusion_matrix(classifier_svm, x_test,y_test)\n"
   ]
  },
  {
   "cell_type": "markdown",
   "metadata": {},
   "source": [
    "### Model Inference"
   ]
  },
  {
   "cell_type": "code",
   "execution_count": 167,
   "metadata": {},
   "outputs": [
    {
     "data": {
      "text/html": [
       "<div>\n",
       "<style scoped>\n",
       "    .dataframe tbody tr th:only-of-type {\n",
       "        vertical-align: middle;\n",
       "    }\n",
       "\n",
       "    .dataframe tbody tr th {\n",
       "        vertical-align: top;\n",
       "    }\n",
       "\n",
       "    .dataframe thead th {\n",
       "        text-align: right;\n",
       "    }\n",
       "</style>\n",
       "<table border=\"1\" class=\"dataframe\">\n",
       "  <thead>\n",
       "    <tr style=\"text-align: right;\">\n",
       "      <th></th>\n",
       "      <th>MinTemp</th>\n",
       "      <th>MaxTemp</th>\n",
       "      <th>Rainfall</th>\n",
       "      <th>WindGustDir</th>\n",
       "      <th>WindGustSpeed</th>\n",
       "      <th>WindSpeed9am</th>\n",
       "      <th>Humidity9am</th>\n",
       "      <th>Humidity3pm</th>\n",
       "      <th>Pressure9am</th>\n",
       "      <th>Temp9am</th>\n",
       "      <th>Temp3pm</th>\n",
       "      <th>RainToday</th>\n",
       "      <th>Month</th>\n",
       "    </tr>\n",
       "  </thead>\n",
       "  <tbody>\n",
       "    <tr>\n",
       "      <th>0</th>\n",
       "      <td>13.4</td>\n",
       "      <td>22.900000</td>\n",
       "      <td>0.6</td>\n",
       "      <td>0</td>\n",
       "      <td>44.000000</td>\n",
       "      <td>20.0</td>\n",
       "      <td>71.0</td>\n",
       "      <td>22.0</td>\n",
       "      <td>1007.7</td>\n",
       "      <td>16.9</td>\n",
       "      <td>21.8</td>\n",
       "      <td>0</td>\n",
       "      <td>12</td>\n",
       "    </tr>\n",
       "    <tr>\n",
       "      <th>1</th>\n",
       "      <td>7.4</td>\n",
       "      <td>25.100000</td>\n",
       "      <td>0.0</td>\n",
       "      <td>1</td>\n",
       "      <td>44.000000</td>\n",
       "      <td>4.0</td>\n",
       "      <td>44.0</td>\n",
       "      <td>25.0</td>\n",
       "      <td>1010.6</td>\n",
       "      <td>17.2</td>\n",
       "      <td>24.3</td>\n",
       "      <td>0</td>\n",
       "      <td>12</td>\n",
       "    </tr>\n",
       "    <tr>\n",
       "      <th>2</th>\n",
       "      <td>12.9</td>\n",
       "      <td>25.700000</td>\n",
       "      <td>0.0</td>\n",
       "      <td>2</td>\n",
       "      <td>46.000000</td>\n",
       "      <td>19.0</td>\n",
       "      <td>38.0</td>\n",
       "      <td>30.0</td>\n",
       "      <td>1007.6</td>\n",
       "      <td>21.0</td>\n",
       "      <td>23.2</td>\n",
       "      <td>0</td>\n",
       "      <td>12</td>\n",
       "    </tr>\n",
       "    <tr>\n",
       "      <th>3</th>\n",
       "      <td>9.2</td>\n",
       "      <td>28.000000</td>\n",
       "      <td>0.0</td>\n",
       "      <td>3</td>\n",
       "      <td>24.000000</td>\n",
       "      <td>11.0</td>\n",
       "      <td>45.0</td>\n",
       "      <td>16.0</td>\n",
       "      <td>1017.6</td>\n",
       "      <td>18.1</td>\n",
       "      <td>26.5</td>\n",
       "      <td>0</td>\n",
       "      <td>12</td>\n",
       "    </tr>\n",
       "    <tr>\n",
       "      <th>4</th>\n",
       "      <td>17.5</td>\n",
       "      <td>32.300000</td>\n",
       "      <td>1.0</td>\n",
       "      <td>0</td>\n",
       "      <td>41.000000</td>\n",
       "      <td>7.0</td>\n",
       "      <td>82.0</td>\n",
       "      <td>33.0</td>\n",
       "      <td>1010.8</td>\n",
       "      <td>17.8</td>\n",
       "      <td>29.7</td>\n",
       "      <td>0</td>\n",
       "      <td>12</td>\n",
       "    </tr>\n",
       "    <tr>\n",
       "      <th>...</th>\n",
       "      <td>...</td>\n",
       "      <td>...</td>\n",
       "      <td>...</td>\n",
       "      <td>...</td>\n",
       "      <td>...</td>\n",
       "      <td>...</td>\n",
       "      <td>...</td>\n",
       "      <td>...</td>\n",
       "      <td>...</td>\n",
       "      <td>...</td>\n",
       "      <td>...</td>\n",
       "      <td>...</td>\n",
       "      <td>...</td>\n",
       "    </tr>\n",
       "    <tr>\n",
       "      <th>145455</th>\n",
       "      <td>2.8</td>\n",
       "      <td>23.400000</td>\n",
       "      <td>0.0</td>\n",
       "      <td>14</td>\n",
       "      <td>31.000000</td>\n",
       "      <td>13.0</td>\n",
       "      <td>51.0</td>\n",
       "      <td>24.0</td>\n",
       "      <td>1024.6</td>\n",
       "      <td>10.1</td>\n",
       "      <td>22.4</td>\n",
       "      <td>0</td>\n",
       "      <td>6</td>\n",
       "    </tr>\n",
       "    <tr>\n",
       "      <th>145456</th>\n",
       "      <td>3.6</td>\n",
       "      <td>25.300000</td>\n",
       "      <td>0.0</td>\n",
       "      <td>4</td>\n",
       "      <td>22.000000</td>\n",
       "      <td>13.0</td>\n",
       "      <td>56.0</td>\n",
       "      <td>21.0</td>\n",
       "      <td>1023.5</td>\n",
       "      <td>10.9</td>\n",
       "      <td>24.5</td>\n",
       "      <td>0</td>\n",
       "      <td>6</td>\n",
       "    </tr>\n",
       "    <tr>\n",
       "      <th>145457</th>\n",
       "      <td>5.4</td>\n",
       "      <td>26.900000</td>\n",
       "      <td>0.0</td>\n",
       "      <td>5</td>\n",
       "      <td>37.000000</td>\n",
       "      <td>9.0</td>\n",
       "      <td>53.0</td>\n",
       "      <td>24.0</td>\n",
       "      <td>1021.0</td>\n",
       "      <td>12.5</td>\n",
       "      <td>26.1</td>\n",
       "      <td>0</td>\n",
       "      <td>6</td>\n",
       "    </tr>\n",
       "    <tr>\n",
       "      <th>145458</th>\n",
       "      <td>7.8</td>\n",
       "      <td>27.000000</td>\n",
       "      <td>0.0</td>\n",
       "      <td>12</td>\n",
       "      <td>28.000000</td>\n",
       "      <td>13.0</td>\n",
       "      <td>51.0</td>\n",
       "      <td>24.0</td>\n",
       "      <td>1019.4</td>\n",
       "      <td>15.1</td>\n",
       "      <td>26.0</td>\n",
       "      <td>0</td>\n",
       "      <td>6</td>\n",
       "    </tr>\n",
       "    <tr>\n",
       "      <th>145459</th>\n",
       "      <td>14.9</td>\n",
       "      <td>23.224781</td>\n",
       "      <td>0.0</td>\n",
       "      <td>0</td>\n",
       "      <td>39.837792</td>\n",
       "      <td>17.0</td>\n",
       "      <td>62.0</td>\n",
       "      <td>36.0</td>\n",
       "      <td>1020.2</td>\n",
       "      <td>15.0</td>\n",
       "      <td>20.9</td>\n",
       "      <td>0</td>\n",
       "      <td>6</td>\n",
       "    </tr>\n",
       "  </tbody>\n",
       "</table>\n",
       "<p>145460 rows × 13 columns</p>\n",
       "</div>"
      ],
      "text/plain": [
       "        MinTemp    MaxTemp  Rainfall  WindGustDir  WindGustSpeed  \\\n",
       "0          13.4  22.900000       0.6            0      44.000000   \n",
       "1           7.4  25.100000       0.0            1      44.000000   \n",
       "2          12.9  25.700000       0.0            2      46.000000   \n",
       "3           9.2  28.000000       0.0            3      24.000000   \n",
       "4          17.5  32.300000       1.0            0      41.000000   \n",
       "...         ...        ...       ...          ...            ...   \n",
       "145455      2.8  23.400000       0.0           14      31.000000   \n",
       "145456      3.6  25.300000       0.0            4      22.000000   \n",
       "145457      5.4  26.900000       0.0            5      37.000000   \n",
       "145458      7.8  27.000000       0.0           12      28.000000   \n",
       "145459     14.9  23.224781       0.0            0      39.837792   \n",
       "\n",
       "        WindSpeed9am  Humidity9am  Humidity3pm  Pressure9am  Temp9am  Temp3pm  \\\n",
       "0               20.0         71.0         22.0       1007.7     16.9     21.8   \n",
       "1                4.0         44.0         25.0       1010.6     17.2     24.3   \n",
       "2               19.0         38.0         30.0       1007.6     21.0     23.2   \n",
       "3               11.0         45.0         16.0       1017.6     18.1     26.5   \n",
       "4                7.0         82.0         33.0       1010.8     17.8     29.7   \n",
       "...              ...          ...          ...          ...      ...      ...   \n",
       "145455          13.0         51.0         24.0       1024.6     10.1     22.4   \n",
       "145456          13.0         56.0         21.0       1023.5     10.9     24.5   \n",
       "145457           9.0         53.0         24.0       1021.0     12.5     26.1   \n",
       "145458          13.0         51.0         24.0       1019.4     15.1     26.0   \n",
       "145459          17.0         62.0         36.0       1020.2     15.0     20.9   \n",
       "\n",
       "        RainToday  Month  \n",
       "0               0     12  \n",
       "1               0     12  \n",
       "2               0     12  \n",
       "3               0     12  \n",
       "4               0     12  \n",
       "...           ...    ...  \n",
       "145455          0      6  \n",
       "145456          0      6  \n",
       "145457          0      6  \n",
       "145458          0      6  \n",
       "145459          0      6  \n",
       "\n",
       "[145460 rows x 13 columns]"
      ]
     },
     "execution_count": 167,
     "metadata": {},
     "output_type": "execute_result"
    }
   ],
   "source": [
    "x"
   ]
  },
  {
   "cell_type": "code",
   "execution_count": 176,
   "metadata": {},
   "outputs": [
    {
     "name": "stdout",
     "output_type": "stream",
     "text": [
      "Tidak Hujan\n"
     ]
    }
   ],
   "source": [
    "# Buat variabel\n",
    "min_temp = 13.4\n",
    "max_temp = 22.900\n",
    "rainfall = 0.6\n",
    "wind_gust_dir = 0\n",
    "wind_gust_speed = 44.0\n",
    "wind_speed_9am = 20.0\n",
    "humidity_9am = 71.0\n",
    "humidity_3pm = 22.0\n",
    "pressure_9am = 1007.7\n",
    "temp_9am =16.9\n",
    "temp_3pm = 21.8\n",
    "rain_today = 0 #0(tidak hujan) atau 1(hujan)\n",
    "\n",
    "# Fungsi\n",
    "def predict_logreg(input):\n",
    "  if (classifier_logreg.predict(input) == [0]):\n",
    "    print('Tidak Hujan');\n",
    "  else:\n",
    "    print('Hujan');\n",
    "\n",
    "def predict_svm(input):\n",
    "  if (classifier_svm.predict(input) == [0]):\n",
    "    print('Tidak Hujan');\n",
    "  else:\n",
    "    print('Hujan');\n"
   ]
  },
  {
   "cell_type": "code",
   "execution_count": null,
   "metadata": {},
   "outputs": [],
   "source": [
    "print('Hasil Prediksi Logreg')\n",
    "predict_logreg([[min_temp, max_temp, rainfall, wind_gust_dir, wind_gust_speed, wind_speed_9am, humidity_9am, humidity_3pm, pressure_9am, temp_9am, temp_3pm, rain_today ]])\n",
    "\n",
    "print('Hasil Prediksi SVM')\n",
    "predict_svm([[min_temp, max_temp, rainfall, wind_gust_dir, wind_gust_speed, wind_speed_9am, humidity_9am, humidity_3pm, pressure_9am, temp_9am, temp_3pm, rain_today ]])"
   ]
  },
  {
   "cell_type": "markdown",
   "metadata": {},
   "source": [
    "Export model dengan menggunakan library picke"
   ]
  },
  {
   "cell_type": "code",
   "execution_count": 168,
   "metadata": {},
   "outputs": [],
   "source": [
    "pickle.dump(classifier_logreg, open('model/classifier_logreg','wb'))\n",
    "pickle.dump(classifier_svm, open('model/classifier_svm','wb'))"
   ]
  },
  {
   "cell_type": "markdown",
   "metadata": {},
   "source": [
    "### Pengambilan Kesimpulan"
   ]
  },
  {
   "cell_type": "markdown",
   "metadata": {},
   "source": [
    "- Dataset ini terdapat banyak missing value. Missing value direplace dengan modus untuk categorical data, dengan mean untuk numerical data. Sebelum itu, juga dicek apakah ada outlier atau tidak karena mean sangat rentan dengan outlier. Didapatkan outlier tertinggi pada fitur Rainfall. Outlier dihilangkan dengan membatasi data menggunakan quantile Q3 dan Q1. Untuk invalid format, ada pada kolom Date sehingga diektraksi menjadi Day, Month, Year. Namun, Day dan Year tidak terlalu berpengaruh ke prediksi akhirnya dihilangkan. Setelah proses ini data dipastikan tidak ada missing value dan invalid format tabel.\n",
    "- Pada bagian ekplorasi data, dilakukan eksplorasi dengan mengecek Grafik Distribusi Semua Kolom dan didapatkan kebanyakan distribusi normal. Setelah itu dicek juga distribusi MinTemp dan MaxTemp berdasarkan lokasi. Pada bagian ini juga ditemukan fitur yang memiliki fitur besar terhadap variabel dependent `RainTommorow` yaitu `RainFall`, `Humidity`, dan `RainToday`. Fitur yang di drop adalah `Location`, `Month`, `WindSpeed3pm`, `Pressure3pm`, `WindDir3pm`, `WindSpeed9am` karena memiliki korelasi yang sangat kecil dengan fitur lainnya dan terutama fitur `RainToday`. Sebelumnya, dilakukan pengetesan akurasi tanpa drop kolom, dan hasilnya akurasi hampir sama hanya ada perbedaan nilai 1%.\n",
    "- Setelah dilakukan modeling menggunakan algoritma Logistic Linear didapatkan akurasi sebesar 83%. Pada tahap awal visualisasi data terlihat bahwa dataset mengalami ketidakseimbangan data pada variabel target, maka dari itu dilakukan percobaan menggunakan metode oversampling SMOTE untuk mendapatkan data yang seimbang. Setelah melakukan oversampling didapatkan akurasi sebesar 0.73 / 70%. Hal ini memperburuk hasila akurasi dan tidak akan digunakan model ini. Untuk perbandingan Precision, Recall, Fscore rata-rata nilai lebih seimbang pada oversampling SMOTE tapi lebih kecil dibanding tanpa menggunakan oversampling.\n",
    "- Untuk algoritma SVM mendapatkan akurasi yang sama dengan Logistic Linear yaitu 83%. Pembuatan model dengan SVM lebih lama dilakukan karena kompleksitas algortima ini kira-kira O(n_samples^2 * n_features). Untuk perbandingan Precision, Recall, Fscore rata-rata nilai kurang lebih sama dengan Logistic Linear."
   ]
  }
 ],
 "metadata": {
  "kernelspec": {
   "display_name": "Python 3.9.7 ('base')",
   "language": "python",
   "name": "python3"
  },
  "language_info": {
   "codemirror_mode": {
    "name": "ipython",
    "version": 3
   },
   "file_extension": ".py",
   "mimetype": "text/x-python",
   "name": "python",
   "nbconvert_exporter": "python",
   "pygments_lexer": "ipython3",
   "version": "3.9.7"
  },
  "orig_nbformat": 4,
  "vscode": {
   "interpreter": {
    "hash": "ad2bdc8ecc057115af97d19610ffacc2b4e99fae6737bb82f5d7fb13d2f2c186"
   }
  }
 },
 "nbformat": 4,
 "nbformat_minor": 2
}
